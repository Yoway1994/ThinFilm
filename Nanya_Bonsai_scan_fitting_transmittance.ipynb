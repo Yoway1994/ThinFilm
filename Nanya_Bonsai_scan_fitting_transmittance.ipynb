{
 "cells": [
  {
   "cell_type": "code",
   "execution_count": 2,
   "metadata": {},
   "outputs": [],
   "source": [
    "import numpy as np\n",
    "import pandas as pd\n",
    "import material as ml\n",
    "import thinfilm as tm\n",
    "import matplotlib.pyplot as plt\n",
    "from scipy.optimize import differential_evolution, minimize"
   ]
  },
  {
   "cell_type": "code",
   "execution_count": 3,
   "metadata": {},
   "outputs": [],
   "source": [
    "T_Nanya = [92.15,92,92.07,92.26,92.47,92.57,92.62,92.61,92.62,92.78,92.92,92.89,92.82,92.77,92.73,92.69,92.64,92.57,92.45,92.2,91.96,91.9,91.87,91.8,91.69,91.5,91.31,91.21,91.11,90.96,90.72]\n",
    "w_Nanya = np.linspace(400,700,31)\n",
    "w_Nanya2 = np.linspace(400,700,61)"
   ]
  },
  {
   "cell_type": "code",
   "execution_count": 4,
   "metadata": {},
   "outputs": [],
   "source": [
    "wl = np.linspace(380, 780, 401)\n",
    "sec = pd.read_csv('./spectrum/Nanya/Bonsai_R_5_2nd.csv')['SCAN'].values\n",
    "tap = pd.read_csv('./spectrum/Nanya/Bonsai_R_5_B.csv')['SCAN'].values\n",
    "T1 = pd.read_csv('./spectrum/Nanya/Bonsai_T_0.csv')['SCAN'].values\n",
    "T1_Macleod = pd.read_csv('./spectrum/Nanya/Bonsai_Macleod_T.csv')['T_0'].values\n",
    "T2_Macleod = pd.read_csv('./spectrum/Nanya/Bonsai_Macleod_T.csv')['T_00'].values\n",
    "\n",
    "air = ml.Non_Dispersion(1)\n",
    "SiO2 = ml.open_material('SiO2_Nanya', 'Material')\n",
    "NB = ml.open_material('Nb2O5_Nanya', 'Material')\n",
    "ITO2 = ml.open_material('ITO_Nanya', 'Material')\n",
    "ITO1 = ml.open_material('ITO1_Nanya', 'Material')\n",
    "OC = ml.open_material('OC_Nanya', 'Material')\n",
    "sodalime_Nanya = ml.open_material('sodalime_Nanya', 'Material')\n",
    "glass = ml.Non_Dispersion(1.5)"
   ]
  },
  {
   "cell_type": "code",
   "execution_count": 5,
   "metadata": {},
   "outputs": [],
   "source": [
    "hypoU = lambda th:tm.Design(\n",
    "    [air, SiO2, ITO2, SiO2, NB, sodalime_Nanya],\n",
    "    [None, th[0], th[1], th[2], th[3], None]\n",
    ")\n",
    "\n",
    "hypoD = lambda th:tm.Design(\n",
    "    [sodalime_Nanya, NB, SiO2, ITO2, SiO2, air],\n",
    "    [None, th[3], th[2], th[1], th[0], None]\n",
    ")\n",
    "\n",
    "Bare_glass = tm.Design(\n",
    "    [sodalime_Nanya, air],\n",
    "    [None, None]\n",
    ")\n",
    "\n",
    "RB, TB  = Bare_glass.reflec_trans(wl)\n",
    "hypo_T = lambda th:(hypoU(th).transmittance(wl)*TB)/(1-hypoD(th).reflectance(wl)*RB)\n",
    "fom = lambda th:sum(abs(hypo_T(th)-T1/100+th[-1]))"
   ]
  },
  {
   "cell_type": "code",
   "execution_count": 11,
   "metadata": {},
   "outputs": [
    {
     "name": "stdout",
     "output_type": "stream",
     "text": [
      "[7.00000000e+01 2.50000000e+01 3.00000000e+01 8.06864252e+00\n",
      " 3.11428768e-02]\n"
     ]
    }
   ],
   "source": [
    "sol = differential_evolution(fom, [(70, 80), (25,32), (30, 50), (6,10),(-0.5,0.5)])\n",
    "print(sol.x)"
   ]
  },
  {
   "cell_type": "code",
   "execution_count": 14,
   "metadata": {},
   "outputs": [
    {
     "name": "stdout",
     "output_type": "stream",
     "text": [
      "[ 6.14198007e+01 -3.32954298e+01  1.56874799e+02  5.83329744e+00\n",
      " -6.23645266e-02]\n"
     ]
    }
   ],
   "source": [
    "sol2 = minimize(fom, sol.x, method='Nelder-Mead')\n",
    "print(sol2.x)"
   ]
  },
  {
   "cell_type": "code",
   "execution_count": 9,
   "metadata": {},
   "outputs": [
    {
     "data": {
      "image/png": "[encoded data removed]",
      "text/plain": [
       "<Figure size 432x288 with 1 Axes>"
      ]
     },
     "metadata": {
      "needs_background": "light"
     },
     "output_type": "display_data"
    }
   ],
   "source": [
    "f1 = [70, 28, 40, 6]\n",
    "f2 = [76, 30, 45.3, 7.8]\n",
    "tk = f1\n",
    "#plt.plot(wl, hypoU(f1).transmittance(wl),'--b')\n",
    "#plt.plot(w_Nanya, np.array(T_Nanya)/100, '-r', label = 'measurement')\n",
    "plt.plot(wl, T1/100,'-k', label = 'measurement')\n",
    "#plt.plot(w_Nanya2, np.array(T1_Macleod)/100, '--b', label = 'Macleod')\n",
    "plt.plot(wl, hypo_T(tk), '--b', label = 'fitting')\n",
    "plt.legend(loc = 'best')\n",
    "#plt.savefig('Nanya_Bonsai_T.png')\n",
    "plt.show()\n",
    "#plt.plot(w_Nanya2, np.array(T2_Macleod)/100)\n",
    "#plt.plot(wl, hypo_T(sol.x), '-b', label = 'fitting')\n",
    "#plt.show()"
   ]
  }
 ],
 "metadata": {
  "kernelspec": {
   "display_name": "Python 3",
   "language": "python",
   "name": "python3"
  },
  "language_info": {
   "codemirror_mode": {
    "name": "ipython",
    "version": 3
   },
   "file_extension": ".py",
   "mimetype": "text/x-python",
   "name": "python",
   "nbconvert_exporter": "python",
   "pygments_lexer": "ipython3",
   "version": "3.8.2"
  }
 },
 "nbformat": 4,
 "nbformat_minor": 4
}
