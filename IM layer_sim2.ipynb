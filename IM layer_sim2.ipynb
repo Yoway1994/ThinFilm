{
 "cells": [
  {
   "cell_type": "code",
   "execution_count": 1,
   "metadata": {},
   "outputs": [],
   "source": [
    "import numpy as np\n",
    "import pandas as pd\n",
    "import matplotlib.pyplot as plt\n",
    "from numpy import pi, sin, cos, dot"
   ]
  },
  {
   "cell_type": "code",
   "execution_count": 54,
   "metadata": {},
   "outputs": [],
   "source": [
    "class TF:\n",
    "    def __init__(self, n, d):\n",
    "        self.index = n\n",
    "        self.thickness = d\n",
    "        \n",
    "    def matrix(self, w):\n",
    "        delta = 2*pi*(self.index)*(self.thickness)/w\n",
    "        ita = self.index\n",
    "        element = pd.DataFrame(\n",
    "            {'e1':cos(delta), 'e2':1j/ita*sin(delta), 'e3':1j*ita*sin(delta), 'e4':cos(delta)}\n",
    "        )\n",
    "        matrix = np.reshape(element.values.reshape(1,-1), (np.size(w), 2, 2))\n",
    "        return matrix\n",
    "    \n",
    "def Matrix_dot(layer_up, layer_bot): \n",
    "    w, _, _ = np.shape(layer_up)\n",
    "    eq = [dot(layer_up[i], layer_bot[i]) for i in range(w)]\n",
    "    return eq\n",
    "\n",
    "def Eq_TF_Matrix(design):\n",
    "    eq_matrix = design.pop()\n",
    "    for i, layer in enumerate(design):\n",
    "        eq_matrix = Matrix_dot(design[-i-1], eq_matrix)\n",
    "    return eq_matrix\n",
    "\n",
    "def Eq_admittance(eq, ns):\n",
    "    d, _, _ = np.shape(eq)\n",
    "    eq_y = dot(eq, np.array([[1], [ns]])) \n",
    "    Eq_y = pd.DataFrame(np.reshape(eq_y, (d, 2)), columns = ['B','C'])\n",
    "    Y = Eq_y['C']/Eq_y['B']\n",
    "    return Y.values.reshape(d, 1)\n",
    "    \n",
    "def Reflectance(eq, ns, n0):\n",
    "    eq_Y = Eq_admittance(eq, ns)\n",
    "    r = (n0-eq_Y)/(n0+eq_Y)\n",
    "    R = np.reshape(r*r.conjugate(), np.size(eq_Y))\n",
    "    return np.real(R)"
   ]
  },
  {
   "cell_type": "code",
   "execution_count": 183,
   "metadata": {},
   "outputs": [],
   "source": [
    "def derivative(f1, f2, dx):\n",
    "    return (f2 - f1)/dx\n",
    "\n",
    "def FoM(hofx, target):\n",
    "    merit = 100*sum(abs(hofx-target))\n",
    "    return merit"
   ]
  },
  {
   "cell_type": "code",
   "execution_count": 184,
   "metadata": {},
   "outputs": [],
   "source": [
    "target_w = np.linspace(400, 700, 500)\n",
    "substrate = 1.5 # glass \n",
    "ambient = 1 # air\n",
    "### layer information\n",
    "IM1 = TF(2,58).matrix(target_w)\n",
    "YITO = TF(1.9, 23).matrix(target_w)\n",
    "Bridge = TF(1.8, 1200).matrix(target_w)\n",
    "XITO = TF(1.9, 23).matrix(target_w)\n",
    "IM2 = TF(2, 58).matrix(target_w)\n",
    "PL = TF(1.4, 2000).matrix(target_w)\n",
    "ITO = TF(1.9, 23).matrix(target_w)"
   ]
  },
  {
   "cell_type": "code",
   "execution_count": 185,
   "metadata": {},
   "outputs": [],
   "source": [
    "n_IM1 = 2\n",
    "n_IM2 = 2\n",
    "n_ITO = 1.9\n",
    "d_IM1 = 58\n",
    "d_IM2 = 58\n",
    "d_ITO = 23\n",
    "step = 10**(-12)\n",
    "w_target = np.linspace(400, 700, 500)"
   ]
  },
  {
   "cell_type": "code",
   "execution_count": 186,
   "metadata": {},
   "outputs": [
    {
     "data": {
      "image/png": "[encoded data removed]",
      "text/plain": [
       "<Figure size 432x288 with 1 Axes>"
      ]
     },
     "metadata": {
      "needs_background": "light"
     },
     "output_type": "display_data"
    }
   ],
   "source": [
    "cost = []\n",
    "costi = []\n",
    "n_i = []\n",
    "for i in range(500):\n",
    "    alpha1 = 0.000001\n",
    "    alpha2 = 0.000001\n",
    "    ####\n",
    "    IM1 = TF(n_IM1, d_IM1).matrix(w_target)\n",
    "    IM2 = TF(n_IM2, d_IM2).matrix(w_target)\n",
    "    tf_matrix = Eq_TF_Matrix([IM2, ITO, IM1])\n",
    "    \n",
    "    IM1_dn = TF(n_IM1+step, d_IM1).matrix(w_target)\n",
    "    tf_matrix_dn1 = Eq_TF_Matrix([IM2, ITO, IM1_dn])\n",
    "    \n",
    "    IM2_dn = TF(n_IM2+step, d_IM2).matrix(w_target)\n",
    "    tf_matrix_dn2 = Eq_TF_Matrix([IM2_dn, ITO, IM1])\n",
    "    ####\n",
    "    tf_matrix_target = Eq_TF_Matrix([IM1])\n",
    "    R_target = Reflectance(tf_matrix_target, substrate, ambient)\n",
    "    \n",
    "    R_hofx = Reflectance(tf_matrix, substrate, ambient)\n",
    "    R_hofx_dn1 = Reflectance(tf_matrix_dn1, substrate, ambient)\n",
    "    R_hofx_dn2 = Reflectance(tf_matrix_dn2, substrate, ambient)\n",
    "    \n",
    "    J = FoM(R_hofx, R_target)\n",
    "    J_dn1 = FoM(R_hofx_dn1, R_target)\n",
    "    J_dn2 = FoM(R_hofx_dn2, R_target)\n",
    "    ###    \n",
    "    Grad_J1 = derivative(J, J_dn1, step)\n",
    "    Grad_J2 = derivative(J, J_dn2, step)\n",
    "    #print(J, J_dx)\n",
    "    #print(Grad_J)\n",
    "    #print(Grad_J)\n",
    "    n_IM1 = n_IM1-alpha1*Grad_J1\n",
    "    n_IM2 = n_IM2-alpha2*Grad_J2\n",
    "    cost.append(J)\n",
    "    costi.append(i)\n",
    "    n_i.append([n_IM1,n_IM2])\n",
    "plt.plot(costi, cost)\n",
    "plt.show()"
   ]
  },
  {
   "cell_type": "code",
   "execution_count": 187,
   "metadata": {
    "scrolled": true
   },
   "outputs": [
    {
     "name": "stdout",
     "output_type": "stream",
     "text": [
      "[1.7734431644857978, 2.0330346665577963]\n"
     ]
    }
   ],
   "source": [
    "print(n_i[-1])"
   ]
  },
  {
   "cell_type": "code",
   "execution_count": 119,
   "metadata": {},
   "outputs": [],
   "source": [
    "nIM1 = 1.7734\n",
    "nIM2 = 2.0333"
   ]
  },
  {
   "cell_type": "code",
   "execution_count": 188,
   "metadata": {},
   "outputs": [
    {
     "data": {
      "image/png": "[encoded data removed]",
      "text/plain": [
       "<Figure size 432x288 with 1 Axes>"
      ]
     },
     "metadata": {
      "needs_background": "light"
     },
     "output_type": "display_data"
    }
   ],
   "source": [
    "IM1 = TF(1.7734, 58).matrix(target_w)\n",
    "IM2 = TF(2.0330, 58).matrix(target_w)\n",
    "ITO = TF(1.9, 23).matrix(target_w)\n",
    "tf_matrix_1 = Eq_TF_Matrix([IM2, ITO, IM1])\n",
    "tf_matrix_2 = Eq_TF_Matrix([IM1])\n",
    "R1 = Reflectance(tf_matrix_1, substrate, ambient)\n",
    "R2 = Reflectance(tf_matrix_2, substrate, ambient)\n",
    "plt.plot(w_target, R1, w_target, R2)\n",
    "plt.show()"
   ]
  },
  {
   "cell_type": "code",
   "execution_count": 203,
   "metadata": {},
   "outputs": [],
   "source": [
    "step = 10**(-12)\n",
    "substrate = 1.5\n",
    "ambient = 1\n",
    "\n",
    "w_target = np.linspace(400, 700, 500)\n",
    "IM1 = TF(1.7734, 58).matrix(w_target)\n",
    "IM2 = TF(2.0330, 58).matrix(w_target)\n",
    "ITO = TF(1.9, 23).matrix(w_target)\n",
    "###\n",
    "tf_matrix_1 = Eq_TF_Matrix([IM2, ITO, IM1])\n",
    "tf_matrix_2 = Eq_TF_Matrix([IM1])\n",
    "###\n",
    "R1 = Reflectance(tf_matrix_1, substrate, ambient)\n",
    "R2 = Reflectance(tf_matrix_2, substrate, ambient)"
   ]
  },
  {
   "cell_type": "code",
   "execution_count": 206,
   "metadata": {},
   "outputs": [
    {
     "data": {
      "text/plain": [
       "-1.1610268302320037"
      ]
     },
     "execution_count": 206,
     "metadata": {},
     "output_type": "execute_result"
    }
   ],
   "source": [
    "### dIM1_n\n",
    "IM1_dn = TF(1.7734 + step, 58).matrix(w_target)\n",
    "tf_matrix_1_dn1 = Eq_TF_Matrix([IM2, ITO, IM1_dn])\n",
    "tf_matrix_2_dn1 = Eq_TF_Matrix([IM1_dn])\n",
    "R1_dn1 = Reflectance(tf_matrix_1_dn1, substrate, ambient)\n",
    "R2_dn1 = Reflectance(tf_matrix_2_dn1, substrate, ambient)\n",
    "def delta_R(R1, R2):\n",
    "    return sum(abs(R1- R2))\n",
    "derivative(delta_R(R1, R2), delta_R(R1_dn1, R2_dn1), step)/5"
   ]
  },
  {
   "cell_type": "code",
   "execution_count": 207,
   "metadata": {},
   "outputs": [
    {
     "data": {
      "text/plain": [
       "0.04050093593832571"
      ]
     },
     "execution_count": 207,
     "metadata": {},
     "output_type": "execute_result"
    }
   ],
   "source": [
    "### dIM2_n\n",
    "IM2_dn = TF(2.0330 + step, 58).matrix(w_target)\n",
    "tf_matrix_1_dn2 = Eq_TF_Matrix([IM2_dn, ITO, IM1])\n",
    "tf_matrix_2_dn2 = Eq_TF_Matrix([IM1])\n",
    "R1_dn2 = Reflectance(tf_matrix_1_dn2, substrate, ambient)\n",
    "R2_dn2 = Reflectance(tf_matrix_2_dn2, substrate, ambient)\n",
    "derivative(delta_R(R1, R2), delta_R(R1_dn2, R2_dn2), step)/5"
   ]
  },
  {
   "cell_type": "code",
   "execution_count": 208,
   "metadata": {},
   "outputs": [
    {
     "data": {
      "text/plain": [
       "-0.06927791673660977"
      ]
     },
     "execution_count": 208,
     "metadata": {},
     "output_type": "execute_result"
    }
   ],
   "source": [
    "### dIM1_t\n",
    "IM1_dt = TF(1.7734, 58+step).matrix(w_target)\n",
    "tf_matrix_1_dt1 = Eq_TF_Matrix([IM2, ITO, IM1_dt])\n",
    "tf_matrix_2_dt1 = Eq_TF_Matrix([IM1_dt])\n",
    "R1_dt1 = Reflectance(tf_matrix_1_dt1, substrate, ambient)\n",
    "R2_dt1 = Reflectance(tf_matrix_2_dt1, substrate, ambient)\n",
    "derivative(delta_R(R1, R2), delta_R(R1_dt1, R2_dt1), step)/5"
   ]
  },
  {
   "cell_type": "code",
   "execution_count": 209,
   "metadata": {},
   "outputs": [
    {
     "data": {
      "text/plain": [
       "-0.03339550858072471"
      ]
     },
     "execution_count": 209,
     "metadata": {},
     "output_type": "execute_result"
    }
   ],
   "source": [
    "### dIM2_t\n",
    "IM2_dt = TF(2.0330, 58+step).matrix(w_target)\n",
    "tf_matrix_1_dt2 = Eq_TF_Matrix([IM2_dt, ITO, IM1])\n",
    "tf_matrix_2_dt2 = Eq_TF_Matrix([IM1])\n",
    "R1_dt2 = Reflectance(tf_matrix_1_dt2, substrate, ambient)\n",
    "R2_dt2 = Reflectance(tf_matrix_2_dt2, substrate, ambient)\n",
    "derivative(delta_R(R1, R2), delta_R(R1_dt2, R2_dt2), step)/5"
   ]
  },
  {
   "cell_type": "code",
   "execution_count": 210,
   "metadata": {},
   "outputs": [
    {
     "data": {
      "text/plain": [
       "2.305711177541525"
      ]
     },
     "execution_count": 210,
     "metadata": {},
     "output_type": "execute_result"
    }
   ],
   "source": [
    "### dITO_n\n",
    "ITO_dn = TF(1.9+ step, 23).matrix(w_target)\n",
    "tf_matrix_1_dnITO = Eq_TF_Matrix([IM2, ITO_dn, IM1])\n",
    "tf_matrix_2_dnITO = Eq_TF_Matrix([IM1])\n",
    "R1_dnITO = Reflectance(tf_matrix_1_dnITO, substrate, ambient)\n",
    "R2_dnITO = Reflectance(tf_matrix_2_dnITO, substrate, ambient)\n",
    "derivative(delta_R(R1, R2), delta_R(R1_dnITO, R2_dnITO), step)/5"
   ]
  },
  {
   "cell_type": "code",
   "execution_count": 211,
   "metadata": {},
   "outputs": [
    {
     "data": {
      "text/plain": [
       "-0.04369837824924616"
      ]
     },
     "execution_count": 211,
     "metadata": {},
     "output_type": "execute_result"
    }
   ],
   "source": [
    "### dITO_t\n",
    "ITO_dt = TF(1.9, 23+step).matrix(w_target)\n",
    "tf_matrix_1_dtITO = Eq_TF_Matrix([IM2, ITO_dt, IM1])\n",
    "tf_matrix_2_dtITO = Eq_TF_Matrix([IM1])\n",
    "R1_dtITO = Reflectance(tf_matrix_1_dtITO, substrate, ambient)\n",
    "R2_dtITO = Reflectance(tf_matrix_2_dtITO, substrate, ambient)\n",
    "derivative(delta_R(R1, R2), delta_R(R1_dtITO, R2_dtITO), step)/5"
   ]
  }
 ],
 "metadata": {
  "kernelspec": {
   "display_name": "Python 3",
   "language": "python",
   "name": "python3"
  },
  "language_info": {
   "codemirror_mode": {
    "name": "ipython",
    "version": 3
   },
   "file_extension": ".py",
   "mimetype": "text/x-python",
   "name": "python",
   "nbconvert_exporter": "python",
   "pygments_lexer": "ipython3",
   "version": "3.8.2"
  }
 },
 "nbformat": 4,
 "nbformat_minor": 4
}
