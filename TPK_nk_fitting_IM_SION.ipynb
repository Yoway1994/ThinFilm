{
 "cells": [
  {
   "cell_type": "code",
   "execution_count": 3,
   "metadata": {},
   "outputs": [
    {
     "name": "stdout",
     "output_type": "stream",
     "text": [
      "1.8152840028676651\n"
     ]
    }
   ],
   "source": [
    "import pandas as pd\n",
    "import numpy as np\n",
    "import matplotlib.pyplot as plt\n",
    "import material as ml\n",
    "from scipy.optimize import root_scalar, newton\n",
    "\n",
    "def n1(x): # SiO2\n",
    "    x = x/1000\n",
    "    n=(1+0.6961663/(1-(0.0684043/x)**2)+0.4079426/(1-(0.1162414/x)**2)+0.8974794/(1-(9.896161/x)**2))**.5\n",
    "    return n\n",
    "\n",
    "def n2(x): # Si3N4\n",
    "    x = x/1000\n",
    "    n=(1+3.0249/(1-(0.1353406/x)**2)+40314/(1-(1239.842/x)**2))**.5\n",
    "    return n    \n",
    "\n",
    "vr = 5.88/4.64*(14/27.9)\n",
    "w = 550\n",
    "def SiNO(n):\n",
    "    return vr*(n1(w)**2-n**2)/(n1(w)**2+2*n**2) + (n2(w)**2-n**2)/(n2(w)**2+2*n**2)\n",
    "\n",
    "sol = newton(SiNO, 1)\n",
    "print(sol)"
   ]
  },
  {
   "cell_type": "code",
   "execution_count": 5,
   "metadata": {},
   "outputs": [
    {
     "name": "stdout",
     "output_type": "stream",
     "text": [
      "1.5385528006803928\n"
     ]
    }
   ],
   "source": [
    "vv = 3.579/2.876*(5/75)\n",
    "def poly(n):\n",
    "    return vv*(2.19**2-n**2)/(2.19**2+2*n**2) + (1.49**2-n**2)/(1.49**2+2*n**2)\n",
    "res = newton(poly, 1)\n",
    "print(res)"
   ]
  }
 ],
 "metadata": {
  "kernelspec": {
   "display_name": "Python 3",
   "language": "python",
   "name": "python3"
  },
  "language_info": {
   "codemirror_mode": {
    "name": "ipython",
    "version": 3
   },
   "file_extension": ".py",
   "mimetype": "text/x-python",
   "name": "python",
   "nbconvert_exporter": "python",
   "pygments_lexer": "ipython3",
   "version": "3.8.2"
  }
 },
 "nbformat": 4,
 "nbformat_minor": 4
}
