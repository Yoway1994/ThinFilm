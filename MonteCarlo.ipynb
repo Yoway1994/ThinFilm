{
 "cells": [
  {
   "cell_type": "code",
   "execution_count": 3,
   "metadata": {},
   "outputs": [],
   "source": [
    "import time\n",
    "import numpy as np\n",
    "import pandas as pd\n",
    "import random\n",
    "import matplotlib.pyplot as plt\n",
    "from numpy import pi, sin, cos, dot, tensordot\n",
    "from numpy.linalg import multi_dot\n",
    "from interval import Interval"
   ]
  },
  {
   "cell_type": "code",
   "execution_count": 4,
   "metadata": {},
   "outputs": [],
   "source": [
    "class TF:\n",
    "    def __init__(self, n, d):\n",
    "        self.index = n\n",
    "        self.thickness = d\n",
    "        \n",
    "    def matrix(self, w):\n",
    "        delta = 2*pi*(self.index)*(self.thickness)/w\n",
    "        ita = self.index\n",
    "        element = pd.DataFrame(\n",
    "            {'e1':cos(delta), 'e2':1j/ita*sin(delta), 'e3':1j*ita*sin(delta), 'e4':cos(delta)}\n",
    "        )\n",
    "        matrix = np.reshape(element.values.reshape(1,-1), (np.size(w), 2, 2))\n",
    "        return matrix"
   ]
  },
  {
   "cell_type": "code",
   "execution_count": 5,
   "metadata": {},
   "outputs": [],
   "source": [
    "def Eq_dl(layer_2, layer_1, ns):\n",
    "    eq = dot(\n",
    "        [dot(layer_2[i], layer_1[i]) for i in range(np.size(target_w))],\n",
    "        np.array([[1], [ns]]))\n",
    "    d, _, _ = np.shape(eq)\n",
    "    y = pd.DataFrame(np.reshape(eq, (d, 2)), columns = ['B','C'])\n",
    "    Y = y['C']/y['B']\n",
    "    return Y.values.reshape(d, 1)\n",
    "    \n",
    "def R(Eq, n0):\n",
    "    r = (1-Eq)/(1+Eq)\n",
    "    R = np.reshape(r*r.conjugate(), np.size(Eq))\n",
    "    return np.real(R)\n",
    "\n",
    "def FoM(r_hypo, r_target):\n",
    "    M = sum((r_hypo-r_target))\n",
    "    return M\n",
    "\n",
    "def MonteCarlo(x, delta):\n",
    "    delta = random.uniform(-delta, delta)\n",
    "    return x + delta \n",
    "    "
   ]
  },
  {
   "cell_type": "code",
   "execution_count": 24,
   "metadata": {},
   "outputs": [
    {
     "name": "stdout",
     "output_type": "stream",
     "text": [
      "0.058393890938937904\n",
      "[[287, 224]]\n"
     ]
    },
    {
     "data": {
      "image/png": "[encoded data removed]",
      "text/plain": [
       "<Figure size 432x288 with 1 Axes>"
      ]
     },
     "metadata": {
      "needs_background": "light"
     },
     "output_type": "display_data"
    },
    {
     "data": {
      "text/plain": [
       "[<matplotlib.lines.Line2D at 0xd6ba710>]"
      ]
     },
     "execution_count": 24,
     "metadata": {},
     "output_type": "execute_result"
    },
    {
     "data": {
      "image/png": "[encoded data removed]",
      "text/plain": [
       "<Figure size 432x288 with 1 Axes>"
      ]
     },
     "metadata": {
      "needs_background": "light"
     },
     "output_type": "display_data"
    }
   ],
   "source": [
    "# parameter\n",
    "target_w = np.linspace(1350,1550, 100)\n",
    "target_R = np.zeros(np.size(target_w))\n",
    "substrate = 1.8\n",
    "m = np.size(target_w)\n",
    "# initial value\n",
    "d1 = 287\n",
    "d2 = 224\n",
    "layer1 = TF(2.1, d1).matrix(target_w)\n",
    "layer2 = TF(1.42, d2).matrix(target_w)\n",
    "pre_M = np.inf\n",
    "merit = []\n",
    "thickness = []\n",
    "# iteration\n",
    "for i in range(1000):\n",
    "    if d1 in Interval(75, 500) and d2 in Interval(75, 500):\n",
    "        layer1 = TF(2.1, d1).matrix(target_w)\n",
    "        layer2 = TF(1.42, d2).matrix(target_w)\n",
    "        R_hypo = R(Eq_dl(layer2, layer1, substrate), 1)\n",
    "        M = FoM(R_hypo, target_R)\n",
    "        if M < pre_M:\n",
    "            merit.append(M)\n",
    "            d1_fine = d1\n",
    "            d2_fine = d2\n",
    "            thickness.append([d1_fine, d2_fine])\n",
    "            d1 = MonteCarlo(d1, 1)\n",
    "            d2 = MonteCarlo(d2, 1)\n",
    "            merit.append(M)\n",
    "            pre_M = M\n",
    "    else:\n",
    "        d1 = MonteCarlo(d1, 1)\n",
    "        d2 = MonteCarlo(d2, 1)\n",
    "    \n",
    "    \n",
    "\n",
    "print(M)\n",
    "print(thickness)\n",
    "plt.plot(target_w, R_hypo)\n",
    "plt.show()\n",
    "plt.plot(range(np.size(merit)),merit)"
   ]
  }
 ],
 "metadata": {
  "kernelspec": {
   "display_name": "Python 3",
   "language": "python",
   "name": "python3"
  },
  "language_info": {
   "codemirror_mode": {
    "name": "ipython",
    "version": 3
   },
   "file_extension": ".py",
   "mimetype": "text/x-python",
   "name": "python",
   "nbconvert_exporter": "python",
   "pygments_lexer": "ipython3",
   "version": "3.7.0"
  }
 },
 "nbformat": 4,
 "nbformat_minor": 2
}
