{
 "cells": [
  {
   "cell_type": "code",
   "execution_count": 6,
   "metadata": {},
   "outputs": [],
   "source": [
    "import numpy as np\n",
    "import pandas as pd\n",
    "import thinfilm as tm\n",
    "import material as ml\n",
    "import matplotlib.pyplot as plt\n",
    "from scipy.optimize import differential_evolution as de"
   ]
  },
  {
   "cell_type": "code",
   "execution_count": 7,
   "metadata": {},
   "outputs": [],
   "source": [
    "# open measurement file\n",
    "scan_file = pd.read_csv('./measurement/R_5_B6.csv')\n",
    "scan = scan_file['SCAN'].values\n",
    "# open material\n",
    "sodalime = ml.open_material('sodalime', 'Material')\n",
    "OC_LENS = ml.open_material('OC_LENS', 'Material')\n",
    "air = ml.Non_Dispersion(1)\n",
    "# material guess\n",
    "SiO2_t = ml.Non_Dispersion(1.51)\n",
    "SiN_t = ml.Non_Dispersion(2)\n",
    "ITO_t = ml.Non_Dispersion(1.85)\n",
    "SiO2_t.k = 1e-7\n",
    "ITO_t.k = 3.8e-2\n",
    "SiN_t.k = 1e-5"
   ]
  },
  {
   "cell_type": "code",
   "execution_count": 9,
   "metadata": {},
   "outputs": [
    {
     "name": "stdout",
     "output_type": "stream",
     "text": [
      "[400. 401. 402. 403. 404. 405. 406. 407. 408. 409. 410.]\n"
     ]
    }
   ],
   "source": [
    "# set target wavelength\n",
    "x = 0\n",
    "target_w = np.linspace(400, 700, 301)[x:x+11]\n",
    "target_R = (scan[x:x+11] - 0.11)/100\n",
    "print(target_w)"
   ]
  },
  {
   "cell_type": "code",
   "execution_count": 11,
   "metadata": {},
   "outputs": [],
   "source": [
    "# set figure of merit\n",
    "def fom(th):\n",
    "    SiO2_t.n = th[6]\n",
    "    SiN_t.n = th[7] \n",
    "    ITO_t.n = th[8] \n",
    "    hypo_R = tm.Design(\n",
    "        [air, OC_LENS, SiN_t, SiO2_t, ITO_t, SiO2_t, SiN_t, sodalime],\n",
    "        [None, th[0], th[1], th[2], th[3], th[4], th[5], None]\n",
    "    ).reflectance(target_w, 5)\n",
    "    return sum(abs(target_R - hypo_R))"
   ]
  },
  {
   "cell_type": "code",
   "execution_count": 13,
   "metadata": {},
   "outputs": [
    {
     "name": "stdout",
     "output_type": "stream",
     "text": [
      "Optimization terminated successfully.\n",
      "[1.89098109e+03 1.17965985e+01 5.09701195e+01 2.59930392e+01\n",
      " 5.99791277e+01 1.19960431e+01 1.51189229e+00 2.04099351e+00\n",
      " 1.89426840e+00]\n"
     ]
    }
   ],
   "source": [
    "tht = [(1600,2000),(8,12),(40,60),(20,26),(40,60),(8,12),\n",
    "       (1.511,1.517),(1.999, 2.041), (1.743,1.937)]\n",
    "sol = de(fom, tht)\n",
    "print(sol.message)\n",
    "print(sol.x)"
   ]
  },
  {
   "cell_type": "code",
   "execution_count": 14,
   "metadata": {},
   "outputs": [],
   "source": [
    "pd.DataFrame({405:sol.x}).to_csv('./c_f/405.csv')"
   ]
  },
  {
   "cell_type": "code",
   "execution_count": 16,
   "metadata": {},
   "outputs": [
    {
     "data": {
      "image/png": "[encoded data removed]",
      "text/plain": [
       "<Figure size 432x288 with 1 Axes>"
      ]
     },
     "metadata": {
      "needs_background": "light"
     },
     "output_type": "display_data"
    }
   ],
   "source": [
    "def hyp(th):\n",
    "    SiO2_t.n = th[6]\n",
    "    SiN_t.n = th[7] \n",
    "    ITO_t.n = th[8] \n",
    "    hypo_R = tm.Design(\n",
    "        [air, OC_LENS, SiN_t, SiO2_t, ITO_t, SiO2_t, SiN_t, sodalime],\n",
    "        [None, th[0], th[1], th[2], th[3], th[4], th[5], None]\n",
    "    ).reflectance(target_w, 5)\n",
    "    return hypo_R\n",
    "\n",
    "plt.plot(target_w, target_R)\n",
    "plt.plot(target_w, hyp(sol.x))\n",
    "#plt.savefig('highn.png')\n",
    "plt.show()"
   ]
  }
 ],
 "metadata": {
  "kernelspec": {
   "display_name": "Python 3",
   "language": "python",
   "name": "python3"
  },
  "language_info": {
   "codemirror_mode": {
    "name": "ipython",
    "version": 3
   },
   "file_extension": ".py",
   "mimetype": "text/x-python",
   "name": "python",
   "nbconvert_exporter": "python",
   "pygments_lexer": "ipython3",
   "version": "3.8.2"
  }
 },
 "nbformat": 4,
 "nbformat_minor": 4
}
