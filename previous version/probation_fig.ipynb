{
 "cells": [
  {
   "cell_type": "code",
   "execution_count": null,
   "metadata": {},
   "outputs": [],
   "source": [
    "import numpy as np\n",
    "import material as ml\n",
    "import thinfilm as tm\n",
    "import matplotlib.pyplot as plt\n",
    "from scipy.optimize import minimize, differential_evolution"
   ]
  },
  {
   "cell_type": "code",
   "execution_count": null,
   "metadata": {},
   "outputs": [],
   "source": [
    "sodalime = ml.open_material('sodalime', 'Material')\n",
    "SiN = ml.open_material('SiN', 'Sellmeier')\n",
    "SiO2 = ml.open_material('SiO2', 'Sellmeier')\n",
    "ITO = ml.open_material('ITO', 'Sellmeier')\n",
    "Acrylic = ml.open_material('Acrylic', 'Sellmeier')\n",
    "air = ml.Non_Dispersion(1)\n",
    "ml_t = ml.Non_Dispersion(1.91592661)\n",
    "ml_t2 = ml.Non_Dispersion(1.8)\n",
    "LOCA = ml.Non_Dispersion(1.4)"
   ]
  },
  {
   "cell_type": "code",
   "execution_count": null,
   "metadata": {},
   "outputs": [],
   "source": [
    "TE = []\n",
    "TM = []\n",
    "Ravg = []\n",
    "angle = []\n",
    "wl = np.linspace(400, 700, 50)\n",
    "\n",
    "model = tm.Design([air, SiO2, SiN, sodalime], [None, 20, 20, None])\n",
    "for a in range(0, 90):\n",
    "    S = sum(model.reflectance(wl, a, 'S'))/np.size(wl)\n",
    "    P = sum(model.reflectance(wl, a, 'P'))/np.size(wl)\n",
    "    TE.append(S)\n",
    "    TM.append(P)\n",
    "    Ravg.append((S+P)/2)\n",
    "    angle.append(a)\n",
    "plt.plot(angle, TE, 'b--', label = 'TE')\n",
    "plt.plot(angle, TM, 'r--', label = 'TM')\n",
    "plt.plot(angle, Ravg, 'k', label = 'avg')\n",
    "plt.legend(loc = 'best') \n",
    "plt.xlabel('angle (degree)', fontsize=14)\n",
    "plt.ylabel('reflectance', fontsize=14)\n",
    "plt.savefig('abg.png')\n",
    "plt.show()"
   ]
  },
  {
   "cell_type": "code",
   "execution_count": null,
   "metadata": {},
   "outputs": [],
   "source": [
    "x = 550\n",
    "ITO.nvalues(550)\n",
    "SiO2.nvalues(550)\n",
    "sodalime.nvalues(550)"
   ]
  },
  {
   "cell_type": "code",
   "execution_count": null,
   "metadata": {},
   "outputs": [],
   "source": [
    "target_R  = tm.Design([air, sodalime], [None, None]).reflectance(x)\n",
    "hypo_R = lambda th: tm.Design([air, SiO2, ITO, SiO2, sodalime], [None, th[0], 20, None]).reflectance(x)\n",
    "fom = lambda th: abs(hypo_R(th) - target_R)\n",
    "res = minimize(fom, [100])\n",
    "print(res)\n",
    "print(hypo_R(res.x))\n",
    "print(target_R)"
   ]
  },
  {
   "cell_type": "code",
   "execution_count": null,
   "metadata": {},
   "outputs": [],
   "source": [
    "def fom(th):\n",
    "    ml_t.n = th[0]\n",
    "    d = th[1]\n",
    "    R1 = np.mean(tm.Design([air, SiO2, ml_t, sodalime],[None, 1000, d, None]).reflectance(wl))\n",
    "    R2 = np.mean(tm.Design([air, SiO2, ITO, ml_t, sodalime],[None, 1000, 20, d, None]).reflectance(wl))\n",
    "    print(R1, R2)\n",
    "    return abs(R1 - R2)"
   ]
  },
  {
   "cell_type": "code",
   "execution_count": null,
   "metadata": {},
   "outputs": [],
   "source": [
    "differential_evolution(fom, [(0, 2), (0, 200)])"
   ]
  },
  {
   "cell_type": "code",
   "execution_count": null,
   "metadata": {},
   "outputs": [],
   "source": [
    "fom([1.91592661, 119.13512789])"
   ]
  },
  {
   "cell_type": "code",
   "execution_count": null,
   "metadata": {},
   "outputs": [],
   "source": [
    "hypo_1 = lambda d: np.mean(tm.Design([air, SiO2, ITO, ml_t, sodalime],\n",
    "                                     [None, 1000, 20, d, None]).reflectance(wl))\n",
    "hypo_1_r = lambda d: np.mean(tm.Design([air, SiO2, ml_t, sodalime],\n",
    "                                       [None, 1000, d, None]).reflectance(wl))\n",
    "tol = []\n",
    "Ri = []\n",
    "x = 50\n",
    "for i in np.linspace(-x,x):\n",
    "    tol.append(i)\n",
    "    Ri.append(hypo_1(119+i)-hypo_1_r(119+i))\n",
    "plt.plot(tol, np.array(Ri)*100)\n",
    "plt.xlabel('tolerance of IM layer (nm)', fontsize = 14)\n",
    "plt.ylabel('delta R (%)', fontsize = 14)\n",
    "plt.savefig('tol.png')\n",
    "plt.show()\n",
    "print(max(Ri), min(Ri))"
   ]
  },
  {
   "cell_type": "code",
   "execution_count": null,
   "metadata": {},
   "outputs": [],
   "source": [
    "hypo_2 = lambda d: np.mean(tm.Design([air, ml_t2, ITO, sodalime],\n",
    "                                     [None, d, 20, None]).reflectance(wl))\n",
    "hypo_2_r = lambda d: np.mean(tm.Design([air, ml_t2, sodalime],\n",
    "                                       [None, d, None]).reflectance(wl))\n",
    "tol_2 = []\n",
    "Ri_2 = []\n",
    "for i in np.linspace(-0.05, 0.05):\n",
    "    tol_2.append(i)\n",
    "    Ri_2.append(hypo_2(1000*(1+i))-hypo_2_r(1000*(1+i)))\n",
    "plt.plot(np.array(tol_2)*100, np.array(Ri_2)*100)\n",
    "plt.xlabel('thickness change of IM layer (%)', fontsize = 14)\n",
    "plt.ylabel('delta R (%)', fontsize = 14)\n",
    "plt.savefig('f.png')\n",
    "plt.show()"
   ]
  },
  {
   "cell_type": "code",
   "execution_count": null,
   "metadata": {},
   "outputs": [],
   "source": [
    "wl = np.linspace(400, 700)\n",
    "SiO2_LENS = ml.open_material('SiO2_LENS', 'Sellmeier') \n",
    "SiN_LENS = ml.open_material('SiN_LENS', 'Sellmeier')\n",
    "ITO_LENS = ml.open_material('ITO_LENS', 'Sellmeier')\n",
    "OC_LENS = ml.open_material('OC_LENS', 'Material')\n",
    "OC_HRI_LENS = ml.open_material('OC_HRI_LENS', 'Material')"
   ]
  },
  {
   "cell_type": "code",
   "execution_count": null,
   "metadata": {},
   "outputs": [],
   "source": [
    "plt.plot(wl, SiO2_LENS.nvalues(wl))\n",
    "#plt.savefig('SiO2_LENS_n.png')\n",
    "plt.show()\n",
    "plt.plot(wl, SiN_LENS.nvalues(wl))\n",
    "#plt.savefig('SiN_LENS_n.png')\n",
    "plt.show()\n",
    "plt.plot(wl, ITO_LENS.nvalues(wl))\n",
    "#plt.savefig('ITO_LENS_n.png')\n",
    "plt.show()\n",
    "plt.plot(wl, ITO_LENS.kvalues(wl))\n",
    "plt.savefig('ITO_LENS_k.png')\n",
    "plt.show()"
   ]
  },
  {
   "cell_type": "code",
   "execution_count": null,
   "metadata": {},
   "outputs": [],
   "source": [
    "plt.plot(wl, OC_HRI_LENS.nvalues(wl), label = 'HRI OC')\n",
    "plt.plot(wl, OC_LENS.nvalues(wl), label = 'normal OC')\n",
    "plt.legend(loc = 'best')\n",
    "plt.savefig('OC.png')\n",
    "plt.show()"
   ]
  },
  {
   "cell_type": "code",
   "execution_count": null,
   "metadata": {},
   "outputs": [],
   "source": []
  }
 ],
 "metadata": {
  "kernelspec": {
   "display_name": "Python 3",
   "language": "python",
   "name": "python3"
  },
  "language_info": {
   "codemirror_mode": {
    "name": "ipython",
    "version": 3
   },
   "file_extension": ".py",
   "mimetype": "text/x-python",
   "name": "python",
   "nbconvert_exporter": "python",
   "pygments_lexer": "ipython3",
   "version": "3.8.2"
  }
 },
 "nbformat": 4,
 "nbformat_minor": 4
}
