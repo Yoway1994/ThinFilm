{
 "cells": [
  {
   "cell_type": "code",
   "execution_count": 16,
   "metadata": {},
   "outputs": [],
   "source": [
    "import xml.etree.ElementTree as ET\n",
    "import matplotlib.pyplot as plt\n",
    "import pandas as pd\n",
    "import numpy as np\n",
    "from scipy.optimize import minimize, basinhopping\n",
    "tree = ET.parse('.\\material\\OC_k.xml')\n",
    "root = tree.getroot()\n",
    "\n",
    "wl = []\n",
    "n = []\n",
    "\n",
    "for i in root.iter('point'):\n",
    "    wl.append(float(i.attrib['dx']))\n",
    "    n.append(float(i.attrib['dy']))\n",
    "ww = np.array(wl)/1000\n",
    "n = np.array(n)"
   ]
  },
  {
   "cell_type": "code",
   "execution_count": 17,
   "metadata": {},
   "outputs": [
    {
     "name": "stdout",
     "output_type": "stream",
     "text": [
      "       wl_ITO     k_ITO  wl_sodalime  k_sodalime  wl_Acrylic  k_Acrylic\n",
      "0.0  0.276565  0.025491         0.31    0.000050    0.276565   0.025491\n",
      "1.0  0.279492  0.024507         0.32    0.000014    0.279492   0.024507\n",
      "2.0  0.283207  0.023170         0.33    0.000006    0.283207   0.023170\n",
      "3.0  0.286584  0.022068         0.34    0.000003    0.286584   0.022068\n",
      "4.0  0.290412  0.020895         0.35    0.000001    0.290412   0.020895\n",
      "..        ...       ...          ...         ...         ...        ...\n",
      "NaN       NaN       NaN         4.20    0.000144         NaN        NaN\n",
      "NaN       NaN       NaN         4.30    0.000178         NaN        NaN\n",
      "NaN       NaN       NaN         4.40    0.000225         NaN        NaN\n",
      "NaN       NaN       NaN         4.50    0.000298         NaN        NaN\n",
      "NaN       NaN       NaN         4.60    0.000744         NaN        NaN\n",
      "\n",
      "[106 rows x 6 columns]\n",
      "       wl_ITO     k_ITO  wl_sodalime  k_sodalime  wl_Acrylic  k_Acrylic  \\\n",
      "0.0  0.276565  0.025491         0.31    0.000050    0.276565   0.025491   \n",
      "1.0  0.279492  0.024507         0.32    0.000014    0.279492   0.024507   \n",
      "2.0  0.283207  0.023170         0.33    0.000006    0.283207   0.023170   \n",
      "3.0  0.286584  0.022068         0.34    0.000003    0.286584   0.022068   \n",
      "4.0  0.290412  0.020895         0.35    0.000001    0.290412   0.020895   \n",
      "..        ...       ...          ...         ...         ...        ...   \n",
      "NaN       NaN       NaN         4.20    0.000144         NaN        NaN   \n",
      "NaN       NaN       NaN         4.30    0.000178         NaN        NaN   \n",
      "NaN       NaN       NaN         4.40    0.000225         NaN        NaN   \n",
      "NaN       NaN       NaN         4.50    0.000298         NaN        NaN   \n",
      "NaN       NaN       NaN         4.60    0.000744         NaN        NaN   \n",
      "\n",
      "        wl_OC      k_OC  \n",
      "0.0  0.295695  0.026501  \n",
      "1.0  0.299860  0.025000  \n",
      "2.0  0.301999  0.024343  \n",
      "3.0  0.305827  0.023148  \n",
      "4.0  0.309767  0.022022  \n",
      "..        ...       ...  \n",
      "NaN       NaN       NaN  \n",
      "NaN       NaN       NaN  \n",
      "NaN       NaN       NaN  \n",
      "NaN       NaN       NaN  \n",
      "NaN       NaN       NaN  \n",
      "\n",
      "[106 rows x 8 columns]\n"
     ]
    }
   ],
   "source": [
    "material_k = pd.read_csv('material_k.csv', index_col = 0)\n",
    "print(material_k)\n",
    "material_k['wl_OC'] = pd.Series(ww)\n",
    "material_k['k_OC'] = pd.Series(n)\n",
    "print(material_k)"
   ]
  },
  {
   "cell_type": "code",
   "execution_count": 18,
   "metadata": {},
   "outputs": [],
   "source": [
    "material_k.to_csv('material_k.csv')"
   ]
  },
  {
   "cell_type": "code",
   "execution_count": 5,
   "metadata": {},
   "outputs": [],
   "source": [
    "theta = [0, 0, 0, 0, 0, 0, 0]\n",
    "Sellmeier = lambda theta: (\n",
    "    theta[0] + theta[1]/(1-theta[2]/ww**2) + theta[3]/(1-theta[4]/ww**2) + theta[5]/(1-theta[6]/ww**2))\n",
    "\n",
    "FOM = lambda theta: sum(abs(Sellmeier(theta)-n**2))\n",
    "res = basinhopping(FOM, theta)"
   ]
  },
  {
   "cell_type": "code",
   "execution_count": 6,
   "metadata": {},
   "outputs": [
    {
     "name": "stderr",
     "output_type": "stream",
     "text": [
      "<ipython-input-6-2ce7ad768864>:2: RuntimeWarning: invalid value encountered in sqrt\n",
      "  plt.plot(ww, fuc(res.x)**.5)\n"
     ]
    },
    {
     "data": {
      "image/png": "[encoded data removed]",
      "text/plain": [
       "<Figure size 432x288 with 1 Axes>"
      ]
     },
     "metadata": {
      "needs_background": "light"
     },
     "output_type": "display_data"
    },
    {
     "name": "stdout",
     "output_type": "stream",
     "text": [
      "[-4.76531715e-01  4.75490976e-01  2.07298905e-04  2.36135355e+00\n",
      " -3.36694476e+00 -2.39054447e+00 -3.42579524e+00]\n"
     ]
    }
   ],
   "source": [
    "plt.plot(ww, n)\n",
    "plt.plot(ww, fuc(res.x)**.5)\n",
    "plt.show()\n",
    "print(res.x)"
   ]
  },
  {
   "cell_type": "code",
   "execution_count": 327,
   "metadata": {},
   "outputs": [
    {
     "name": "stdout",
     "output_type": "stream",
     "text": [
      "          ITO       SiN      SiO2   Acrylic\n",
      "A  -35.019537  2.055931  1.199955  2.842879\n",
      "B1 -48.176978  1.654266  0.657433 -1.194511\n",
      "C1 -29.247261  0.025372  0.010144  2.076933\n",
      "B2  29.496265 -0.000180  0.244923  1.129027\n",
      "C2   0.017534  1.257386  0.009445  2.029381\n",
      "B3   8.863457  0.256176  0.006110 -0.656519\n",
      "C3  -0.068653  0.009454  1.405175 -0.049386\n"
     ]
    }
   ],
   "source": [
    "material = pd.read_csv('index.csv', index_col=0)\n",
    "print(material)"
   ]
  },
  {
   "cell_type": "code",
   "execution_count": 328,
   "metadata": {},
   "outputs": [
    {
     "name": "stdout",
     "output_type": "stream",
     "text": [
      "          ITO       SiN      SiO2   Acrylic         OC\n",
      "A  -35.019537  2.055931  1.199955  2.842879   3.097209\n",
      "B1 -48.176978  1.654266  0.657433 -1.194511  -0.904940\n",
      "C1 -29.247261  0.025372  0.010144  2.076933  -0.083487\n",
      "B2  29.496265 -0.000180  0.244923  1.129027   1.048608\n",
      "C2   0.017534  1.257386  0.009445  2.029381   4.796716\n",
      "B3   8.863457  0.256176  0.006110 -0.656519   4.675096\n",
      "C3  -0.068653  0.009454  1.405175 -0.049386 -12.901483\n"
     ]
    }
   ],
   "source": [
    "material['OC'] = res.x\n",
    "print(material)"
   ]
  },
  {
   "cell_type": "code",
   "execution_count": 329,
   "metadata": {},
   "outputs": [
    {
     "name": "stdout",
     "output_type": "stream",
     "text": [
      "          ITO       SiN      SiO2   Acrylic         OC\n",
      "A  -35.019537  2.055931  1.199955  2.842879   3.097209\n",
      "B1 -48.176978  1.654266  0.657433 -1.194511  -0.904940\n",
      "C1 -29.247261  0.025372  0.010144  2.076933  -0.083487\n",
      "B2  29.496265 -0.000180  0.244923  1.129027   1.048608\n",
      "C2   0.017534  1.257386  0.009445  2.029381   4.796716\n",
      "B3   8.863457  0.256176  0.006110 -0.656519   4.675096\n",
      "C3  -0.068653  0.009454  1.405175 -0.049386 -12.901483\n"
     ]
    }
   ],
   "source": [
    "#material.to_csv('index.csv')\n",
    "print(material)"
   ]
  }
 ],
 "metadata": {
  "kernelspec": {
   "display_name": "Python 3",
   "language": "python",
   "name": "python3"
  },
  "language_info": {
   "codemirror_mode": {
    "name": "ipython",
    "version": 3
   },
   "file_extension": ".py",
   "mimetype": "text/x-python",
   "name": "python",
   "nbconvert_exporter": "python",
   "pygments_lexer": "ipython3",
   "version": "3.8.2"
  }
 },
 "nbformat": 4,
 "nbformat_minor": 4
}
