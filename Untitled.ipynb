{
 "cells": [
  {
   "cell_type": "code",
   "execution_count": 1,
   "metadata": {},
   "outputs": [],
   "source": [
    "import numpy as np\n",
    "import pandas as pd\n",
    "import material as ml\n",
    "import thinfilm as tm\n",
    "import matplotlib.pyplot as plt\n",
    "from scipy.optimize import differential_evolution, minimize"
   ]
  },
  {
   "cell_type": "code",
   "execution_count": 2,
   "metadata": {},
   "outputs": [],
   "source": [
    "wl = np.linspace(380, 780, 401)\n",
    "sec = pd.read_csv('./Nanya/R_5_4.csv')['SCAN'].values\n",
    "tap = pd.read_csv('./Nanya/R_5_B4.csv')['SCAN'].values\n",
    "T1 = pd.read_csv('./Nanya/0_T.csv')['SCAN'].values\n",
    "T2 = pd.read_csv('./Nanya/T_0.csv')['SCAN'].values\n",
    "\n",
    "air = ml.Non_Dispersion(1)\n",
    "SiO2 = ml.open_material('SiO2_Nanya', 'Material')\n",
    "NB = ml.open_material('Nb2O5_Nanya', 'Material')\n",
    "ITO2 = ml.open_material('ITO_Nanya', 'Material')\n",
    "#ITO1 = ml.open_material('ITO1_Nanya', 'Material')\n",
    "#OC = ml.open_material('OC_Nanya', 'Material')\n",
    "sodalime_Nanya = ml.open_material('sodalime_Nanya', 'Material')"
   ]
  },
  {
   "cell_type": "code",
   "execution_count": 10,
   "metadata": {},
   "outputs": [],
   "source": [
    "hypoU = lambda th:tm.Design(\n",
    "    [air, SiO2, ITO2, SiO2, NB, sodalime_Nanya],\n",
    "    [None, th[0], th[1], th[2], th[3], None]\n",
    ")\n",
    "\n",
    "hypoD = lambda th:tm.Design(\n",
    "    [sodalime_Nanya, NB, SiO2, ITO2, SiO2, sodalime_Nanya],\n",
    "    [None, th[3], th[2], th[1], th[0], None]\n",
    ")\n",
    "\n",
    "Bare_glass = tm.Design(\n",
    "    [sodalime_Nanya, air],\n",
    "    [None, None]\n",
    ")\n",
    "\n",
    "RB, TB  = Bare_glass.reflec_trans(wl)\n",
    "\n",
    "hypo_T = lambda th:(hypoU(th).transmittance(wl)*TB)/(1-hypoD(th).reflectance(wl)*RB)\n",
    "fom = lambda th:sum(abs(hypo_T(th)-T1/100))"
   ]
  },
  {
   "cell_type": "code",
   "execution_count": 11,
   "metadata": {},
   "outputs": [
    {
     "name": "stdout",
     "output_type": "stream",
     "text": [
      "[78.86552786 28.         40.          7.42523486]\n"
     ]
    }
   ],
   "source": [
    "sol = differential_evolution(fom, [(70, 80), (28,32), (40, 50), (6,10)])\n",
    "print(sol.x)"
   ]
  },
  {
   "cell_type": "code",
   "execution_count": 13,
   "metadata": {},
   "outputs": [
    {
     "name": "stdout",
     "output_type": "stream",
     "text": [
      "[99.94194438 -1.20203328 -1.03053236  9.41862799]\n"
     ]
    }
   ],
   "source": [
    "sol2 = minimize(fom, sol.x)\n",
    "print(sol2.x)"
   ]
  },
  {
   "cell_type": "code",
   "execution_count": 15,
   "metadata": {},
   "outputs": [
    {
     "data": {
      "image/png": "[encoded data removed]",
      "text/plain": [
       "<Figure size 432x288 with 1 Axes>"
      ]
     },
     "metadata": {
      "needs_background": "light"
     },
     "output_type": "display_data"
    }
   ],
   "source": [
    "plt.plot(wl, hypo_T(sol.x))\n",
    "plt.plot(wl, T1/100)\n",
    "plt.show()"
   ]
  }
 ],
 "metadata": {
  "kernelspec": {
   "display_name": "Python 3.8.1 32-bit",
   "language": "python",
   "name": "python38132bitcc3eabe16c114026adc65d4e4b9f5f79"
  },
  "language_info": {
   "codemirror_mode": {
    "name": "ipython",
    "version": 3
   },
   "file_extension": ".py",
   "mimetype": "text/x-python",
   "name": "python",
   "nbconvert_exporter": "python",
   "pygments_lexer": "ipython3",
   "version": "3.8.1"
  }
 },
 "nbformat": 4,
 "nbformat_minor": 4
}
