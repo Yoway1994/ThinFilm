{
 "cells": [
  {
   "cell_type": "code",
   "execution_count": 49,
   "metadata": {},
   "outputs": [],
   "source": [
    "import material as ml\n",
    "import pandas as pd\n",
    "\n",
    "air = ml.Non_Dispersion(1)\n",
    "name = 'air'"
   ]
  },
  {
   "cell_type": "code",
   "execution_count": 53,
   "metadata": {},
   "outputs": [],
   "source": [
    "### material_book ###\n",
    "global m_path, m_book\n",
    "m_data = './material/data.csv'\n",
    "m_book = './material/book.csv'\n",
    "\n",
    "def new_material_book():\n",
    "    with open(m_data, 'w+'):\n",
    "        pd.DataFrame({}).to_csv(m_data)\n",
    "    with open(m_book, 'w+'):\n",
    "        pd.DataFrame({}).to_csv(m_book)\n",
    "    print('new_material_book')\n",
    "\n",
    "def open_book():\n",
    "    bk = pd.read_csv(m_book, index_col = 0)\n",
    "    print(bk.columns[0], bk[0:].values[0][0])\n",
    "\n",
    "def save_material(m, name):\n",
    "    cls_name = type(m).__name__\n",
    "    _save_book(name, cls_name)\n",
    "    if cls_name == 'Non_Dispersion':\n",
    "        _save_material_data(m.n, name, '_mono_n')\n",
    "        _save_material_data(m.k, name, '_mono_k')\n",
    "    elif cls_name == 'Material':\n",
    "        _save_material_data(m.n, name, '_n')\n",
    "        _save_material_data(m.k, name, '_k')\n",
    "        _save_material_data(m.wl, name, '_w')\n",
    "        _save_material_data(m.wl_k, name, '_wk')\n",
    "    elif cls_name == 'Sellmeier':\n",
    "        _save_material_data(m.theta, name, '_SE')\n",
    "        _save_material_data(m.k, name, '_k')\n",
    "        _save_material_data(m.wl_k, name, '_wk')\n",
    "    else:\n",
    "        print('material type undefined')\n",
    "\n",
    "def _save_book(name, cls_name, cover = False):\n",
    "    bk = pd.read_csv(m_book)\n",
    "    if (name in bk.columns) and cover == False:\n",
    "        print('Data already exist, set cover = True to overwrite the previous data')\n",
    "    else:\n",
    "        _save_material_data(cls_name, name, '')\n",
    "\n",
    "def _save_material_data(m_data, m_name, ext):\n",
    "    suffix = ['_SE', '_w', '_n', '_wk', '_k', '_mono_n', '_mono_k']\n",
    "    data_name = m_name + ext\n",
    "    if ext in suffix:\n",
    "        _save(m_data, data_name, m_data)   \n",
    "    else:\n",
    "        _save(m_data, data_name, m_book)\n",
    "        \n",
    "def _save(m_data, data_name, m_path):\n",
    "    name = data_name\n",
    "    if path.exists(m_path):\n",
    "        file = pd.read_csv(m_path, index_col=0)\n",
    "        if name in file.columns:\n",
    "            file[name] = pd.Series(m_data)\n",
    "        else:\n",
    "            data = pd.DataFrame({name:m_data})\n",
    "            new_file = pd.concat([file, data], axis = 1)\n",
    "        new_file.to_csv(m_path)\n",
    "        print('{} has saved successfully'.format(m_path))\n",
    "    else:\n",
    "        new_material_book(m_path)\n",
    "\n",
    "def load_material_all():\n",
    "    bk = pd.read_csv('./material/book.csv')\n",
    "    \n",
    "def open_material(m_name, object_kind = None):\n",
    "    m_file = pd.read_csv(m_path, index_col=0)\n",
    "    if object_kind == 'Material':\n",
    "        m = Material(nan_remover(m_file[m_name+'_w']), nan_remover(m_file[m_name+'_n']))\n",
    "    elif object_kind == 'Sellmeier':\n",
    "        m = Sellmeier(nan_remover(m_file[m_name+'_SE']))\n",
    "    elif object_kind == 'Non_Dispersion':\n",
    "        m = Non_Dispersion(nan_remover(m_file[m_name+'_mono_n']), nan_remover(m_file[m_name+'_mono_k']))\n",
    "    else:\n",
    "        print('material database not founded')\n",
    "    try:\n",
    "        m.wl_k = nan_remover(m_file[m_name+'_wk'].values)\n",
    "        m.k = nan_remover(m_file[m_name+'_k'].values)\n",
    "    except:\n",
    "        m.wl_k = nan_remover(m_file[m_name+'_w'].values)\n",
    "        m.k = nan_remover(m_file[m_name+'_k'].values)\n",
    "    finally:\n",
    "        return m\n",
    "\n",
    "def nan_remover(v):\n",
    "    return [x for x in v if str(x) != 'nan']"
   ]
  },
  {
   "cell_type": "code",
   "execution_count": 77,
   "metadata": {},
   "outputs": [
    {
     "name": "stdout",
     "output_type": "stream",
     "text": [
      "air\n",
      "Non_Dispersion\n"
     ]
    }
   ],
   "source": [
    "bk = pd.read_csv('./material/book.csv', index_col = 0)\n",
    "for m in bk:\n",
    "    print(m)\n",
    "    print(bk[m].values[0])"
   ]
  },
  {
   "cell_type": "code",
   "execution_count": 63,
   "metadata": {},
   "outputs": [],
   "source": [
    "if __name__ == 'material':\n",
    "    open_material_book()"
   ]
  }
 ],
 "metadata": {
  "kernelspec": {
   "display_name": "Python 3",
   "language": "python",
   "name": "python3"
  },
  "language_info": {
   "codemirror_mode": {
    "name": "ipython",
    "version": 3
   },
   "file_extension": ".py",
   "mimetype": "text/x-python",
   "name": "python",
   "nbconvert_exporter": "python",
   "pygments_lexer": "ipython3",
   "version": "3.8.2"
  }
 },
 "nbformat": 4,
 "nbformat_minor": 4
}
