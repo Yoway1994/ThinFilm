{
 "cells": [
  {
   "cell_type": "code",
   "execution_count": 1,
   "metadata": {},
   "outputs": [],
   "source": [
    "import numpy as np\n",
    "import thinfilm as tm\n",
    "import material as ml\n",
    "from material import sellmeier_fitting as sf\n",
    "from scipy.optimize import basinhopping, minimize\n",
    "import matplotlib.pyplot as plt"
   ]
  },
  {
   "cell_type": "code",
   "execution_count": null,
   "metadata": {},
   "outputs": [],
   "source": [
    "T_w = [411, 426.72, 444.34, 464.21, 488.98, 516.26, 548.05, 586.25, 628.18, 680, 742.65, 912.35, 1042.06, 1203, 1442.75]\n",
    "T_n = [2.34786, 2.33138, 2.31109, 2.28202, 2.24594, 2.21702, 2.19754, 2.18272, 2.17144, 2.16102, 2.15008, 2.1045, 2.10095, 2.09569, 2.0885]\n",
    "S_w = [492.6, 535.88, 585.9, 643.34, 732.46, 838.07, 962.84, 1161.82, 1425.45]\n",
    "S_n = [1.44538, 1.43662, 1.42846, 1.4226, 1.41846, 1.41575, 1.41422, 1.41375, 1.41369]"
   ]
  },
  {
   "cell_type": "code",
   "execution_count": null,
   "metadata": {},
   "outputs": [],
   "source": [
    "TiO2 = ml.Sellmeier(sf(T_w, T_n))\n",
    "SiO2 = ml.Sellmeier(sf(S_w, S_n))"
   ]
  },
  {
   "cell_type": "code",
   "execution_count": null,
   "metadata": {},
   "outputs": [],
   "source": [
    "TiO2_m = ml.Material(T_w, T_n)\n",
    "SiO2_m = ml.Material(S_w, S_n)"
   ]
  },
  {
   "cell_type": "code",
   "execution_count": null,
   "metadata": {},
   "outputs": [],
   "source": [
    "air = ml.Non_Dispersion(1)\n",
    "CrYAG = ml.Non_Dispersion(1.8)"
   ]
  },
  {
   "cell_type": "code",
   "execution_count": null,
   "metadata": {},
   "outputs": [],
   "source": [
    "w_x = np.linspace(500, 1400) # nm\n",
    "plt.plot(T_w, T_n, 'rs')\n",
    "plt.plot(w_x, TiO2.nvalues(w_x))\n",
    "plt.plot(w_x, TiO2_m.nvalues(w_x))\n",
    "plt.show()\n",
    "plt.plot(S_w, S_n, 'rs')\n",
    "plt.plot(w_x, SiO2.nvalues(w_x))\n",
    "plt.plot(w_x, SiO2_m.nvalues(w_x))\n",
    "plt.show()"
   ]
  },
  {
   "cell_type": "code",
   "execution_count": null,
   "metadata": {},
   "outputs": [],
   "source": [
    "wl = np.linspace(1300, 1600)\n",
    "R_target = np.zeros(np.size(wl))\n",
    "def R_hypo(init):\n",
    "    dS = init[0]\n",
    "    dT = init[1]\n",
    "    AR = tm.Design([air, SiO2, TiO2, CrYAG], [None, dS, dT, None])\n",
    "    return AR.reflectance(wl)\n",
    "fom = lambda theta: sum(abs(R_hypo(theta) - R_target))\n",
    "sol = minimize(fom, [100, 300])"
   ]
  },
  {
   "cell_type": "code",
   "execution_count": null,
   "metadata": {},
   "outputs": [],
   "source": [
    "plt.plot(wl, R_target)\n",
    "plt.plot(wl, R_hypo(sol.x))\n",
    "print(sol.x)\n",
    "plt.show()"
   ]
  },
  {
   "cell_type": "code",
   "execution_count": 9,
   "metadata": {},
   "outputs": [],
   "source": [
    "wl = np.linspace(400, 700)\n",
    "ITO = ml.open_material('ITO', 'Sellmeier')\n",
    "SiN = ml.open_material('SiN', 'Sellmeier')\n",
    "SiO2 = ml.open_material('SiO2', 'Sellmeier')"
   ]
  },
  {
   "cell_type": "code",
   "execution_count": 12,
   "metadata": {},
   "outputs": [
    {
     "data": {
      "image/png": "[encoded data removed]",
      "text/plain": [
       "<Figure size 432x288 with 1 Axes>"
      ]
     },
     "metadata": {
      "needs_background": "light"
     },
     "output_type": "display_data"
    }
   ],
   "source": [
    "plt.plot(wl, ITO.nvalues(wl), label = 'ITO')\n",
    "plt.plot(wl, SiN.nvalues(wl), label = 'SiN')\n",
    "plt.plot(wl, SiO2.nvalues(wl), label = 'SiO2')\n",
    "plt.legend(loc = 'best')\n",
    "#plt.savefig('s.png')\n",
    "plt.show()"
   ]
  },
  {
   "cell_type": "code",
   "execution_count": null,
   "metadata": {},
   "outputs": [],
   "source": []
  }
 ],
 "metadata": {
  "kernelspec": {
   "display_name": "Python 3",
   "language": "python",
   "name": "python3"
  },
  "language_info": {
   "codemirror_mode": {
    "name": "ipython",
    "version": 3
   },
   "file_extension": ".py",
   "mimetype": "text/x-python",
   "name": "python",
   "nbconvert_exporter": "python",
   "pygments_lexer": "ipython3",
   "version": "3.8.2"
  }
 },
 "nbformat": 4,
 "nbformat_minor": 4
}
