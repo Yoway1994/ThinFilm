{
 "cells": [
  {
   "cell_type": "code",
   "execution_count": 1,
   "metadata": {},
   "outputs": [],
   "source": [
    "import numpy as np\n",
    "import pandas as pd\n",
    "import material as ml\n",
    "import thinfilm as tm\n",
    "import matplotlib.pyplot as plt\n",
    "from scipy.optimize import differential_evolution, minimize"
   ]
  },
  {
   "cell_type": "code",
   "execution_count": 2,
   "metadata": {},
   "outputs": [],
   "source": [
    "wl = np.linspace(380, 780, 401)\n",
    "sec = pd.read_csv('./Nanya/R_5_4.csv')['SCAN'].values\n",
    "tap = pd.read_csv('./Nanya/R_5_B4.csv')['SCAN'].values\n",
    "T1 = pd.read_csv('./Nanya/0_T.csv')['SCAN'].values\n",
    "T2 = pd.read_csv('./Nanya/T_0.csv')['SCAN'].values\n",
    "\n",
    "air = ml.Non_Dispersion(1)\n",
    "SiO2 = ml.open_material('SiO2_Nanya', 'Material')\n",
    "NB = ml.open_material('Nb2O5_Nanya', 'Material')\n",
    "ITO2 = ml.open_material('ITO_Nanya', 'Material')\n",
    "#ITO1 = ml.open_material('ITO1_Nanya', 'Material')\n",
    "#OC = ml.open_material('OC_Nanya', 'Material')\n",
    "sodalime_Nanya = ml.open_material('sodalime_Nanya', 'Material')"
   ]
  },
  {
   "cell_type": "code",
   "execution_count": 8,
   "metadata": {},
   "outputs": [
    {
     "ename": "AttributeError",
     "evalue": "'function' object has no attribute 'reflec_trans'",
     "output_type": "error",
     "traceback": [
      "\u001b[1;31m---------------------------------------------------------------------------\u001b[0m",
      "\u001b[1;31mAttributeError\u001b[0m                            Traceback (most recent call last)",
      "\u001b[1;32m<ipython-input-8-9ecc9affed4b>\u001b[0m in \u001b[0;36m<module>\u001b[1;34m\u001b[0m\n\u001b[0;32m     17\u001b[0m \u001b[0mRB\u001b[0m \u001b[1;33m=\u001b[0m \u001b[0mBare_glass\u001b[0m\u001b[1;33m.\u001b[0m\u001b[0mreflectance\u001b[0m\u001b[1;33m(\u001b[0m\u001b[0mwl\u001b[0m\u001b[1;33m)\u001b[0m\u001b[1;33m\u001b[0m\u001b[1;33m\u001b[0m\u001b[0m\n\u001b[0;32m     18\u001b[0m \u001b[1;33m\u001b[0m\u001b[0m\n\u001b[1;32m---> 19\u001b[1;33m \u001b[0mhypoU\u001b[0m\u001b[1;33m.\u001b[0m\u001b[0mreflec_trans\u001b[0m\u001b[1;33m(\u001b[0m\u001b[0mwl\u001b[0m\u001b[1;33m)\u001b[0m\u001b[1;33m\u001b[0m\u001b[1;33m\u001b[0m\u001b[0m\n\u001b[0m\u001b[0;32m     20\u001b[0m \u001b[1;33m\u001b[0m\u001b[0m\n\u001b[0;32m     21\u001b[0m \u001b[0mhypo_T\u001b[0m \u001b[1;33m=\u001b[0m \u001b[1;32mlambda\u001b[0m \u001b[0mth\u001b[0m\u001b[1;33m:\u001b[0m\u001b[1;33m(\u001b[0m\u001b[0mhypoU\u001b[0m\u001b[1;33m(\u001b[0m\u001b[0mth\u001b[0m\u001b[1;33m)\u001b[0m\u001b[1;33m.\u001b[0m\u001b[0mtransmittance\u001b[0m\u001b[1;33m(\u001b[0m\u001b[0mwl\u001b[0m\u001b[1;33m)\u001b[0m\u001b[1;33m*\u001b[0m\u001b[0mTB\u001b[0m\u001b[1;33m)\u001b[0m\u001b[1;33m/\u001b[0m\u001b[1;33m(\u001b[0m\u001b[1;36m1\u001b[0m\u001b[1;33m-\u001b[0m\u001b[0mhypoD\u001b[0m\u001b[1;33m(\u001b[0m\u001b[0mth\u001b[0m\u001b[1;33m)\u001b[0m\u001b[1;33m.\u001b[0m\u001b[0mreflectance\u001b[0m\u001b[1;33m(\u001b[0m\u001b[0mwl\u001b[0m\u001b[1;33m)\u001b[0m\u001b[1;33m*\u001b[0m\u001b[0mRB\u001b[0m\u001b[1;33m)\u001b[0m\u001b[1;33m\u001b[0m\u001b[1;33m\u001b[0m\u001b[0m\n",
      "\u001b[1;31mAttributeError\u001b[0m: 'function' object has no attribute 'reflec_trans'"
     ]
    }
   ],
   "source": [
    "hypoU = lambda th:tm.Design(\n",
    "    [air, SiO2, ITO2, SiO2, NB, sodalime_Nanya],\n",
    "    [None, th[0], th[1], th[2], th[3], None]\n",
    ")\n",
    "\n",
    "hypoD = lambda th:tm.Design(\n",
    "    [sodalime_Nanya, NB, SiO2, ITO2, SiO2, sodalime_Nanya],\n",
    "    [None, th[3], th[2], th[1], th[0], None]\n",
    ")\n",
    "\n",
    "Bare_glass = tm.Design(\n",
    "    [sodalime_Nanya, air],\n",
    "    [None, None]\n",
    ")\n",
    "\n",
    "TB = Bare_glass.transmittance(wl)\n",
    "RB = Bare_glass.reflectance(wl)\n",
    "\n",
    "hypo_T = lambda th:(hypoU(th).transmittance(wl)*TB)/(1-hypoD(th).reflectance(wl)*RB)\n",
    "fom = lambda th:sum(abs(hypo_T(th)-T1/100))"
   ]
  },
  {
   "cell_type": "code",
   "execution_count": null,
   "metadata": {},
   "outputs": [],
   "source": [
    "sol = differential_evolution(fom, [(70, 80), (28,32), (40, 50), (6,10)])\n",
    "print(sol.x)"
   ]
  },
  {
   "cell_type": "code",
   "execution_count": null,
   "metadata": {},
   "outputs": [],
   "source": [
    "sol2 = minimize(fom, sol.x)\n",
    "print(sol2.x)"
   ]
  },
  {
   "cell_type": "code",
   "execution_count": null,
   "metadata": {},
   "outputs": [],
   "source": [
    "plt.plot(wl, hypo_T(sol2.x))\n",
    "plt.plot(wl, T1/100)\n",
    "plt.show()"
   ]
  }
 ],
 "metadata": {
  "kernelspec": {
   "display_name": "Python 3.8.1 32-bit",
   "language": "python",
   "name": "python38132bitcc3eabe16c114026adc65d4e4b9f5f79"
  },
  "language_info": {
   "codemirror_mode": {
    "name": "ipython",
    "version": 3
   },
   "file_extension": ".py",
   "mimetype": "text/x-python",
   "name": "python",
   "nbconvert_exporter": "python",
   "pygments_lexer": "ipython3",
   "version": "3.8.1"
  }
 },
 "nbformat": 4,
 "nbformat_minor": 4
}
