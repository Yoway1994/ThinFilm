{
 "cells": [
  {
   "cell_type": "code",
   "execution_count": 39,
   "metadata": {},
   "outputs": [],
   "source": [
    "import numpy as np\n",
    "import material as ml\n",
    "import thinfilm as tm\n",
    "import matplotlib.pyplot as plt\n",
    "from scipy.optimize import minimize, differential_evolution"
   ]
  },
  {
   "cell_type": "code",
   "execution_count": 51,
   "metadata": {},
   "outputs": [],
   "source": [
    "sodalime = ml.open_material('sodalime', 'Material')\n",
    "SiN = ml.open_material('SiN', 'Sellmeier')\n",
    "SiO2 = ml.open_material('SiO2', 'Sellmeier')\n",
    "ITO = ml.open_material('ITO', 'Sellmeier')\n",
    "Acrylic = ml.open_material('Acrylic', 'Sellmeier')\n",
    "air = ml.Non_Dispersion(1)\n",
    "ml_t = ml.Non_Dispersion(1.5)\n",
    "LOCA = ml.Non_Dispersion()"
   ]
  },
  {
   "cell_type": "code",
   "execution_count": 8,
   "metadata": {},
   "outputs": [],
   "source": [
    "TE = []\n",
    "TM = []\n",
    "angle = []\n",
    "wl = np.linspace(400, 700)"
   ]
  },
  {
   "cell_type": "code",
   "execution_count": 5,
   "metadata": {},
   "outputs": [
    {
     "data": {
      "image/png": "[encoded data removed]",
      "text/plain": [
       "<Figure size 432x288 with 1 Axes>"
      ]
     },
     "metadata": {
      "needs_background": "light"
     },
     "output_type": "display_data"
    }
   ],
   "source": [
    "model = tm.Design([air, SiO2, SiN, sodalime], [None, 20, 20, None])\n",
    "for a in range(0, 90):\n",
    "    TE.append(sum(model.reflectance(x, a, 'S'))/50)\n",
    "    TM.append(sum(model.reflectance(x, a, 'P'))/50)\n",
    "    angle.append(a)\n",
    "plt.plot(angle, TE, label = 'TE')\n",
    "plt.plot(angle, TM, label = 'TM')\n",
    "plt.legend(loc = 'best') \n",
    "plt.xlabel('angle (degree)', fontsize=14)\n",
    "plt.ylabel('reflectance', fontsize=14)\n",
    "#plt.savefig('abg.png')\n",
    "plt.show()"
   ]
  },
  {
   "cell_type": "code",
   "execution_count": 43,
   "metadata": {},
   "outputs": [
    {
     "data": {
      "text/plain": [
       "array(1.52513873)"
      ]
     },
     "execution_count": 43,
     "metadata": {},
     "output_type": "execute_result"
    }
   ],
   "source": [
    "x = 550\n",
    "ITO.nvalues(550)\n",
    "SiO2.nvalues(550)\n",
    "sodalime.nvalues(550)"
   ]
  },
  {
   "cell_type": "code",
   "execution_count": 39,
   "metadata": {},
   "outputs": [
    {
     "name": "stdout",
     "output_type": "stream",
     "text": [
      "      fun: 5.927681956396924e-12\n",
      " hess_inv: array([[20554.15089131]])\n",
      "      jac: array([0.])\n",
      "  message: 'Optimization terminated successfully.'\n",
      "     nfev: 117\n",
      "      nit: 2\n",
      "     njev: 39\n",
      "   status: 0\n",
      "  success: True\n",
      "        x: array([77.5024611])\n",
      "[0.04324915]\n",
      "[0.04324915]\n"
     ]
    }
   ],
   "source": [
    "target_R  = tm.Design([air, sodalime], [None, None]).reflectance(x)\n",
    "hypo_R = lambda th: tm.Design([air, SiO2, ITO, SiO2, sodalime], [None, th[0], 20, None]).reflectance(x)\n",
    "fom = lambda th: abs(hypo_R(th) - target_R)\n",
    "res = minimize(fom, [100])\n",
    "print(res)\n",
    "print(hypo_R(res.x))\n",
    "print(target_R)"
   ]
  },
  {
   "cell_type": "code",
   "execution_count": 58,
   "metadata": {},
   "outputs": [],
   "source": [
    "def fom(th):\n",
    "    ml_t.n = th[0]\n",
    "    d = th[1]\n",
    "    R1 = np.mean(tm.Design([air, SiO2, ml_t, sodalime],[None, 1000, d, None]).reflectance(wl))\n",
    "    R2 = np.mean(tm.Design([air, SiO2, ITO, ml_t, sodalime],[None, 1000, 20, d, None]).reflectance(wl))\n",
    "    print(R1, R2)\n",
    "    return abs(R1 - R2)"
   ]
  },
  {
   "cell_type": "code",
   "execution_count": 57,
   "metadata": {},
   "outputs": [
    {
     "data": {
      "text/plain": [
       "     fun: 0.0\n",
       " message: 'Optimization terminated successfully.'\n",
       "    nfev: 4623\n",
       "     nit: 151\n",
       " success: True\n",
       "       x: array([  1.91592661, 119.13512789])"
      ]
     },
     "execution_count": 57,
     "metadata": {},
     "output_type": "execute_result"
    }
   ],
   "source": [
    "differential_evolution(fom, [(0, 2), (0, 200)])"
   ]
  },
  {
   "cell_type": "code",
   "execution_count": 59,
   "metadata": {},
   "outputs": [
    {
     "name": "stdout",
     "output_type": "stream",
     "text": [
      "0.04936838081871455 0.04936838084852394\n"
     ]
    },
    {
     "data": {
      "text/plain": [
       "2.98093910666708e-11"
      ]
     },
     "execution_count": 59,
     "metadata": {},
     "output_type": "execute_result"
    }
   ],
   "source": [
    "fom([1.91592661, 119.13512789])"
   ]
  },
  {
   "cell_type": "code",
   "execution_count": null,
   "metadata": {},
   "outputs": [],
   "source": []
  }
 ],
 "metadata": {
  "kernelspec": {
   "display_name": "Python 3",
   "language": "python",
   "name": "python3"
  },
  "language_info": {
   "codemirror_mode": {
    "name": "ipython",
    "version": 3
   },
   "file_extension": ".py",
   "mimetype": "text/x-python",
   "name": "python",
   "nbconvert_exporter": "python",
   "pygments_lexer": "ipython3",
   "version": "3.8.2"
  }
 },
 "nbformat": 4,
 "nbformat_minor": 4
}
