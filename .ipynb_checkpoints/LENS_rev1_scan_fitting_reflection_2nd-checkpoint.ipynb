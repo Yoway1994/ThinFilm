{
 "cells": [
  {
   "cell_type": "code",
   "execution_count": 1,
   "metadata": {},
   "outputs": [
    {
     "data": {
      "image/png": "[encoded data removed]",
      "text/plain": [
       "<Figure size 432x288 with 1 Axes>"
      ]
     },
     "metadata": {
      "needs_background": "light"
     },
     "output_type": "display_data"
    }
   ],
   "source": [
    "import numpy as np\n",
    "import pandas as pd\n",
    "import thinfilm as tm\n",
    "import material as ml\n",
    "from scipy.optimize import differential_evolution, minimize\n",
    "import matplotlib.pyplot as plt\n",
    "\n",
    "T_scan = pd.read_csv('./spectrum/LENS/rev1/T_0.csv')['SCAN'].values\n",
    "R_scan = pd.read_csv('./spectrum/LENS/rev1/R_5_2nd.csv')['SCAN'].values\n",
    "wl = np.linspace(400, 700, 301)\n",
    "\n",
    "# open material (LENS)\n",
    "air = ml.Non_Dispersion(1)\n",
    "ITO_L = ml.open_material('ITO_LENS', 'Sellmeier')\n",
    "OC = ml.open_material('OC_LENS', 'Material')\n",
    "sodalime = ml.open_material('sodalime_Nanya', 'Material')\n",
    "\n",
    "ITO = ml.Cauchy([1.640727, 0.050604], ITO_L.k, ITO_L.wl_k)\n",
    "SiN = ml.Cauchy([1.97812451, 0.0100578])\n",
    "SiO2 = ml.Cauchy([1.50818418, 0.00141496727])\n",
    "\n",
    "plt.plot(wl, R_scan+T_scan)\n",
    "plt.show()"
   ]
  },
  {
   "cell_type": "code",
   "execution_count": 9,
   "metadata": {},
   "outputs": [
    {
     "name": "stdout",
     "output_type": "stream",
     "text": [
      "None\n"
     ]
    }
   ],
   "source": [
    "Hypo = lambda th:tm.Design(\n",
    "    [air, OC, SiN, SiO2, ITO, SiO2, SiN, sodalime],\n",
    "    [None, th[0], th[1], th[2], th[3], th[4], th[5], None]\n",
    ")\n",
    "\n",
    "R_hypo_sec = lambda th: tm.sec_reflec(Hypo(th), wl, 5)\n",
    "T_hypo_sec = lambda th: tm.sec_transmit(Hypo(th), wl, 5)\n",
    "\n",
    "def RMSE(hypo, target,n):\n",
    "    return (sum((hypo-target)**2)/n)**.5\n",
    "\n",
    "FOM = lambda th: RMSE(\n",
    "    100*R_hypo_sec(th),R_scan, 301\n",
    ") + RMSE(\n",
    "    100*T_hypo_sec(th),T_scan, 301\n",
    ")\n",
    "print(T_hypo_sec([100,100,100,100,100,100]))"
   ]
  },
  {
   "cell_type": "code",
   "execution_count": 4,
   "metadata": {},
   "outputs": [
    {
     "ename": "RuntimeError",
     "evalue": "The map-like callable must be of the form f(func, iterable), returning a sequence of numbers the same length as 'iterable'",
     "output_type": "error",
     "traceback": [
      "\u001b[1;31m---------------------------------------------------------------------------\u001b[0m",
      "\u001b[1;31mTypeError\u001b[0m                                 Traceback (most recent call last)",
      "\u001b[1;32mc:\\users\\hsuyoway\\appdata\\local\\programs\\python\\python38-32\\lib\\site-packages\\scipy\\optimize\\_differentialevolution.py\u001b[0m in \u001b[0;36m_calculate_population_energies\u001b[1;34m(self, population)\u001b[0m\n\u001b[0;32m    876\u001b[0m         \u001b[1;32mtry\u001b[0m\u001b[1;33m:\u001b[0m\u001b[1;33m\u001b[0m\u001b[1;33m\u001b[0m\u001b[0m\n\u001b[1;32m--> 877\u001b[1;33m             calc_energies = list(self._mapwrapper(self.func,\n\u001b[0m\u001b[0;32m    878\u001b[0m                                                   parameters_pop[0:nfevs]))\n",
      "\u001b[1;32mc:\\users\\hsuyoway\\appdata\\local\\programs\\python\\python38-32\\lib\\site-packages\\scipy\\optimize\\_differentialevolution.py\u001b[0m in \u001b[0;36m__call__\u001b[1;34m(self, x)\u001b[0m\n\u001b[0;32m   1264\u001b[0m     \u001b[1;32mdef\u001b[0m \u001b[0m__call__\u001b[0m\u001b[1;33m(\u001b[0m\u001b[0mself\u001b[0m\u001b[1;33m,\u001b[0m \u001b[0mx\u001b[0m\u001b[1;33m)\u001b[0m\u001b[1;33m:\u001b[0m\u001b[1;33m\u001b[0m\u001b[1;33m\u001b[0m\u001b[0m\n\u001b[1;32m-> 1265\u001b[1;33m         \u001b[1;32mreturn\u001b[0m \u001b[0mself\u001b[0m\u001b[1;33m.\u001b[0m\u001b[0mf\u001b[0m\u001b[1;33m(\u001b[0m\u001b[0mx\u001b[0m\u001b[1;33m,\u001b[0m \u001b[1;33m*\u001b[0m\u001b[0mself\u001b[0m\u001b[1;33m.\u001b[0m\u001b[0margs\u001b[0m\u001b[1;33m)\u001b[0m\u001b[1;33m\u001b[0m\u001b[1;33m\u001b[0m\u001b[0m\n\u001b[0m\u001b[0;32m   1266\u001b[0m \u001b[1;33m\u001b[0m\u001b[0m\n",
      "\u001b[1;32m<ipython-input-4-b4c4ee1b28f2>\u001b[0m in \u001b[0;36m<lambda>\u001b[1;34m(th)\u001b[0m\n\u001b[0;32m     14\u001b[0m \u001b[1;33m)\u001b[0m \u001b[1;33m+\u001b[0m \u001b[0mRMSE\u001b[0m\u001b[1;33m(\u001b[0m\u001b[1;33m\u001b[0m\u001b[1;33m\u001b[0m\u001b[0m\n\u001b[1;32m---> 15\u001b[1;33m     \u001b[1;36m100\u001b[0m\u001b[1;33m*\u001b[0m\u001b[0mT_hypo_sec\u001b[0m\u001b[1;33m(\u001b[0m\u001b[0mth\u001b[0m\u001b[1;33m)\u001b[0m\u001b[1;33m,\u001b[0m\u001b[0mT_scan\u001b[0m\u001b[1;33m,\u001b[0m \u001b[1;36m301\u001b[0m\u001b[1;33m\u001b[0m\u001b[1;33m\u001b[0m\u001b[0m\n\u001b[0m\u001b[0;32m     16\u001b[0m )\n",
      "\u001b[1;31mTypeError\u001b[0m: unsupported operand type(s) for *: 'int' and 'NoneType'",
      "\nDuring handling of the above exception, another exception occurred:\n",
      "\u001b[1;31mRuntimeError\u001b[0m                              Traceback (most recent call last)",
      "\u001b[1;32m<ipython-input-4-b4c4ee1b28f2>\u001b[0m in \u001b[0;36m<module>\u001b[1;34m\u001b[0m\n\u001b[0;32m     16\u001b[0m )\n\u001b[0;32m     17\u001b[0m \u001b[1;33m\u001b[0m\u001b[0m\n\u001b[1;32m---> 18\u001b[1;33m sol = differential_evolution(\n\u001b[0m\u001b[0;32m     19\u001b[0m     FOM, [\n\u001b[0;32m     20\u001b[0m         \u001b[1;33m(\u001b[0m\u001b[1;36m1600\u001b[0m\u001b[1;33m,\u001b[0m \u001b[1;36m2600\u001b[0m\u001b[1;33m)\u001b[0m\u001b[1;33m,\u001b[0m \u001b[1;33m(\u001b[0m\u001b[1;36m4\u001b[0m\u001b[1;33m,\u001b[0m \u001b[1;36m20\u001b[0m\u001b[1;33m)\u001b[0m\u001b[1;33m,\u001b[0m \u001b[1;33m(\u001b[0m\u001b[1;36m20\u001b[0m\u001b[1;33m,\u001b[0m \u001b[1;36m60\u001b[0m\u001b[1;33m)\u001b[0m\u001b[1;33m,\u001b[0m \u001b[1;33m(\u001b[0m\u001b[1;36m20\u001b[0m\u001b[1;33m,\u001b[0m \u001b[1;36m40\u001b[0m\u001b[1;33m)\u001b[0m\u001b[1;33m,\u001b[0m \u001b[1;33m(\u001b[0m\u001b[1;36m20\u001b[0m\u001b[1;33m,\u001b[0m \u001b[1;36m60\u001b[0m\u001b[1;33m)\u001b[0m\u001b[1;33m,\u001b[0m \u001b[1;33m(\u001b[0m\u001b[1;36m4\u001b[0m\u001b[1;33m,\u001b[0m \u001b[1;36m20\u001b[0m\u001b[1;33m)\u001b[0m\u001b[1;33m\u001b[0m\u001b[1;33m\u001b[0m\u001b[0m\n",
      "\u001b[1;32mc:\\users\\hsuyoway\\appdata\\local\\programs\\python\\python38-32\\lib\\site-packages\\scipy\\optimize\\_differentialevolution.py\u001b[0m in \u001b[0;36mdifferential_evolution\u001b[1;34m(func, bounds, args, strategy, maxiter, popsize, tol, mutation, recombination, seed, callback, disp, polish, init, atol, updating, workers, constraints)\u001b[0m\n\u001b[0;32m    304\u001b[0m                                      \u001b[0mworkers\u001b[0m\u001b[1;33m=\u001b[0m\u001b[0mworkers\u001b[0m\u001b[1;33m,\u001b[0m\u001b[1;33m\u001b[0m\u001b[1;33m\u001b[0m\u001b[0m\n\u001b[0;32m    305\u001b[0m                                      constraints=constraints) as solver:\n\u001b[1;32m--> 306\u001b[1;33m         \u001b[0mret\u001b[0m \u001b[1;33m=\u001b[0m \u001b[0msolver\u001b[0m\u001b[1;33m.\u001b[0m\u001b[0msolve\u001b[0m\u001b[1;33m(\u001b[0m\u001b[1;33m)\u001b[0m\u001b[1;33m\u001b[0m\u001b[1;33m\u001b[0m\u001b[0m\n\u001b[0m\u001b[0;32m    307\u001b[0m \u001b[1;33m\u001b[0m\u001b[0m\n\u001b[0;32m    308\u001b[0m     \u001b[1;32mreturn\u001b[0m \u001b[0mret\u001b[0m\u001b[1;33m\u001b[0m\u001b[1;33m\u001b[0m\u001b[0m\n",
      "\u001b[1;32mc:\\users\\hsuyoway\\appdata\\local\\programs\\python\\python38-32\\lib\\site-packages\\scipy\\optimize\\_differentialevolution.py\u001b[0m in \u001b[0;36msolve\u001b[1;34m(self)\u001b[0m\n\u001b[0;32m    742\u001b[0m             \u001b[1;31m# only work out population energies for feasible solutions\u001b[0m\u001b[1;33m\u001b[0m\u001b[1;33m\u001b[0m\u001b[1;33m\u001b[0m\u001b[0m\n\u001b[0;32m    743\u001b[0m             self.population_energies[self.feasible] = (\n\u001b[1;32m--> 744\u001b[1;33m                 self._calculate_population_energies(\n\u001b[0m\u001b[0;32m    745\u001b[0m                     self.population[self.feasible]))\n\u001b[0;32m    746\u001b[0m \u001b[1;33m\u001b[0m\u001b[0m\n",
      "\u001b[1;32mc:\\users\\hsuyoway\\appdata\\local\\programs\\python\\python38-32\\lib\\site-packages\\scipy\\optimize\\_differentialevolution.py\u001b[0m in \u001b[0;36m_calculate_population_energies\u001b[1;34m(self, population)\u001b[0m\n\u001b[0;32m    881\u001b[0m             \u001b[1;31m# wrong number of arguments for _mapwrapper\u001b[0m\u001b[1;33m\u001b[0m\u001b[1;33m\u001b[0m\u001b[1;33m\u001b[0m\u001b[0m\n\u001b[0;32m    882\u001b[0m             \u001b[1;31m# or wrong length returned from the mapper\u001b[0m\u001b[1;33m\u001b[0m\u001b[1;33m\u001b[0m\u001b[1;33m\u001b[0m\u001b[0m\n\u001b[1;32m--> 883\u001b[1;33m             raise RuntimeError(\"The map-like callable must be of the\"\n\u001b[0m\u001b[0;32m    884\u001b[0m                                \u001b[1;34m\" form f(func, iterable), returning a sequence\"\u001b[0m\u001b[1;33m\u001b[0m\u001b[1;33m\u001b[0m\u001b[0m\n\u001b[0;32m    885\u001b[0m                                \" of numbers the same length as 'iterable'\")\n",
      "\u001b[1;31mRuntimeError\u001b[0m: The map-like callable must be of the form f(func, iterable), returning a sequence of numbers the same length as 'iterable'"
     ]
    }
   ],
   "source": [
    "sol = differential_evolution(\n",
    "    FOM, [\n",
    "        (1600, 2600), (4, 20), (20, 60), (20, 40), (20, 60), (4, 20)\n",
    "    ],\n",
    "    disp = True, \n",
    "    polish = False, \n",
    "    popsize = 15, \n",
    "    mutation = 0.5, \n",
    "    recombination = 1, \n",
    "    strategy = 'best1exp'\n",
    ")\n",
    "print(sol.x)"
   ]
  }
 ],
 "metadata": {
  "kernelspec": {
   "display_name": "Python 3",
   "language": "python",
   "name": "python3"
  },
  "language_info": {
   "codemirror_mode": {
    "name": "ipython",
    "version": 3
   },
   "file_extension": ".py",
   "mimetype": "text/x-python",
   "name": "python",
   "nbconvert_exporter": "python",
   "pygments_lexer": "ipython3",
   "version": "3.8.2"
  }
 },
 "nbformat": 4,
 "nbformat_minor": 4
}
