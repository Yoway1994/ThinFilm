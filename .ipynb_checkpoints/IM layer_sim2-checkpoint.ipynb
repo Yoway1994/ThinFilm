{
 "cells": [
  {
   "cell_type": "code",
   "execution_count": 1,
   "metadata": {},
   "outputs": [],
   "source": [
    "import numpy as np\n",
    "import pandas as pd\n",
    "import matplotlib.pyplot as plt\n",
    "from numpy import pi, sin, cos, dot"
   ]
  },
  {
   "cell_type": "code",
   "execution_count": 54,
   "metadata": {},
   "outputs": [],
   "source": [
    "class TF:\n",
    "    def __init__(self, n, d):\n",
    "        self.index = n\n",
    "        self.thickness = d\n",
    "        \n",
    "    def matrix(self, w):\n",
    "        delta = 2*pi*(self.index)*(self.thickness)/w\n",
    "        ita = self.index\n",
    "        element = pd.DataFrame(\n",
    "            {'e1':cos(delta), 'e2':1j/ita*sin(delta), 'e3':1j*ita*sin(delta), 'e4':cos(delta)}\n",
    "        )\n",
    "        matrix = np.reshape(element.values.reshape(1,-1), (np.size(w), 2, 2))\n",
    "        return matrix\n",
    "    \n",
    "def Matrix_dot(layer_up, layer_bot): \n",
    "    w, _, _ = np.shape(layer_up)\n",
    "    eq = [dot(layer_up[i], layer_bot[i]) for i in range(w)]\n",
    "    return eq\n",
    "\n",
    "def Eq_TF_Matrix(design):\n",
    "    eq_matrix = design.pop()\n",
    "    for i, layer in enumerate(design):\n",
    "        eq_matrix = Matrix_dot(design[-i-1], eq_matrix)\n",
    "    return eq_matrix\n",
    "\n",
    "def Eq_admittance(eq, ns):\n",
    "    d, _, _ = np.shape(eq)\n",
    "    eq_y = dot(eq, np.array([[1], [ns]])) \n",
    "    Eq_y = pd.DataFrame(np.reshape(eq_y, (d, 2)), columns = ['B','C'])\n",
    "    Y = Eq_y['C']/Eq_y['B']\n",
    "    return Y.values.reshape(d, 1)\n",
    "    \n",
    "def Reflectance(eq, ns, n0):\n",
    "    eq_Y = Eq_admittance(eq, ns)\n",
    "    r = (n0-eq_Y)/(n0+eq_Y)\n",
    "    R = np.reshape(r*r.conjugate(), np.size(eq_Y))\n",
    "    return np.real(R)"
   ]
  },
  {
   "cell_type": "code",
   "execution_count": 55,
   "metadata": {},
   "outputs": [
    {
     "data": {
      "image/png": "[encoded data removed]",
      "text/plain": [
       "<Figure size 432x288 with 1 Axes>"
      ]
     },
     "metadata": {
      "needs_background": "light"
     },
     "output_type": "display_data"
    }
   ],
   "source": [
    "target_w = np.linspace(900,2000, 1000)\n",
    "layer1 = TF(2.1, 288.67).matrix(target_w)\n",
    "layer2 = TF(1.42, 223.67).matrix(target_w)\n",
    "layer3 = TF(2.1, 299.67).matrix(target_w)\n",
    "tf_matrix = Eq_TF_Matrix([layer2, layer1])\n",
    "substrate = 1.8\n",
    "air = 1\n",
    "\n",
    "R = Reflectance(tf_matrix, substrate, air)\n",
    "plt.plot(target_w, R)\n",
    "plt.show()"
   ]
  },
  {
   "cell_type": "code",
   "execution_count": 4,
   "metadata": {},
   "outputs": [],
   "source": [
    "target_w = np.linspace(430, 680)\n",
    "substrate = 1.5 # glass \n",
    "ambient = 1 # air\n",
    "layer_IM1 = TF.().matrix(target_w)\n",
    "layer_YITO = TF.().matrix(target_w)\n",
    "layer_Bridge = TF.().matrix(target_w)\n",
    "layer_XITO = TF.().matrix(target_w)\n",
    "layer_IM2 = TF.().matrix(target_w)\n",
    "layer_PL = TF.().matrix(target_w)"
   ]
  }
 ],
 "metadata": {
  "kernelspec": {
   "display_name": "Python 3",
   "language": "python",
   "name": "python3"
  },
  "language_info": {
   "codemirror_mode": {
    "name": "ipython",
    "version": 3
   },
   "file_extension": ".py",
   "mimetype": "text/x-python",
   "name": "python",
   "nbconvert_exporter": "python",
   "pygments_lexer": "ipython3",
   "version": "3.8.2"
  }
 },
 "nbformat": 4,
 "nbformat_minor": 4
}
