{
 "cells": [
  {
   "cell_type": "code",
   "execution_count": 1,
   "metadata": {},
   "outputs": [],
   "source": [
    "import numpy as np\n",
    "import pandas as pd\n",
    "import thinfilm as tm\n",
    "import material as ml\n",
    "import matplotlib.pyplot as plt\n",
    "from scipy.optimize import differential_evolution as de"
   ]
  },
  {
   "cell_type": "code",
   "execution_count": 2,
   "metadata": {},
   "outputs": [],
   "source": [
    "# open measurement file\n",
    "scan_file = pd.read_csv('./measurement/R_5_B6.csv')\n",
    "scan = scan_file['SCAN'].values"
   ]
  },
  {
   "cell_type": "code",
   "execution_count": 3,
   "metadata": {},
   "outputs": [],
   "source": [
    "# open material\n",
    "SiO2 = ml.open_material('SiO2', 'Sellmeier')\n",
    "SiN = ml.open_material('SiN', 'Sellmeier')\n",
    "ITO = ml.open_material('ITO', 'Sellmeier')\n",
    "Acrylic = ml.open_material('Acrylic', 'Sellmeier')\n",
    "OC = ml.open_material('OC', 'Sellmeier')\n",
    "sodalime = ml.open_material('sodalime', 'Material')\n",
    "SiO2.k = 1e-3\n",
    "ITO.k = 1e-1\n",
    "SiN.k = 1e-1\n",
    "air = ml.Non_Dispersion(1)"
   ]
  },
  {
   "cell_type": "code",
   "execution_count": 4,
   "metadata": {},
   "outputs": [],
   "source": [
    "SiO2_t = ml.Non_Dispersion(1.48)\n",
    "SiN_t = ml.Non_Dispersion(2.1)\n",
    "ITO_t = ml.Non_Dispersion(1.9)"
   ]
  },
  {
   "cell_type": "code",
   "execution_count": 21,
   "metadata": {},
   "outputs": [
    {
     "name": "stdout",
     "output_type": "stream",
     "text": [
      "[630. 631. 632. 633. 634. 635. 636. 637. 638. 639. 640.]\n"
     ]
    }
   ],
   "source": [
    "x = 230\n",
    "target_w = np.linspace(400, 700, 301)[x:x+11]\n",
    "target_R = (scan[x:x+11] - 0.11)/100\n",
    "print(target_w)"
   ]
  },
  {
   "cell_type": "code",
   "execution_count": 22,
   "metadata": {},
   "outputs": [],
   "source": [
    "def fom(th):\n",
    "    SiO2_t.n = th[6]\n",
    "    SiO2_t.k = th[7] \n",
    "    SiN_t.n = th[8] \n",
    "    SiN_t.k = th[9] \n",
    "    ITO_t.n = th[10] \n",
    "    ITO_t.k = th[11]\n",
    "    hypo_R = tm.Design([air, Acrylic, SiN_t, SiO2_t, ITO_t, SiO2_t, SiN_t, sodalime],\n",
    "                       [None, th[0], th[1], th[2], th[3], th[4], th[5], None]\n",
    "                      ).reflectance(target_w, 5)\n",
    "    return sum((target_R - hypo_R)**2)"
   ]
  },
  {
   "cell_type": "code",
   "execution_count": 23,
   "metadata": {},
   "outputs": [],
   "source": [
    "tht = [(1600,2000),(8,12),(40,60),(20,26),(40,60),(8,12),\n",
    "       (1.4,1.52),(0,1),(1.9, 3),(0,1),(1.7,1.9),(0,1)]\n",
    "sol = de(fom, tht)"
   ]
  },
  {
   "cell_type": "code",
   "execution_count": 24,
   "metadata": {},
   "outputs": [
    {
     "name": "stdout",
     "output_type": "stream",
     "text": [
      "Maximum number of iterations has been exceeded.\n",
      "[1.64109612e+03 8.49891838e+00 5.22152751e+01 2.02448712e+01\n",
      " 5.38055888e+01 1.03516225e+01 1.40722540e+00 8.96612398e-04\n",
      " 2.16889968e+00 5.22132490e-01 1.81794689e+00 2.56873327e-01]\n"
     ]
    }
   ],
   "source": [
    "print(sol.message)\n",
    "print(sol.x)"
   ]
  },
  {
   "cell_type": "code",
   "execution_count": 25,
   "metadata": {},
   "outputs": [],
   "source": [
    "pd.DataFrame({635:sol.x}).to_csv('./c_f/635.csv')"
   ]
  },
  {
   "cell_type": "code",
   "execution_count": 10,
   "metadata": {},
   "outputs": [],
   "source": [
    "def hyp(th):\n",
    "    SiO2_t.n = th[6]\n",
    "    SiO2_t.k = th[7] \n",
    "    SiN_t.n = th[8] \n",
    "    SiN_t.k = th[9] \n",
    "    ITO_t.n = th[10] \n",
    "    ITO_t.k = th[11]\n",
    "    hypo_R = tm.Design([air, Acrylic, SiN_t, SiO2_t, ITO_t, SiO2_t, SiN_t, sodalime],\n",
    "                       [None, th[0], th[1], th[2], th[3], th[4], th[5], None]\n",
    "                      ).reflectance(target_w, 5)\n",
    "    return hypo_R"
   ]
  },
  {
   "cell_type": "code",
   "execution_count": 13,
   "metadata": {},
   "outputs": [],
   "source": [
    "hypo_R = lambda th: tm.Design([air, Acrylic, SiN, SiO2, ITO, SiO2, SiN, sodalime],\n",
    "                              [None, th[0], th[1], th[2], th[3], th[4], th[5], None]\n",
    "                             ).reflectance(target_w, 5)\n",
    "FOM = lambda th: sum((hypo_R(th)-target_R)**2)"
   ]
  },
  {
   "cell_type": "code",
   "execution_count": 14,
   "metadata": {},
   "outputs": [],
   "source": [
    "th = [(1500, 2500),(4, 20),(20, 80),(10,30),(20, 80),(4,20)]\n",
    "res = de(FOM, th)"
   ]
  },
  {
   "cell_type": "code",
   "execution_count": 15,
   "metadata": {},
   "outputs": [
    {
     "name": "stdout",
     "output_type": "stream",
     "text": [
      "Optimization terminated successfully.\n",
      "[1761.61872795   17.5172188    26.65292249   29.99451415   22.47133706\n",
      "   12.82781435]\n"
     ]
    }
   ],
   "source": [
    "print(res.message)\n",
    "print(res.x)"
   ]
  },
  {
   "cell_type": "code",
   "execution_count": 26,
   "metadata": {
    "scrolled": true
   },
   "outputs": [
    {
     "data": {
      "image/png": "[encoded data removed]",
      "text/plain": [
       "<Figure size 432x288 with 1 Axes>"
      ]
     },
     "metadata": {
      "needs_background": "light"
     },
     "output_type": "display_data"
    }
   ],
   "source": [
    "plt.plot(target_w, target_R)\n",
    "#plt.plot(target_w, hypo_R(res.x))\n",
    "plt.plot(target_w, hyp(sol.x))\n",
    "#plt.savefig('highn.png')\n",
    "plt.show()"
   ]
  }
 ],
 "metadata": {
  "kernelspec": {
   "display_name": "Python 3",
   "language": "python",
   "name": "python3"
  },
  "language_info": {
   "codemirror_mode": {
    "name": "ipython",
    "version": 3
   },
   "file_extension": ".py",
   "mimetype": "text/x-python",
   "name": "python",
   "nbconvert_exporter": "python",
   "pygments_lexer": "ipython3",
   "version": "3.8.2"
  }
 },
 "nbformat": 4,
 "nbformat_minor": 4
}
