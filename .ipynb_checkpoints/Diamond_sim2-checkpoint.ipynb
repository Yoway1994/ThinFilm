{
 "cells": [
  {
   "cell_type": "code",
   "execution_count": 2,
   "metadata": {},
   "outputs": [],
   "source": [
    "import numpy as np\n",
    "import pandas as pd\n",
    "import thinfilm as tm\n",
    "import material as ml\n",
    "import matplotlib.pyplot as plt\n",
    "from scipy.optimize import differential_evolution as de"
   ]
  },
  {
   "cell_type": "code",
   "execution_count": 3,
   "metadata": {},
   "outputs": [],
   "source": [
    "# open measurement file\n",
    "scan_file = pd.read_csv('./measurement/R_5_B6.csv')\n",
    "scan = scan_file['SCAN'].values"
   ]
  },
  {
   "cell_type": "code",
   "execution_count": 4,
   "metadata": {},
   "outputs": [],
   "source": [
    "# open material\n",
    "SiO2 = ml.open_material('SiO2', 'Sellmeier')\n",
    "SiN = ml.open_material('SiN', 'Sellmeier')\n",
    "ITO = ml.open_material('ITO', 'Sellmeier')\n",
    "Acrylic = ml.open_material('Acrylic', 'Sellmeier')\n",
    "OC = ml.open_material('OC', 'Sellmeier')\n",
    "sodalime = ml.open_material('sodalime', 'Material')\n",
    "SiO2.k = 1e-3\n",
    "ITO.k = 1e-1\n",
    "SiN.k = 1e-1\n",
    "air = ml.Non_Dispersion(1)"
   ]
  },
  {
   "cell_type": "code",
   "execution_count": 5,
   "metadata": {},
   "outputs": [],
   "source": [
    "SiO2_t = ml.Non_Dispersion(1.48)\n",
    "SiN_t = ml.Non_Dispersion(2.1)\n",
    "ITO_t = ml.Non_Dispersion(1.9)"
   ]
  },
  {
   "cell_type": "code",
   "execution_count": 12,
   "metadata": {},
   "outputs": [
    {
     "name": "stdout",
     "output_type": "stream",
     "text": [
      "[0.0486 0.0511 0.0528 0.0547 0.0551 0.0548 0.0536 0.0532 0.0527 0.0512]\n"
     ]
    }
   ],
   "source": [
    "x = 0\n",
    "target_w = np.linspace(400, 700, 301)[x:x+10]\n",
    "target_R = (scan[x: x+10] - 0.11)/100\n",
    "print(target_R)"
   ]
  },
  {
   "cell_type": "code",
   "execution_count": 90,
   "metadata": {},
   "outputs": [],
   "source": [
    "def fom(th):\n",
    "    SiO2_t.n = th[6]\n",
    "    SiO2_t.k = th[7] \n",
    "    SiN_t.n = th[8] \n",
    "    SiN_t.k = th[9] \n",
    "    ITO_t.n = th[10] \n",
    "    ITO_t.k = th[11]\n",
    "    hypo_R = tm.Design([air, Acrylic, SiN_t, SiO2_t, ITO_t, SiO2_t, SiN_t, sodalime],\n",
    "                       [None, th[0], th[1], th[2], th[3], th[4], th[5], None]\n",
    "                      ).reflectance(target_w, 5)\n",
    "    return sum((target_R - hypo_R)**2)"
   ]
  },
  {
   "cell_type": "code",
   "execution_count": 92,
   "metadata": {},
   "outputs": [],
   "source": [
    "tht = [(1500,2100),(8,12),(40,60),(18,28),(40,60),(8,12),\n",
    "       (1.44,1.52),(0,1e-3),(2.5,3.4),(1e-3,1),(1.8,1.95),(1e-3,1)]\n",
    "sol = de(fom, tht)"
   ]
  },
  {
   "cell_type": "code",
   "execution_count": 93,
   "metadata": {},
   "outputs": [
    {
     "name": "stdout",
     "output_type": "stream",
     "text": [
      "Optimization terminated successfully.\n",
      "[1.93160134e+03 8.00003595e+00 4.42236467e+01 2.79993220e+01\n",
      " 5.99958501e+01 8.00111248e+00 1.44000000e+00 0.00000000e+00\n",
      " 2.50000000e+00 6.73468168e-01 1.95000000e+00 6.26472994e-01]\n"
     ]
    }
   ],
   "source": [
    "print(sol.message)\n",
    "print(sol.x)"
   ]
  },
  {
   "cell_type": "code",
   "execution_count": 54,
   "metadata": {},
   "outputs": [],
   "source": [
    "def hyp(th):\n",
    "    SiO2_t.n = th[6]\n",
    "    SiO2_t.k = th[7] \n",
    "    SiN_t.n = th[8] \n",
    "    SiN_t.k = th[9] \n",
    "    ITO_t.n = th[10] \n",
    "    ITO_t.k = th[11]\n",
    "    hypo_R = tm.Design([air, Acrylic, SiN_t, SiO2_t, ITO_t, SiO2_t, SiN_t, sodalime],\n",
    "                       [None, th[0], th[1], th[2], th[3], th[4], th[5], None]\n",
    "                      ).reflectance(target_w, 5)\n",
    "    return hypo_R"
   ]
  },
  {
   "cell_type": "code",
   "execution_count": 25,
   "metadata": {},
   "outputs": [],
   "source": [
    "hypo_R = lambda th: tm.Design([air, Acrylic, SiN, SiO2, ITO, SiO2, SiN, sodalime],\n",
    "                              [None, th[0], th[1], th[2], th[3], th[4], th[5], None]\n",
    "                             ).reflectance(target_w, 5)\n",
    "FOM = lambda th: sum((hypo_R(th)-target_R)**2)"
   ]
  },
  {
   "cell_type": "code",
   "execution_count": 26,
   "metadata": {},
   "outputs": [],
   "source": [
    "th = [(1500, 2500),(4, 20),(20, 80),(10,30),(20, 80),(4,20)]\n",
    "res = de(FOM, th)"
   ]
  },
  {
   "cell_type": "code",
   "execution_count": 27,
   "metadata": {},
   "outputs": [
    {
     "name": "stdout",
     "output_type": "stream",
     "text": [
      "Optimization terminated successfully.\n",
      "[1759.49620642   16.56010094   28.49755472   27.9552742    24.1854695\n",
      "   11.86770109]\n"
     ]
    }
   ],
   "source": [
    "print(res.message)\n",
    "print(res.x)"
   ]
  },
  {
   "cell_type": "code",
   "execution_count": 96,
   "metadata": {},
   "outputs": [
    {
     "data": {
      "image/png": "[encoded data removed]",
      "text/plain": [
       "<Figure size 432x288 with 1 Axes>"
      ]
     },
     "metadata": {
      "needs_background": "light"
     },
     "output_type": "display_data"
    }
   ],
   "source": [
    "plt.plot(target_w, target_R)\n",
    "#plt.plot(target_w, hypo_R(res.x))\n",
    "plt.plot(target_w, hyp(sol.x))\n",
    "plt.show()"
   ]
  },
  {
   "cell_type": "code",
   "execution_count": null,
   "metadata": {},
   "outputs": [],
   "source": []
  }
 ],
 "metadata": {
  "kernelspec": {
   "display_name": "Python 3",
   "language": "python",
   "name": "python3"
  },
  "language_info": {
   "codemirror_mode": {
    "name": "ipython",
    "version": 3
   },
   "file_extension": ".py",
   "mimetype": "text/x-python",
   "name": "python",
   "nbconvert_exporter": "python",
   "pygments_lexer": "ipython3",
   "version": "3.8.2"
  }
 },
 "nbformat": 4,
 "nbformat_minor": 4
}
