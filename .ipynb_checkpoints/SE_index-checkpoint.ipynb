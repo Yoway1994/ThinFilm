{
 "cells": [
  {
   "cell_type": "code",
   "execution_count": 13,
   "metadata": {},
   "outputs": [],
   "source": [
    "import xml.etree.ElementTree as ET\n",
    "import matplotlib.pyplot as plt\n",
    "import material as ml\n",
    "import numpy as np\n",
    "import pandas as pd\n",
    "from material import sellmeier_fitting as sf\n",
    "from os import path"
   ]
  },
  {
   "cell_type": "code",
   "execution_count": 17,
   "metadata": {},
   "outputs": [
    {
     "name": "stdout",
     "output_type": "stream",
     "text": [
      "[295.69498867 299.86046276 301.99936678 305.82690189 309.76689758\n",
      " 313.59433138 317.19646408 320.57347298 324.17552969 328.00268487\n",
      " 331.37956713 335.09405909 340.38441762 344.88666557 350.85211687\n",
      " 355.91704766 359.63136232 366.27188106 371.67437089 379.44030597\n",
      " 385.96808551 391.70805841 396.99773306 403.75050975 410.27811198\n",
      " 417.59352085 425.69676169 433.34970428 445.61687415 454.95783995\n",
      " 465.31160953 476.67823356 493.33417763 508.75211813 519.66844392\n",
      " 533.73581895 550.5040463  570.6484467  588.76703689 607.67340839\n",
      " 628.94304783 654.48902623 680.14749053 693.98953914 717.39732273\n",
      " 736.41610415 758.4733476  770.51481111 790.88403136 825.09514824] [0.02650073 0.02499999 0.02434343 0.02314755 0.02202203 0.02091996\n",
      " 0.02002895 0.01918483 0.01836417 0.01752007 0.01679321 0.01606637\n",
      " 0.01501127 0.01428447 0.01334666 0.01261988 0.0120572  0.01126014\n",
      " 0.01058028 0.00973637 0.00912692 0.00856434 0.00814245 0.00760336\n",
      " 0.00715808 0.00666593 0.00610346 0.00568168 0.00504904 0.00465079\n",
      " 0.00427605 0.00387789 0.00338618 0.00298821 0.00273075 0.00244999\n",
      " 0.0021928  0.00186541 0.00167865 0.00146846 0.00125839 0.00109543\n",
      " 0.00097937 0.00093311 0.00077005 0.00067713 0.00060781 0.00056147\n",
      " 0.00046862 0.00047022]\n"
     ]
    }
   ],
   "source": [
    "tree = ET.parse('.\\material\\OC_k.xml')\n",
    "root = tree.getroot()\n",
    "\n",
    "wl = []\n",
    "n = []\n",
    "\n",
    "for i in root.iter('point'):\n",
    "    wl.append(float(i.attrib['dx']))\n",
    "    n.append(float(i.attrib['dy']))\n",
    "wn = np.array(wl)\n",
    "nn = np.array(n)\n",
    "print(wn, nn)"
   ]
  },
  {
   "cell_type": "code",
   "execution_count": 18,
   "metadata": {},
   "outputs": [],
   "source": [
    "ml.save_material(wn, 'OC', '_wk')"
   ]
  },
  {
   "cell_type": "code",
   "execution_count": 47,
   "metadata": {},
   "outputs": [
    {
     "name": "stdout",
     "output_type": "stream",
     "text": [
      "requested number of basinhopping iterations completed successfully\n",
      "[ 0.62598679 -0.03534273 -0.36519534  1.38439905  0.00786237  0.11344442\n",
      " -0.0406279 ]\n"
     ]
    }
   ],
   "source": [
    "res = sf(wn, nn)\n",
    "print(res)"
   ]
  },
  {
   "cell_type": "code",
   "execution_count": 43,
   "metadata": {},
   "outputs": [],
   "source": [
    "ml.save_material(res, \"\", '_SE')"
   ]
  },
  {
   "cell_type": "code",
   "execution_count": 24,
   "metadata": {},
   "outputs": [],
   "source": [
    "test = ml.open_material('Acrylic', 'Sellmeier')"
   ]
  },
  {
   "cell_type": "code",
   "execution_count": 34,
   "metadata": {
    "scrolled": true
   },
   "outputs": [
    {
     "name": "stdout",
     "output_type": "stream",
     "text": [
      "[0.02549139 0.02450654 0.02316994 0.02206785 0.02089542 0.01976991\n",
      " 0.01913681 0.01840994 0.01747203 0.01648725 0.01561972 0.01458807\n",
      " 0.0137909  0.01313443 0.01226696 0.01146985 0.01074311 0.00999292\n",
      " 0.00924277 0.00839889 0.00760196 0.00673477 0.00589109 0.00525841\n",
      " 0.00483669 0.00418069 0.0037592  0.00315037 0.00279919 0.00244828\n",
      " 0.0020505  0.00174653 0.00151304 0.00132615 0.00113995 0.0009066\n",
      " 0.000767   0.00069751 0.00055776 0.00053494 0.00048895 0.00041959\n",
      " 0.00039693 0.00035102 0.00032841 0.00028262        nan        nan\n",
      "        nan        nan]\n",
      "[nan nan nan nan nan nan nan nan nan nan nan nan nan nan nan nan nan nan\n",
      " nan nan nan nan nan nan nan nan nan nan nan nan nan nan nan nan nan nan\n",
      " nan nan nan nan nan nan nan nan nan nan nan nan nan nan]\n"
     ]
    },
    {
     "data": {
      "image/png": "[encoded data removed]",
      "text/plain": [
       "<Figure size 432x288 with 1 Axes>"
      ]
     },
     "metadata": {
      "needs_background": "light"
     },
     "output_type": "display_data"
    }
   ],
   "source": [
    "x = np.linspace(400, 700)\n",
    "k = test.k\n",
    "wk = test.wl_k\n",
    "print(k)\n",
    "#plt.plot(wk, k)\n",
    "kk = test.kvalues(x)\n",
    "plt.plot(x, kk)\n",
    "print(kk)\n",
    "plt.show()"
   ]
  },
  {
   "cell_type": "code",
   "execution_count": 45,
   "metadata": {},
   "outputs": [
    {
     "data": {
      "image/png": "[encoded data removed]",
      "text/plain": [
       "<Figure size 432x288 with 1 Axes>"
      ]
     },
     "metadata": {
      "needs_background": "light"
     },
     "output_type": "display_data"
    }
   ],
   "source": [
    "plt.plot(wn, nn)\n",
    "plt.plot(wn, test.nvalues(wn))\n",
    "plt.show()"
   ]
  }
 ],
 "metadata": {
  "kernelspec": {
   "display_name": "Python 3",
   "language": "python",
   "name": "python3"
  },
  "language_info": {
   "codemirror_mode": {
    "name": "ipython",
    "version": 3
   },
   "file_extension": ".py",
   "mimetype": "text/x-python",
   "name": "python",
   "nbconvert_exporter": "python",
   "pygments_lexer": "ipython3",
   "version": "3.7.0"
  }
 },
 "nbformat": 4,
 "nbformat_minor": 4
}
