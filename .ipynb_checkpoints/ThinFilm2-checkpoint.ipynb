{
 "cells": [
  {
   "cell_type": "code",
   "execution_count": 2,
   "metadata": {},
   "outputs": [],
   "source": [
    "import numpy as np\n",
    "import pandas as pd\n",
    "import matplotlib.pyplot as plt\n",
    "from numpy import pi, sin, cos, dot"
   ]
  },
  {
   "cell_type": "code",
   "execution_count": 3,
   "metadata": {},
   "outputs": [],
   "source": [
    "class TF:\n",
    "    def __init__(self, n, d):\n",
    "        self.index = n\n",
    "        self.thickness = d\n",
    "        \n",
    "    def matrix(self, w):\n",
    "        delta = 2*pi*(self.index)*(self.thickness)/w\n",
    "        ita = self.index\n",
    "        element = pd.DataFrame(\n",
    "            {'e1':cos(delta), 'e2':1j/ita*sin(delta), 'e3':1j*ita*sin(delta), 'e4':cos(delta)}\n",
    "        )\n",
    "        matrix = np.reshape(element.values.reshape(1,-1), (np.size(w), 2, 2))\n",
    "        return matrix\n",
    "    \n",
    "def Matrix_dot(layer_up, layer_bot): \n",
    "    w, _, _ = np.shape(layer_up)\n",
    "    eq = [dot(layer_up[i], layer_bot[i]) for i in range(w)]\n",
    "    return eq\n",
    "\n",
    "def Eq_TF_Matrix(design):\n",
    "    eq_matrix = Matrix_dot(design[-2], design[-1])\n",
    "    for i, layer in enumerate(design):\n",
    "        if i > 2:\n",
    "            eq_matrix = Matrix_dot(design[-i], eq_matrix)\n",
    "    return eq_matrix\n",
    "\n",
    "def Eq_admittance(eq, ns):\n",
    "    d, _, _ = np.shape(eq)\n",
    "    eq_y = dot(eq, np.array([[1], [ns]])) \n",
    "    Eq_y = pd.DataFrame(np.reshape(eq_y, (d, 2)), columns = ['B','C'])\n",
    "    Y = Eq_y['C']/Eq_y['B']\n",
    "    return Y.values.reshape(d, 1)\n",
    "    \n",
    "def Reflectance(eq, ns, n0):\n",
    "    eq_Y = Eq_admittance(eq, ns)\n",
    "    r = (n0-eq_Y)/(n0+eq_Y)\n",
    "    R = np.reshape(r*r.conjugate(), np.size(eq_Y))\n",
    "    return np.real(R)"
   ]
  },
  {
   "cell_type": "code",
   "execution_count": 13,
   "metadata": {},
   "outputs": [
    {
     "data": {
      "image/png": "[encoded data removed]",
      "text/plain": [
       "<Figure size 432x288 with 1 Axes>"
      ]
     },
     "metadata": {
      "needs_background": "light"
     },
     "output_type": "display_data"
    }
   ],
   "source": [
    "target_w = np.linspace(900,2000, 1000)\n",
    "layer1 = TF(2.1, 288.67).matrix(target_w)\n",
    "layer2 = TF(1.42, 223.67).matrix(target_w)\n",
    "substrate = 1.8\n",
    "air = 1\n",
    "tf_matrix = Eq_TF_Matrix([layer2, layer1])\n",
    "R = Reflectance(tf_matrix, substrate, air)\n",
    "plt.plot(target_w, R)\n",
    "plt.show()"
   ]
  },
  {
   "cell_type": "code",
   "execution_count": 62,
   "metadata": {},
   "outputs": [],
   "source": [
    "def derivate(f1, f2, dx):\n",
    "    return (f1 - f2)/dx\n",
    "\n",
    "def FoM(hofx, target)\n",
    "    merit = sum(1/abs(hofx-target))\n",
    "    return merit"
   ]
  },
  {
   "cell_type": "code",
   "execution_count": 83,
   "metadata": {},
   "outputs": [
    {
     "name": "stdout",
     "output_type": "stream",
     "text": [
      "8.233344561681122e-06\n",
      "8.233344561681122e-06\n",
      "8.233214457420424e-06\n",
      "8.233171089333524e-06\n",
      "8.233301193594222e-06\n",
      "8.233344561681122e-06\n",
      "8.233301193594222e-06\n",
      "8.233171089333524e-06\n",
      "8.233257825507323e-06\n",
      "8.233344561681122e-06\n"
     ]
    },
    {
     "data": {
      "image/png": "[encoded data removed]",
      "text/plain": [
       "<Figure size 432x288 with 1 Axes>"
      ]
     },
     "metadata": {
      "needs_background": "light"
     },
     "output_type": "display_data"
    }
   ],
   "source": [
    "w_target = np.linspace(520, 530)\n",
    "R_target = np.zeros(np.size(w_target))\n",
    "m = np.size(w_target)\n",
    "d = 100 # inital thickness\n",
    "substrate1 = 1.5\n",
    "ambient1 = 1.5\n",
    "step = 10**(-8)\n",
    "cost = []\n",
    "costi = []\n",
    "for i in range(10):\n",
    "    alpha = 1\n",
    "    layer = TF(1.4, d).matrix(w_target)\n",
    "    layer_dx = TF(1.4, d+step).matrix(w_target)\n",
    "    R_hofx = Reflectance(layer, substrate1, ambient1)\n",
    "    R_hofx_dx = Reflectance(layer_dx, substrate1, ambient1)\n",
    "    J = 1/(2*m)*sum((R_hofx-R_target))\n",
    "    J_dx = 1/(2*m)*sum((R_hofx_dx-R_target))\n",
    "    Grad_J = derivate(J, J_dx, step)\n",
    "    print(Grad_J)\n",
    "    #print(d)\n",
    "    #print(sum(R_hofx))\n",
    "    d = d-alpha*Grad_J\n",
    "    cost.append(J)\n",
    "    costi.append(i)\n",
    "    #print(d)\n",
    "plt.plot(costi, cost)\n",
    "plt.show()"
   ]
  },
  {
   "cell_type": "code",
   "execution_count": null,
   "metadata": {},
   "outputs": [],
   "source": []
  }
 ],
 "metadata": {
  "kernelspec": {
   "display_name": "Python 3",
   "language": "python",
   "name": "python3"
  },
  "language_info": {
   "codemirror_mode": {
    "name": "ipython",
    "version": 3
   },
   "file_extension": ".py",
   "mimetype": "text/x-python",
   "name": "python",
   "nbconvert_exporter": "python",
   "pygments_lexer": "ipython3",
   "version": "3.8.2"
  }
 },
 "nbformat": 4,
 "nbformat_minor": 4
}
