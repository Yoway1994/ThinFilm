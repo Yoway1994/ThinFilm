{
 "cells": [
  {
   "cell_type": "code",
   "execution_count": 23,
   "metadata": {},
   "outputs": [],
   "source": [
    "import numpy as np\n",
    "import pandas as pd\n",
    "import thinfilm as tm\n",
    "import material as ml\n",
    "import matplotlib.pyplot as plt\n",
    "from random import uniform, randrange\n",
    "\n",
    "air = ml.Non_Dispersion(1)\n",
    "sodalime = ml.open_material('sodalime', 'Material')\n",
    "SiO2_L = ml.open_material('SiO2_LENS', 'Sellmeier')\n",
    "SiN_L = ml.open_material('SiN_LENS', 'Sellmeier')\n",
    "ITO_L = ml.open_material('ITO_LENS', 'Sellmeier')\n",
    "OC = ml.open_material('OC_LENS', 'Material')\n",
    "\n",
    "ITO = ml.Cauchy([1.640727, 0.050604], ITO_L.k, ITO_L.wl_k)\n",
    "SiN = ml.Cauchy([1.97812451, 0.0100578])\n",
    "SiO2 = ml.Cauchy([1.50818418, 0.00141496727])\n",
    "\n",
    "wl = np.linspace(400, 700, 301)\n",
    "\n",
    "hypo_bri = lambda th: tm.Design(\n",
    "    [air, OC, SiN, SiO2, ITO, OC, ITO, SiO2, SiN, sodalime],\n",
    "    [None, th[0]-th[4], th[1], th[2], th[3], th[4], th[5], th[6], th[7], None]\n",
    ").reflectance(wl)\n",
    "\n",
    "hypo_dia = lambda th: tm.Design(\n",
    "    [air, OC, SiN, SiO2, ITO, SiO2, SiN, sodalime],\n",
    "    [None, th[0], th[1], th[2], th[3], th[6], th[7], None]\n",
    ").reflectance(wl)\n",
    "\n",
    "hypo_tra = lambda th: tm.Design(\n",
    "    [air, OC, SiN, SiO2, SiO2, SiN, sodalime],\n",
    "    [None, th[0], th[1], th[2], th[6], th[7], None]\n",
    ").reflectance(wl)\n",
    "\n",
    "f7 = [1709.56382882,13.49562472,25.06644048,20.00613518,35.05068117,12.78743588]"
   ]
  },
  {
   "cell_type": "code",
   "execution_count": 3,
   "metadata": {},
   "outputs": [],
   "source": [
    "margin = []"
   ]
  },
  {
   "cell_type": "code",
   "execution_count": 4,
   "metadata": {},
   "outputs": [],
   "source": [
    "for i in range(0,1000):\n",
    "    th = [\n",
    "        randrange(1540, 1880, 10),\n",
    "        uniform(8.5, 18.5),\n",
    "        uniform(20.1, 30.1),\n",
    "        uniform(15,25),\n",
    "        randrange(1080,1320,10),\n",
    "        uniform(50,60),\n",
    "        uniform(30.1,40.1),\n",
    "        uniform(7.8,17.8)\n",
    "    ]\n",
    "    R_bri = hypo_bri(th)\n",
    "    R_dia = hypo_dia(th)\n",
    "    R_tra = hypo_tra(th)\n",
    "    delta_d_b = np.mean(abs(R_bri-R_dia))\n",
    "    delta_d_t = np.mean(abs(R_tra-R_dia))\n",
    "    margin.append({'Rb':delta_d_b, 'Rt':delta_d_t, 'th':th})"
   ]
  },
  {
   "cell_type": "code",
   "execution_count": 12,
   "metadata": {},
   "outputs": [],
   "source": [
    "Rb = []\n",
    "Rt = []\n",
    "th = []\n",
    "for i in margin:\n",
    "    Rb.append(i['Rb'])\n",
    "    Rt.append(i['Rt'])\n",
    "    th.append(i['th'])"
   ]
  },
  {
   "cell_type": "code",
   "execution_count": 27,
   "metadata": {},
   "outputs": [],
   "source": [
    "c = np.zeros(12)\n",
    "for i in Rt:\n",
    "    x = 0.0054\n",
    "    if i < x-0.01:\n",
    "        c[0] = c[0]+1\n",
    "    elif i < x-0.008:    \n",
    "        c[1] = c[1]+1\n",
    "    elif i < x-0.006:\n",
    "        c[2] = c[2]+1\n",
    "    elif i < x-0.004:\n",
    "        c[3] = c[3]+1\n",
    "    elif i < x-0.002:\n",
    "        c[4] = c[4]+1\n",
    "    elif i < x:\n",
    "        c[5] = c[5]+1\n",
    "    elif i < x+0.002:\n",
    "        c[6] = c[6]+1 \n",
    "    elif i < x+0.004:\n",
    "        c[7] = c[7]+1 \n",
    "    elif i < x+0.006:\n",
    "        c[8] = c[8]+1 \n",
    "    elif i < x+0.008:\n",
    "        c[9] = c[9]+1 \n",
    "    elif i < x+0.01:\n",
    "        c[10] = c[10]+1\n",
    "    else:\n",
    "        c[11] = c[11]+1"
   ]
  },
  {
   "cell_type": "code",
   "execution_count": 31,
   "metadata": {},
   "outputs": [
    {
     "data": {
      "image/png": "[encoded data removed]",
      "text/plain": [
       "<Figure size 720x432 with 1 Axes>"
      ]
     },
     "metadata": {
      "needs_background": "light"
     },
     "output_type": "display_data"
    }
   ],
   "source": [
    "plt.figure( figsize=(10, 6))\n",
    "plt.bar(\n",
    "    ['<-0.1%','-0.08%','-0.06%','-0.04%','-0.02%','0','+0.02%','+0.04%','+0.06%','+0.08%','+0.1%','>0.1%'], \n",
    "    c, width = 0.35, facecolor = 'lightskyblue', edgecolor = 'white',\n",
    ")\n",
    "plt.xlim(4,10)\n",
    "plt.xlabel('delta R% (誤差值)')\n",
    "#plt.savefig('LENS_rev1_margin.png')\n",
    "plt.show()\n",
    "\n"
   ]
  }
 ],
 "metadata": {
  "kernelspec": {
   "display_name": "Python 3",
   "language": "python",
   "name": "python3"
  },
  "language_info": {
   "codemirror_mode": {
    "name": "ipython",
    "version": 3
   },
   "file_extension": ".py",
   "mimetype": "text/x-python",
   "name": "python",
   "nbconvert_exporter": "python",
   "pygments_lexer": "ipython3",
   "version": "3.8.2"
  }
 },
 "nbformat": 4,
 "nbformat_minor": 4
}
