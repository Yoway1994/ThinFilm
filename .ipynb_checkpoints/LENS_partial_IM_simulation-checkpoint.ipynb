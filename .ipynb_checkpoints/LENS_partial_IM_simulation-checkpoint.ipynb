{
 "cells": [
  {
   "cell_type": "code",
   "execution_count": 5,
   "metadata": {},
   "outputs": [],
   "source": [
    "import numpy as np\n",
    "import pandas as pd\n",
    "import material as ml\n",
    "import thinfilm as tm\n",
    "import matplotlib.pyplot as plt\n",
    "from scipy.optimize import differential_evolution\n",
    "\n",
    "air = ml.Non_Dispersion(1)\n",
    "sodalime = ml.Non_Dispersion(1.65)\n",
    "OC = ml.open_material('OC_LENS', 'Material')\n",
    "ITO_L = ml.open_material('ITO_LENS', 'Sellmeier')\n",
    "ITO = ml.Cauchy([1.640727, 0.050604], ITO_L.k, ITO_L.wl_k)\n",
    "SiN = ml.Cauchy([1.97812451, 0.0100578])\n",
    "SiO2 = ml.Cauchy([1.50818418, 0.00141496727])\n",
    "\n",
    "wl = np.linspace(400, 700, 301)\n",
    "\n",
    "bri = lambda th:tm.Design(\n",
    "    [air, OC, SiN, SiO2, ITO, SiO2, SiN, OC, ITO, SiO2, SiN, sodalime],\n",
    "    [None, th[0]-th[3]-th[4]-th[5]-th[6], th[1], th[2], th[3], th[4], th[5], th[6], th[7], th[8], th[9], None]\n",
    ").reflectance(wl)\n",
    "\n",
    "dia = lambda th:tm.Design(\n",
    "    [air, OC, SiN, SiO2, ITO, SiO2, SiN, sodalime],\n",
    "    [None, th[0], th[1], th[2], th[3], th[8], th[9], None]\n",
    ").reflectance(wl)\n",
    "\n",
    "tra = lambda th:tm.Design(\n",
    "    [air, OC, SiN, SiO2, SiO2, SiN, sodalime],\n",
    "    [None, th[0], th[1], th[2], th[8], th[9], None]\n",
    ").reflectance(wl)\n",
    "\n",
    "delta_d_b = lambda th: sum(abs(bri(th)-dia(th)))\n",
    "delta_d_t = lambda th: sum(abs(tra(th)-dia(th)))\n",
    "\n",
    "fom = lambda th: delta_d_b(th)+delta_d_t(th)"
   ]
  },
  {
   "cell_type": "code",
   "execution_count": null,
   "metadata": {},
   "outputs": [],
   "source": [
    "sol = differential_evolution(\n",
    "    fom, [\n",
    "        (2000,2600),(4,80),(4,80),(20,40),(4,80),(4,80),(1000,1500),(70,200),(4,80),(4,80)\n",
    "    ], disp=True, polish=False, popsize=20, mutation=0.3, recombination =0.9,strategy = 'best1exp'\n",
    ")\n",
    "print(sol.x)"
   ]
  },
  {
   "cell_type": "code",
   "execution_count": null,
   "metadata": {},
   "outputs": [],
   "source": [
    "tk = sol.x\n",
    "\n",
    "print('bridge:',100*np.mean(bri(tk)))\n",
    "print('xy-ITO:',100*np.mean(dia(tk)))\n",
    "print('pattern:',100*np.mean(tra(tk)))\n",
    "print('bridge:',100*delta_d_b(tk))\n",
    "print('pattern:',100*delta_d_t(tk))\n",
    "\n",
    "plt.plot(wl, bri(tk), 'r-', label = 'bridge')\n",
    "plt.plot(wl, dia(tk), 'k-', label = 'diamond')\n",
    "plt.plot(wl, tri(tk), 'b-', label = 'trace')\n",
    "plt.legend(loc = 'best')\n",
    "plt.show()"
   ]
  }
 ],
 "metadata": {
  "kernelspec": {
   "display_name": "Python 3",
   "language": "python",
   "name": "python3"
  },
  "language_info": {
   "codemirror_mode": {
    "name": "ipython",
    "version": 3
   },
   "file_extension": ".py",
   "mimetype": "text/x-python",
   "name": "python",
   "nbconvert_exporter": "python",
   "pygments_lexer": "ipython3",
   "version": "3.8.2"
  }
 },
 "nbformat": 4,
 "nbformat_minor": 4
}
