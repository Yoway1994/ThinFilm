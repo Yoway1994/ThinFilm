{
 "cells": [
  {
   "cell_type": "code",
   "execution_count": 48,
   "metadata": {},
   "outputs": [],
   "source": [
    "import numpy as np\n",
    "import pandas as pd\n",
    "import material as ml\n",
    "import thinfilm as tm\n",
    "import matplotlib.pyplot as plt\n",
    "from scipy.optimize import differential_evolution \n",
    "\n",
    "R_SCAN = pd.read_csv('./spectrum/Nanya_2IM_layer2_R5_3.csv')['SCAN'].values\n",
    "\n",
    "SiO2_1 = pd.read_csv('./spectrum/TEO/SiO2_1.csv')\n",
    "SiO21n = SiO2_1['n'].values\n",
    "SiO21k = SiO2_1['k'].values\n",
    "\n",
    "NB_1 = pd.read_csv('./spectrum/TEO/NB_1.csv')\n",
    "NB1n = NB_1['n'].values\n",
    "NB1k = NB_1['k'].values\n",
    "\n",
    "sub =  pd.read_csv('./spectrum/TEO/sodalime.csv')\n",
    "soda_n = sub['n'].values\n",
    "soda_k = sub['k'].values\n",
    "w = SiO2_1['nm'].values\n",
    "\n",
    "air = ml.Non_Dispersion(1)\n",
    "SiO2_TEO = ml.Material(w, SiO21n, SiO21k, w)\n",
    "NB_TEO = ml.Material(w, NB1n, NB1k, w)\n",
    "sodalime_Nanya_TEO = ml.Material(w, soda_n, soda_k, w)\n",
    "\n",
    "wl = np.linspace(400,700,301)\n",
    "\n",
    "model = lambda th: tm.Design(\n",
    "    [air, SiO2_TEO, NB_TEO, sodalime_Nanya_TEO],\n",
    "    [None, th[0], th[1], None]\n",
    ").reflectance(wl, 5)\n",
    "\n",
    "fom = lambda th: tm.RMSE(100*model(th), R_SCAN)"
   ]
  },
  {
   "cell_type": "code",
   "execution_count": 23,
   "metadata": {},
   "outputs": [
    {
     "name": "stdout",
     "output_type": "stream",
     "text": [
      "differential_evolution step 1: f(x)= 0.214566\n",
      "differential_evolution step 2: f(x)= 0.0380471\n",
      "differential_evolution step 3: f(x)= 0.0380471\n",
      "differential_evolution step 4: f(x)= 0.0304291\n",
      "differential_evolution step 5: f(x)= 0.030056\n",
      "differential_evolution step 6: f(x)= 0.029918\n",
      "differential_evolution step 7: f(x)= 0.0299082\n",
      "differential_evolution step 8: f(x)= 0.0299079\n",
      "[31.85199824  9.42900173]\n"
     ]
    }
   ],
   "source": [
    "sol = differential_evolution(\n",
    "    fom, [\n",
    "        (0,50),\n",
    "        (0,50),\n",
    "    ], disp=True, polish=False, popsize=20, mutation=0.3, recombination =0.9,strategy = 'best1exp'\n",
    ")\n",
    "print(sol.x)"
   ]
  },
  {
   "cell_type": "code",
   "execution_count": 50,
   "metadata": {},
   "outputs": [
    {
     "data": {
      "image/png": "[encoded data removed]",
      "text/plain": [
       "<Figure size 432x288 with 1 Axes>"
      ]
     },
     "metadata": {
      "needs_background": "light"
     },
     "output_type": "display_data"
    }
   ],
   "source": [
    "plt.plot(wl, 100*model([30.506, 9.237]))\n",
    "plt.plot(wl, R_SCAN)\n",
    "plt.show()\n",
    "pd.DataFrame({'R':100*model([30.506, 9.237])}).to_csv('r.csv')\n"
   ]
  }
 ],
 "metadata": {
  "kernelspec": {
   "display_name": "Python 3",
   "language": "python",
   "name": "python3"
  },
  "language_info": {
   "codemirror_mode": {
    "name": "ipython",
    "version": 3
   },
   "file_extension": ".py",
   "mimetype": "text/x-python",
   "name": "python",
   "nbconvert_exporter": "python",
   "pygments_lexer": "ipython3",
   "version": "3.8.2"
  }
 },
 "nbformat": 4,
 "nbformat_minor": 4
}
