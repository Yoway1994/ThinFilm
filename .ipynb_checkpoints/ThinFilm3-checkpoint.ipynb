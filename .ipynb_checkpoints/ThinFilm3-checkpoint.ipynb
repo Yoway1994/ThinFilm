{
 "cells": [
  {
   "cell_type": "code",
   "execution_count": 10,
   "metadata": {},
   "outputs": [],
   "source": [
    "import numpy as np\n",
    "import pandas as pd\n",
    "import matplotlib.pyplot as plt\n",
    "from scipy.interpolate import interp1d\n",
    "from numpy import pi, sin, cos, arcsin, dot\n",
    "\n",
    "class ThinFilm_model:\n",
    "    def __init__(self, ambient, thinfilm, substrate, angle = 0):\n",
    "        self.ambient = ambient['a']\n",
    "        self.thinfilm = thinfilm\n",
    "        self.angle = angle\n",
    "        if self.angle != 0:\n",
    "            self.substrate = substrate['s']\n",
    "        else:\n",
    "            self.substrate = substrate['s']\n",
    "        \n",
    "    def eq_tf_matrix(self, wl):\n",
    "        eq_matrix = identity_matrix(wl)\n",
    "        for i in range(np.size(self.thinfilm)):\n",
    "            eq_matrix = matrix_dot(tf_matrix(self.thinfilm[-i-1], wl), eq_matrix)\n",
    "        return eq_matrix\n",
    "\n",
    "    def eq_admittance(self, wl):\n",
    "        eq_matrix = self.eq_tf_matrix(wl)\n",
    "        eq_y = bc(eq_matrix, self.substrate, wl)\n",
    "        Y = eq_y['C']/eq_y['B']\n",
    "        return Y.values.reshape(np.size(wl), 1)\n",
    "        \n",
    "    def R(self, wl):\n",
    "        eq_Y = self.eq_admittance(wl)\n",
    "        r = (self.ambient-eq_Y)/(self.ambient+eq_Y)\n",
    "        reflectance = np.reshape(r*r.conjugate(), np.size(eq_Y))\n",
    "        return np.real(reflectance)\n",
    "    \n",
    "class oblique_incident:\n",
    "    def __init__(self, S, P, avg):\n",
    "        self.S = S\n",
    "        self.P = P\n",
    "        self.avg = avg\n",
    "    \n",
    "def bc(eq, ns, wl):\n",
    "    bc = pd.DataFrame(\n",
    "        np.reshape(dot(eq, np.array([[1], [ns]])), (np.size(wl), 2)),\n",
    "        columns = ['B','C'])\n",
    "    return bc\n",
    "\n",
    "def chromatic_n(m, wl):\n",
    "    n, k = globals()[material[m]['type']](material[m], wl)\n",
    "    return n - 1j*k\n",
    "\n",
    "def tf_matrix(layer, wl):\n",
    "    m = matrix(layer['m'], layer['d'], wl)\n",
    "    return m\n",
    "\n",
    "def matrix(m, t, wl):\n",
    "    ita = chromatic_n(m, wl) \n",
    "    delta = 2*pi*ita*t/wl\n",
    "    element = matrix_element(ita, delta)\n",
    "    return np.reshape(element.values.reshape(1,-1), (np.size(wl), 2, 2))\n",
    "\n",
    "def matrix_element(ita, delta):\n",
    "    e = pd.DataFrame(\n",
    "        {'e1':cos(delta), 'e2':1j/ita*sin(delta), \n",
    "         'e3':1j*ita*sin(delta), 'e4':cos(delta)})\n",
    "    return e\n",
    "    \n",
    "def matrix_dot(layer_up, layer_bot): \n",
    "    w, _, _ = np.shape(layer_up)\n",
    "    eq = [dot(layer_up[i], layer_bot[i]) for i in range(w)]\n",
    "    return eq    \n",
    "\n",
    "def identity_matrix(wl):\n",
    "    m = np.size(wl)\n",
    "    i = pd.DataFrame({'e1':np.ones(m), 'e2':np.zeros(m), 'e3':np.zeros(m), 'e4':np.ones(m)})\n",
    "    i_matrix = np.reshape(i.values.reshape(1,-1), (m, 2, 2))\n",
    "    return i_matrix"
   ]
  },
  {
   "cell_type": "code",
   "execution_count": 11,
   "metadata": {},
   "outputs": [
    {
     "data": {
      "image/png": "[encoded data removed]",
      "text/plain": [
       "<Figure size 432x288 with 1 Axes>"
      ]
     },
     "metadata": {
      "needs_background": "light"
     },
     "output_type": "display_data"
    }
   ],
   "source": [
    "AR_coating_test = ThinFilm_model(\n",
    "    {'a':1},\n",
    "    [{'m':'SiO2', 'd':207.39659878},\n",
    "     {'m':'TiO2', 'd':262.67520623}],\n",
    "    {'s':1.8})\n",
    "wl = np.linspace(1350, 1550)\n",
    "R = AR_coating_test.R(wl)\n",
    "plt.plot(wl, R)\n",
    "plt.show()"
   ]
  },
  {
   "cell_type": "code",
   "execution_count": 12,
   "metadata": {},
   "outputs": [],
   "source": [
    "material = {\n",
    "    'TiO2':{'A':5.913, 'B':0.2441, 'C':0.0803, 'type':'TiO2'},\n",
    "    'SiO2':{'A':0.6961663,'B':0.0684043,'C':0.4079426,'D':0.1162414,'E':0.8974794,'F':9.896161, 'type':'SiO2'},\n",
    "    'glass':{},\n",
    "    'ITO':{'type':'ITO', 'material':'ITO'},\n",
    "    'SiN':{'type':'SiN', 'material':'SiN'},\n",
    "    'acrylic':{'A':1.1819, 'B':0.011313, 'type':'acrylic'},\n",
    "    'acrylic_h':{'type':'acrylic_h'},\n",
    "    'polymide':{'type':'polymide'}\n",
    "}\n",
    "def ITO(m, x):\n",
    "    file = pd.read_csv('{}.csv'.format(m['material']))\n",
    "    f_n = interp1d([float(i) for i in file[:381]['wl']], [float(i) for i in file[:381]['n']])\n",
    "    f_k = interp1d([float(i) for i in file[:381]['wl']], [float(i) for i in file[382:]['n']])\n",
    "    return f_n(x/1000), f_k(x/1000)\n",
    "\n",
    "def SiN(m,x):\n",
    "    file = pd.read_csv('{}.csv'.format(m['material']))\n",
    "    f_n = interp1d([float(i) for i in file[:146]['wl']], [float(i) for i in file[:146]['n']])\n",
    "    f_k = interp1d([float(i) for i in file[:146]['wl']], [float(i) for i in file[147:]['n']])\n",
    "    return f_n(x/1000), f_k(x/1000)\n",
    "\n",
    "def TiO2(m, x):\n",
    "    x = x/1000\n",
    "    n = (m['A']+m['B']/(x**2-m['C']))**.5\n",
    "    k = np.zeros(np.size(x))\n",
    "    return n, k\n",
    "\n",
    "def SiO2(m, x):\n",
    "    x = x/1000\n",
    "    n = (1+m['A']/(1-(m['B']/x)**2)+m['C']/(1-(m['D']/x)**2)+m['E']/(1-(m['F']/x)**2))**.5\n",
    "    k = np.zeros(np.size(x))\n",
    "    return n, k\n",
    "\n",
    "def acrylic(m, x):\n",
    "    x = x/1000\n",
    "    n = (1+m['A']/(1-m['B']/x**2))**.5\n",
    "    k = np.zeros(np.size(x))\n",
    "    return n, k\n",
    "\n",
    "def acrylic_h(m, x):\n",
    "    n = 1.8*np.ones(np.size(x))\n",
    "    k = 0*np.ones(np.size(x))\n",
    "    return n, k\n",
    "\n",
    "def polymide(m, x):\n",
    "    n = 1.5*np.ones(np.size(x))\n",
    "    k = np.zeros(np.size(x))\n",
    "    return n, k\n",
    "\n",
    "def sec_reflec(T_measure, n0, ns):\n",
    "    T_sec = 1-((n0-ns)/(n0+ns))**2\n",
    "    return (100/T_measure - 1/T_sec + 1)**-1\n",
    "\n",
    "def trans(n0, n1):\n",
    "    return 1-((n0-n1)/(n0+n1))**2"
   ]
  },
  {
   "cell_type": "code",
   "execution_count": 83,
   "metadata": {},
   "outputs": [
    {
     "data": {
      "text/plain": [
       "                        fun: 6.636054159967329\n",
       " lowest_optimization_result:       fun: 6.636054159967329\n",
       " hess_inv: array([[10.85446148,  4.96852531],\n",
       "       [ 4.96852531, 21.09721237]])\n",
       "      jac: array([-2.38418579e-07,  7.74860382e-07])\n",
       "  message: 'Optimization terminated successfully.'\n",
       "     nfev: 40\n",
       "      nit: 8\n",
       "     njev: 10\n",
       "   status: 0\n",
       "  success: True\n",
       "        x: array([262.67520623, 207.39659878])\n",
       "                    message: ['requested number of basinhopping iterations completed successfully']\n",
       "      minimization_failures: 0\n",
       "                       nfev: 4204\n",
       "                        nit: 100\n",
       "                       njev: 1051\n",
       "                          x: array([262.67520623, 207.39659878])"
      ]
     },
     "execution_count": 83,
     "metadata": {},
     "output_type": "execute_result"
    }
   ],
   "source": [
    "from scipy.optimize import minimize, basinhopping\n",
    "\n",
    "def FoM(D):\n",
    "    d1 = D[0]\n",
    "    d2 = D[-1]\n",
    "    wl = np.linspace(1350, 1550)\n",
    "    R_target = np.zeros(np.size(wl))\n",
    "    AR_coating = ThinFilm_model({'a':1},[{'m':'SiO2', 'd':d2},{'m':'TiO2', 'd':d1}],{'s':1.8})\n",
    "    hofx = AR_coating.R(wl)\n",
    "    target = R_target\n",
    "    return 100* sum(abs(hofx-target))\n",
    "basinhopping(FoM, [200, 200])"
   ]
  },
  {
   "cell_type": "code",
   "execution_count": 4,
   "metadata": {},
   "outputs": [
    {
     "data": {
      "image/png": "[encoded data removed]",
      "text/plain": [
       "<Figure size 432x288 with 1 Axes>"
      ]
     },
     "metadata": {
      "needs_background": "light"
     },
     "output_type": "display_data"
    }
   ],
   "source": [
    "d_SiN = 10\n",
    "d_SiO2 = 50\n",
    "bridge = ThinFilm_model(\n",
    "    {'a': 1.5}, [\n",
    "        {'m': 'polymide', 'd': 800},\n",
    "        {'m': 'SiN', 'd': d_SiN},\n",
    "        {'m': 'SiO2', 'd':d_SiO2},\n",
    "        {'m': 'ITO', 'd':23},\n",
    "        {'m': 'acrylic', 'd':1200},\n",
    "        {'m': 'ITO', 'd':23},\n",
    "        {'m': 'SiO2', 'd':d_SiO2},\n",
    "        {'m': 'SiN', 'd': d_SiN}\n",
    "    ], {'s': 1.5})\n",
    "\n",
    "ITO_layer = ThinFilm_model(\n",
    "    {'a': 1.5}, [\n",
    "        {'m': 'polymide', 'd': 2000},\n",
    "        {'m': 'SiN', 'd': d_SiN},\n",
    "        {'m': 'SiO2', 'd':d_SiO2},\n",
    "        {'m': 'ITO', 'd':23},\n",
    "        {'m': 'SiO2', 'd':d_SiO2},\n",
    "        {'m': 'SiN', 'd': d_SiN}\n",
    "    ], {'s': 1.5})\n",
    "\n",
    "pattern = ThinFilm_model(\n",
    "    {'a': 1.5}, [\n",
    "        {'m': 'polymide', 'd': 2000},\n",
    "        {'m': 'SiN', 'd': d_SiN},\n",
    "        {'m': 'SiO2', 'd':d_SiO2},\n",
    "        {'m': 'SiO2', 'd':d_SiO2},\n",
    "        {'m': 'SiN', 'd': d_SiN}\n",
    "    ], {'s': 1.5})\n",
    "\n",
    "start_wl = 435\n",
    "end_wl = 680\n",
    "wl = np.linspace(start_wl, end_wl, 1000)\n",
    "R_b = bridge.R(wl)\n",
    "R_ITO = ITO_layer.R(wl)\n",
    "R_p = pattern.R(wl)\n",
    "\n",
    "plt.plot(wl, R_b, 'r',label = 'bridge', )\n",
    "plt.plot(wl, R_ITO, 'y', label = 'diamond')\n",
    "plt.plot(wl, R_p, 'b', label = 'pattern')\n",
    "plt.legend(loc = 'best')\n",
    "plt.savefig('model.png')\n",
    "plt.show()"
   ]
  },
  {
   "cell_type": "code",
   "execution_count": 5,
   "metadata": {
    "scrolled": true
   },
   "outputs": [],
   "source": [
    "T_OCA_GG3 = trans(1.48, 1.47)\n",
    "file = pd.read_csv(r'.\\DX\\Glass_0T.csv')\n",
    "file_c = pd.read_csv(r'.\\DX\\DX-MP-1_0T.csv')\n",
    "wl = file['nm']\n",
    "TA_glass = sec_reflec(file['SCAN'], 1, 1.47)\n",
    "TA_DX = sec_reflec(file_c['SCAN'], 1, 1.47)\n",
    "f_gg3 = interp1d(wl, TA_glass)\n",
    "f_dx = interp1d(wl, TA_DX)"
   ]
  }
 ],
 "metadata": {
  "kernelspec": {
   "display_name": "Python 3",
   "language": "python",
   "name": "python3"
  },
  "language_info": {
   "codemirror_mode": {
    "name": "ipython",
    "version": 3
   },
   "file_extension": ".py",
   "mimetype": "text/x-python",
   "name": "python",
   "nbconvert_exporter": "python",
   "pygments_lexer": "ipython3",
   "version": "3.8.2"
  }
 },
 "nbformat": 4,
 "nbformat_minor": 2
}
