{
 "cells": [
  {
   "cell_type": "code",
   "execution_count": 90,
   "metadata": {},
   "outputs": [
    {
     "data": {
      "text/plain": [
       "array([0.00000000e+00, 0.00000000e+00, 0.00000000e+00, 0.00000000e+00,\n",
       "       0.00000000e+00, 0.00000000e+00, 0.00000000e+00, 0.00000000e+00,\n",
       "       0.00000000e+00, 0.00000000e+00, 0.00000000e+00, 0.00000000e+00,\n",
       "       3.08148791e-33, 0.00000000e+00, 0.00000000e+00, 0.00000000e+00,\n",
       "       0.00000000e+00, 0.00000000e+00, 0.00000000e+00, 0.00000000e+00,\n",
       "       0.00000000e+00, 0.00000000e+00, 0.00000000e+00, 0.00000000e+00,\n",
       "       0.00000000e+00, 0.00000000e+00, 0.00000000e+00, 0.00000000e+00,\n",
       "       0.00000000e+00, 0.00000000e+00, 0.00000000e+00, 0.00000000e+00,\n",
       "       0.00000000e+00, 0.00000000e+00, 0.00000000e+00, 0.00000000e+00,\n",
       "       0.00000000e+00, 0.00000000e+00, 0.00000000e+00, 0.00000000e+00,\n",
       "       0.00000000e+00, 3.08148791e-33, 0.00000000e+00, 0.00000000e+00,\n",
       "       0.00000000e+00, 0.00000000e+00, 0.00000000e+00, 0.00000000e+00,\n",
       "       0.00000000e+00, 0.00000000e+00])"
      ]
     },
     "execution_count": 90,
     "metadata": {},
     "output_type": "execute_result"
    }
   ],
   "source": [
    "import numpy as np\n",
    "import pandas as pd\n",
    "import matplotlib.pyplot as plt\n",
    "from numpy import pi, sin, cos, dot\n",
    "\n",
    "class ThinFilm_model:\n",
    "    def __init__(self, ambient, thinfilm, substrate):\n",
    "        self.ambient = ambient['a']\n",
    "        self.thinfilm = thinfilm\n",
    "        self.substrate = substrate['s']\n",
    "\n",
    "    def Eq_TF_Matrix(self, wavelength):\n",
    "        eq_matrix = identity_matrix(wavelength)\n",
    "        for i in range(np.size(self.thinfilm)):\n",
    "            eq_matrix = Matrix_dot(Matrix(self.thinfilm[-i-1], wavelength), eq_matrix)\n",
    "        return eq_matrix\n",
    "\n",
    "    def Eq_admittance(self, wl):\n",
    "        eq_matrix = self.Eq_TF_Matrix(wl)\n",
    "        Eq_y = BC(eq_matrix, self.substrate, wl)\n",
    "        Y = Eq_y['C']/Eq_y['B']\n",
    "        return Y.values.reshape(np.size(wl), 1)\n",
    "        \n",
    "    def R(self, wl):\n",
    "        eq_Y = self.Eq_admittance(wl)\n",
    "        r = (self.ambient-eq_Y)/(self.ambient+eq_Y)\n",
    "        reflectance = np.reshape(r*r.conjugate(), np.size(eq_Y))\n",
    "        return np.real(reflectance)\n",
    "\n",
    "def BC(eq, ns, wl):\n",
    "    bc = pd.DataFrame(np.reshape(dot(eq, np.array([[1], [ns]])), (np.size(wl), 2)),columns = ['B','C'])\n",
    "    return bc\n",
    "\n",
    "def chromatic_n(m, wl):\n",
    "    n = np.ones(np.size(wl))\n",
    "    return n\n",
    "\n",
    "def Matrix(layer, wl):\n",
    "    m = matrix(layer['m'], layer['d'], wl)\n",
    "    return m\n",
    "\n",
    "def matrix(m, t, wl):\n",
    "    ita = chromatic_n(m, wl) \n",
    "    delta = 2*pi*ita*t/wl\n",
    "    element = matrix_element(ita, delta)\n",
    "    return np.reshape(element.values.reshape(1,-1), (np.size(wl), 2, 2))\n",
    "\n",
    "def matrix_element(ita, delta):\n",
    "    e = pd.DataFrame(\n",
    "        {'e1':cos(delta), 'e2':1j/ita*sin(delta), \n",
    "         'e3':1j*ita*sin(delta), 'e4':cos(delta)})\n",
    "    return e\n",
    "    \n",
    "def Matrix_dot(layer_up, layer_bot): \n",
    "    w, _, _ = np.shape(layer_up)\n",
    "    eq = [dot(layer_up[i], layer_bot[i]) for i in range(w)]\n",
    "    return eq    \n",
    "\n",
    "def identity_matrix(wl):\n",
    "    m = np.size(wl)\n",
    "    i = pd.DataFrame({'e1':np.ones(m), 'e2':np.zeros(m), 'e3':np.zeros(m), 'e4':np.ones(m)})\n",
    "    i_matrix = np.reshape(i.values.reshape(1,-1), (m, 2, 2))\n",
    "    return i_matrix\n",
    "\n",
    "model_1 = ThinFilm_model(\n",
    "    {'a': 1}, [\n",
    "        {'m': 'SiO2', 'd': 100}, \n",
    "        {'m': 'TiO2', 'd': 200}\n",
    "    ], {'s': 1})\n",
    "model_1.R(np.linspace(100,200))"
   ]
  }
 ],
 "metadata": {
  "kernelspec": {
   "display_name": "Python 3",
   "language": "python",
   "name": "python3"
  },
  "language_info": {
   "codemirror_mode": {
    "name": "ipython",
    "version": 3
   },
   "file_extension": ".py",
   "mimetype": "text/x-python",
   "name": "python",
   "nbconvert_exporter": "python",
   "pygments_lexer": "ipython3",
   "version": "3.7.0"
  }
 },
 "nbformat": 4,
 "nbformat_minor": 2
}
