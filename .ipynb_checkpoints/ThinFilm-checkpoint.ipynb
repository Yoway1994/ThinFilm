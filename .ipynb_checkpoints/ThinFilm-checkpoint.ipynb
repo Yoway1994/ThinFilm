{
 "cells": [
  {
   "cell_type": "code",
   "execution_count": 428,
   "metadata": {},
   "outputs": [],
   "source": [
    "import numpy as np\n",
    "import pandas as pd\n",
    "import matplotlib.pyplot as plt\n",
    "from numpy import pi, sin, cos\n",
    "from numpy.linalg import multi_dot"
   ]
  },
  {
   "cell_type": "code",
   "execution_count": null,
   "metadata": {},
   "outputs": [],
   "source": [
    "class TF:\n",
    "    def __init__(self, n, d):\n",
    "        self.index = n\n",
    "        self.thickness = d\n",
    "        \n",
    "    def matrix(self, w):\n",
    "        delta = 2*pi*(self.index)*(self.thickness)/w\n",
    "        ita = self.index\n",
    "        element = pd.DataFrame(\n",
    "            {'e1':cos(delta), 'e2':1j/ita*sin(delta), 'e3':1j*ita*sin(delta), 'e4':cos(delta)}\n",
    "        )\n",
    "        matrix = np.reshape(element.values.reshape(1,-1), (np.size(w), 2, 2))\n",
    "        return matrix\n",
    "    "
   ]
  },
  {
   "cell_type": "code",
   "execution_count": 429,
   "metadata": {},
   "outputs": [],
   "source": [
    "def Eq(design, ns):\n",
    "    eq = np.dot(multi_dot(design), np.array([[1], [ns]]))\n",
    "    y = pd.DataFrame(np.reshape(eq, (np.size(w), 2)), columns = ['B','C'])\n",
    "    Y = y['C']/y['B']\n",
    "    return Y.values.reshape(np.size(w), 1)\n",
    "    \n",
    "def R(Eq, n0):\n",
    "    r = (1-Eq)/(1+Eq)\n",
    "    R = np.reshape(r*r.conjugate(), np.size(w))\n",
    "    return np.real(R)\n",
    "   "
   ]
  },
  {
   "cell_type": "code",
   "execution_count": 450,
   "metadata": {},
   "outputs": [
    {
     "name": "stdout",
     "output_type": "stream",
     "text": [
      "(1000, 2, 2)\n"
     ]
    }
   ],
   "source": [
    "w = np.linspace(400,2000, 1000)\n",
    "l = TF(2, 1000).matrix(w)\n",
    "l2 = TF(1.5, 1000).matrix(w)\n",
    "print(np.shape(l2))\n",
    "#eq = np.dot(l2, l)\n",
    "#print()\n",
    "#plt.plot(w, R)\n",
    "#plt.show()\n",
    "#print(RRR)\n"
   ]
  }
 ],
 "metadata": {
  "file_extension": ".py",
  "kernelspec": {
   "display_name": "Python 3.8.1 32-bit",
   "language": "python",
   "name": "python38132bitcc3eabe16c114026adc65d4e4b9f5f79"
  },
  "language_info": {
   "codemirror_mode": {
    "name": "ipython",
    "version": 3
   },
   "file_extension": ".py",
   "mimetype": "text/x-python",
   "name": "python",
   "nbconvert_exporter": "python",
   "pygments_lexer": "ipython3",
   "version": "3.8.1"
  },
  "mimetype": "text/x-python",
  "name": "python",
  "npconvert_exporter": "python",
  "pygments_lexer": "ipython3",
  "version": 3
 },
 "nbformat": 4,
 "nbformat_minor": 2
}
