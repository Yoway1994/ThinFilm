{
 "nbformat": 4,
 "nbformat_minor": 2,
 "metadata": {
  "language_info": {
   "name": "python",
   "codemirror_mode": {
    "name": "ipython",
    "version": 3
   },
   "version": "3.8.1-final"
  },
  "orig_nbformat": 2,
  "file_extension": ".py",
  "mimetype": "text/x-python",
  "name": "python",
  "npconvert_exporter": "python",
  "pygments_lexer": "ipython3",
  "version": 3,
  "kernelspec": {
   "name": "python38132bitcc3eabe16c114026adc65d4e4b9f5f79",
   "display_name": "Python 3.8.1 32-bit"
  }
 },
 "cells": [
  {
   "cell_type": "code",
   "execution_count": 15,
   "metadata": {},
   "outputs": [],
   "source": [
    "import numpy as np\n",
    "import matplotlib.pyplot as plt\n",
    "from numpy import pi, sin, cos\n",
    "\n",
    "target_w = np.linspace(1350, 1550)\n",
    "target_R = np.linspace(100, 100)"
   ]
  },
  {
   "cell_type": "code",
   "execution_count": 8,
   "metadata": {},
   "outputs": [],
   "source": [
    "def phase_thickness(n, d, w):\n",
    "    return 2*pi*n*d/w\n",
    "\n",
    "def TF_matrix(n, d, w):\n",
    "    delta = phase_thickness(n, d, w)\n",
    "    ita = n\n",
    "    matrix = np.reshape(\n",
    "        (cos(delta), 1j/ita*sin(delta), 1j*ita*sin(delta), cos(delta)),\n",
    "        (2, 2))\n",
    "    return matrix\n",
    "\n",
    "def Eq_admittance(mtf, ns):\n",
    "    B, C = mtf.dot(np.reshape((1, ns), (2, 1)))\n",
    "    return C/B\n",
    "\n",
    "def reflectance(n, d, w, n_s, n_0):\n",
    "    mtf = TF_matrix(n, d, w)\n",
    "    Y = Eq_admittance(mtf, n_s)\n",
    "    r = (n_0-Y[0])/(n_0+Y[0])\n",
    "    return r*r.conjugate()"
   ]
  },
  {
   "cell_type": "code",
   "execution_count": 9,
   "metadata": {},
   "outputs": [],
   "source": [
    "n = 1.4 # index\n",
    "d = 1500 # thickness (nm)\n",
    "ns = 1.8\n",
    "n0 = 1"
   ]
  },
  {
   "cell_type": "code",
   "execution_count": 16,
   "metadata": {},
   "outputs": [],
   "source": [
    "m = np.size(target_w)"
   ]
  },
  {
   "cell_type": "code",
   "execution_count": 56,
   "metadata": {},
   "outputs": [],
   "source": [
    "R = list(map(lambda x: reflectance(n, d, x, ns, n0), target_w))\n",
    "J = 1/(2*m)*sum((R-target_R)**2)\n",
    "Grad_J = 1/m*sum(R-target_R*target_w.T)\n",
    "for i in range(1, 1):\n",
    "    d = d - Grad_J\n",
    "    R = list(map(lambda x: reflectance(n, d, x, ns, n0), target_w))\n",
    "    print(R)\n",
    "    J = 1/(2*m)*sum((R-target_R)**2)\n",
    "    Grad_J = 1/m*sum(R-target_R*target_w.T)\n",
    "    print(d)"
   ]
  },
  {
   "cell_type": "code",
   "execution_count": null,
   "metadata": {},
   "outputs": [],
   "source": []
  }
 ]
}