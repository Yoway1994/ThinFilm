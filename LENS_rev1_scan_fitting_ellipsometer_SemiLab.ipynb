{
 "cells": [
  {
   "cell_type": "code",
   "execution_count": null,
   "metadata": {},
   "outputs": [],
   "source": [
    "import numpy as np\n",
    "import pandas as pd\n",
    "import thinfilm as tm\n",
    "import material as ml\n",
    "import matplotlib.pyplot as plt\n",
    "from scipy.optimize import differential_evolution"
   ]
  },
  {
   "cell_type": "code",
   "execution_count": null,
   "metadata": {},
   "outputs": [],
   "source": [
    "# SL_spectrum\n",
    "SL_dia = pd.read_csv('./spectrum/SemiLab/SL_dia.csv')['R'].values\n",
    "SL_bri = pd.read_csv('./spectrum/SemiLab/SL_bri.csv')['R'].values\n",
    "SL_tra = pd.read_csv('./spectrum/SemiLab/SL_tra.csv')['R'].values\n",
    "# open material\n",
    "air = ml.Non_Dispersion(1)\n",
    "sodalime = ml.open_material('sodalime', 'Material')\n",
    "SiO2 = ml.open_material('SiO2_LENS', 'Sellmeier')\n",
    "SiN = ml.open_material('SiN_LENS', 'Sellmeier')\n",
    "ITO = ml.open_material('ITO_LENS', 'Sellmeier')\n",
    "OC = ml.open_material('OC_LENS', 'Material')\n",
    "\n",
    "# fitting model\n",
    "wl = np.linspace(400, 700, 301)\n",
    "OC.k = 0*np.ones(np.size(OC.wl))\n",
    "hypo_dia = lambda th: tm.Design(\n",
    "    [air, OC, SiN, SiO2, ITO, SiO2, SiN, sodalime],\n",
    "    [None, th[0], th[1], th[2], th[3], th[4], th[5], None]\n",
    ").reflectance(wl)\n",
    "hypo_tra = lambda th: tm.Design(\n",
    "    [air, OC, SiN, SiO2, SiN, sodalime],\n",
    "    [None, th[0], th[1], th[2], th[3], None]\n",
    ").reflectance(wl)\n",
    "hypo_bri = lambda th: tm.Design(\n",
    "    [air, OC, SiN, SiO2, ITO, OC, ITO, SiO2, SiN, sodalime],\n",
    "    [None, th[0], th[1], th[2], th[3], th[4], th[5], th[6], th[7], None]\n",
    ").reflectance(wl)"
   ]
  },
  {
   "cell_type": "code",
   "execution_count": null,
   "metadata": {},
   "outputs": [],
   "source": [
    "FOM_dia = lambda th: np.mean((hypo_dia(th)-SL_dia)**2)\n",
    "sol_dia = differential_evolution(\n",
    "    FOM_dia, [(1600, 2200),(8, 12),(0, 60),(20, 30),(40, 60),(8,12)]\n",
    ")\n",
    "print(sol_dia.x)\n",
    "\n",
    "plt.plot(wl, hypo_dia(sol_dia.x))\n",
    "plt.plot(wl, SL_dia)\n",
    "plt.show()"
   ]
  },
  {
   "cell_type": "code",
   "execution_count": null,
   "metadata": {},
   "outputs": [],
   "source": [
    "FOM_tra = lambda th: np.mean((hypo_tra(th)-SL_tra)**2)\n",
    "sol_tra = differential_evolution(\n",
    "    FOM_tra, [(1600, 2200),(8, 12),(0, 150),(8,12)]\n",
    ")\n",
    "print(sol_tra.x)\n",
    "\n",
    "plt.plot(wl, hypo_tra(sol_tra.x))\n",
    "plt.plot(wl, SL_tra)\n",
    "plt.show()"
   ]
  },
  {
   "cell_type": "code",
   "execution_count": null,
   "metadata": {},
   "outputs": [],
   "source": [
    "FOM_bri = lambda th: np.mean((hypo_bri(th)-SL_bri)**2)\n",
    "sol_bri = differential_evolution(\n",
    "    FOM_bri, [(0, 2200),(8, 12),(30, 60),(20, 30),(1000, 1500),(20, 30),(40, 60),(8,12)]\n",
    ")\n",
    "print(sol_bri.x)\n",
    "\n",
    "plt.plot(wl, hypo_bri(sol_bri.x))\n",
    "plt.plot(wl, SL_bri)\n",
    "plt.show()"
   ]
  },
  {
   "cell_type": "code",
   "execution_count": 3,
   "metadata": {},
   "outputs": [
    {
     "data": {
      "image/png": "[encoded data removed]",
      "text/plain": [
       "<Figure size 432x288 with 1 Axes>"
      ]
     },
     "metadata": {
      "needs_background": "light"
     },
     "output_type": "display_data"
    }
   ],
   "source": [
    "plt.plot(wl, 100*SL_dia, '-k', label = 'diamond')\n",
    "plt.plot(wl, 100*SL_bri, '-r', label = 'bridge')\n",
    "plt.plot(wl, 100*SL_tra, '-b', label = 'trace')\n",
    "#plt.legend(loc = 'best')\n",
    "plt.ylim(0,15)\n",
    "#plt.savefig('all.png')\n",
    "plt.show()"
   ]
  },
  {
   "cell_type": "code",
   "execution_count": 6,
   "metadata": {},
   "outputs": [
    {
     "name": "stdout",
     "output_type": "stream",
     "text": [
      "0.0029664826885286884\n",
      "0.01726086312211588\n",
      "0.04145337266136751\n",
      "0.04182999053392395\n",
      "0.04996992018663009\n"
     ]
    }
   ],
   "source": [
    "print(np.mean(abs(SL_dia-SL_tra)))\n",
    "print(np.mean(abs(SL_dia-SL_bri)))\n",
    "print(np.mean(SL_dia))\n",
    "print(np.mean(SL_tra))\n",
    "print(np.mean(SL_bri))"
   ]
  }
 ],
 "metadata": {
  "kernelspec": {
   "display_name": "Python 3",
   "language": "python",
   "name": "python3"
  },
  "language_info": {
   "codemirror_mode": {
    "name": "ipython",
    "version": 3
   },
   "file_extension": ".py",
   "mimetype": "text/x-python",
   "name": "python",
   "nbconvert_exporter": "python",
   "pygments_lexer": "ipython3",
   "version": "3.8.2"
  }
 },
 "nbformat": 4,
 "nbformat_minor": 4
}
