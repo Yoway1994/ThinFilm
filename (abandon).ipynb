{
 "cells": [
  {
   "cell_type": "code",
   "execution_count": 102,
   "metadata": {},
   "outputs": [],
   "source": [
    "import numpy as np\n",
    "import pandas as pd\n",
    "import material as ml\n",
    "import thinfilm as tm\n",
    "import matplotlib.pyplot as plt\n",
    "from scipy.optimize import differential_evolution, minimize"
   ]
  },
  {
   "cell_type": "code",
   "execution_count": 103,
   "metadata": {},
   "outputs": [],
   "source": [
    "# 0, 1, 2, 3, 4, 5\n",
    "wl = lambda x: np.linspace(400, 700, 301)[x*50:x*50+51]\n",
    "wl_all =np.linspace(400, 700, 301)\n",
    "R_scan = pd.read_csv('./spectrum/LENS/rev1/R_5_B.csv')['SCAN'].values\n",
    "\n",
    "air = ml.Non_Dispersion(1)\n",
    "SiO2 = ml.open_material('SiO2_LENS', 'Sellmeier') \n",
    "SiN = ml.open_material('SiN_LENS', 'Sellmeier')\n",
    "OC = ml.open_material('OC_LENS', 'Material')\n",
    "sodalime = ml.open_material('sodalime', 'Material')\n",
    "\n",
    "# th[2] 波段 I~IV\n",
    "def R_hypo(th):\n",
    "    ITO0 = ml.Chromatic_Dispersion(th[6], th[7], np.median(wl(0)))\n",
    "    ITO1 = ml.Chromatic_Dispersion(th[8], th[9], np.median(wl(1)))\n",
    "    ITO2 = ml.Chromatic_Dispersion(th[10], th[11], np.median(wl(2)))\n",
    "    ITO3 = ml.Chromatic_Dispersion(th[12], th[13], np.median(wl(3)))\n",
    "    ITO4 = ml.Chromatic_Dispersion(th[14], th[15], np.median(wl(4)))\n",
    "    ITO5 = ml.Chromatic_Dispersion(th[16], th[17], np.median(wl(5)))\n",
    "    #\n",
    "    R_hypo0 = tm.Design(\n",
    "        [air, OC, SiN, SiO2, ITO0, SiO2, SiN, sodalime],\n",
    "        [None, th[0], th[1], th[2], th[3], th[4], th[5], None]\n",
    "    ).reflectance(wl(0), 5)\n",
    "    \n",
    "    R_hypo1 = tm.Design(\n",
    "        [air, OC, SiN, SiO2, ITO1, SiO2, SiN, sodalime],\n",
    "        [None, th[0], th[1], th[2], th[3], th[4], th[5], None]\n",
    "    ).reflectance(wl(1), 5)\n",
    "    \n",
    "    R_hypo2 = tm.Design(\n",
    "        [air, OC, SiN, SiO2, ITO2, SiO2, SiN, sodalime],\n",
    "        [None, th[0], th[1], th[2], th[3], th[4], th[5], None]\n",
    "    ).reflectance(wl(2), 5)\n",
    "    \n",
    "    R_hypo3 = tm.Design(\n",
    "        [air, OC, SiN, SiO2, ITO3, SiO2, SiN, sodalime],\n",
    "        [None, th[0], th[1], th[2], th[3], th[4], th[5], None]\n",
    "    ).reflectance(wl(3), 5)\n",
    "    \n",
    "    R_hypo4 = tm.Design(\n",
    "        [air, OC, SiN, SiO2, ITO4, SiO2, SiN, sodalime],\n",
    "        [None, th[0], th[1], th[2], th[3], th[4], th[5], None]\n",
    "    ).reflectance(wl(4), 5)\n",
    "                        \n",
    "    R_hypo5 = tm.Design(\n",
    "        [air, OC, SiN, SiO2, ITO5, SiO2, SiN, sodalime],\n",
    "        [None, th[0], th[1], th[2], th[3], th[4], th[5], None]\n",
    "    ).reflectance(wl(5), 5)\n",
    "    return np.concatenate(\n",
    "        (\n",
    "            R_hypo0[:-1],\n",
    "            R_hypo1[:-1],\n",
    "            R_hypo2[:-1],\n",
    "            R_hypo3[:-1],\n",
    "            R_hypo4[:-1],\n",
    "            R_hypo5\n",
    "    )\n",
    ")\n",
    "\n",
    "def exam(a1, a2, a3, a4, a5, a6):\n",
    "    H1 = sum([a1 < i for i in [a2, a3, a4, a5, a6]])\n",
    "    H2 = sum([a2 < i for i in [a3, a4, a5, a6]])\n",
    "    H3 = sum([a3 < i for i in [a4, a5, a6]])\n",
    "    H4 = sum([a4 < i for i in [a5, a6]])\n",
    "    H5 = sum([a5 < i for i in [a6]])\n",
    "    return -(H1+H2+H3+H4+H5)\n",
    "\n",
    "SEM = lambda th: abs(th[1]+th[2]-59.5)+abs(th[4]+th[5]-53.6)\n",
    "\n",
    "FOM = lambda th: 10*np.mean(\n",
    "    abs(100*R_hypo(th)-R_scan)\n",
    ") + exam(\n",
    "    th[7],th[9],th[11],th[13],th[15],th[17],\n",
    ") + exam(\n",
    "    th[16],th[14],th[12],th[10],th[8],th[6],\n",
    ") + SEM(th)"
   ]
  },
  {
   "cell_type": "code",
   "execution_count": 104,
   "metadata": {},
   "outputs": [
    {
     "name": "stdout",
     "output_type": "stream",
     "text": [
      "differential_evolution step 1: f(x)= -20.6409\n",
      "differential_evolution step 2: f(x)= -23.179\n",
      "differential_evolution step 3: f(x)= -23.652\n",
      "differential_evolution step 4: f(x)= -23.7337\n",
      "differential_evolution step 5: f(x)= -23.9629\n",
      "differential_evolution step 6: f(x)= -23.9994\n",
      "differential_evolution step 7: f(x)= -24.0698\n",
      "differential_evolution step 8: f(x)= -24.1024\n",
      "[ 2.13049090e+03  1.21044835e+01  4.73969028e+01  2.61592590e+01\n",
      "  4.69229178e+01  6.67267587e+00  1.91049644e+00 -1.82822698e+00\n",
      "  1.87839264e+00 -1.81139016e+00  1.85561282e+00 -1.11378335e+00\n",
      "  1.78120399e+00 -7.04707880e-01  1.77630663e+00 -4.54164288e-01\n",
      "  1.76354452e+00 -4.01004550e-01]\n"
     ]
    }
   ],
   "source": [
    "sol = differential_evolution(\n",
    "    FOM, [\n",
    "        (2100,2300), # O.C\n",
    "        (5,20), # T SiN\n",
    "        (30,55), # T SiO2\n",
    "        (26,30), # ITO\n",
    "        (30,55), # B SiN\n",
    "        (5,20), # B SiO2\n",
    "        (1.854,1.957), (-3, -0.02), # I\n",
    "        (1.754,1.90), (-3, -0.02), # II\n",
    "        (1.754,1.857), (-2, -0.02), # III\n",
    "        (1.754,1.857), (-1, -0.02), # IV\n",
    "        (1.744,1.777), (-1, -0.02), # V\n",
    "        (1.744,1.777), (-1, -0.02), # VI\n",
    "    ], disp = True, polish = False, popsize = 10, mutation = 0.3, recombination = 0.9\n",
    ")\n",
    "print(sol.x)"
   ]
  },
  {
   "cell_type": "code",
   "execution_count": 1,
   "metadata": {},
   "outputs": [
    {
     "ename": "NameError",
     "evalue": "name 'sol' is not defined",
     "output_type": "error",
     "traceback": [
      "\u001b[1;31m---------------------------------------------------------------------------\u001b[0m",
      "\u001b[1;31mNameError\u001b[0m                                 Traceback (most recent call last)",
      "\u001b[1;32m<ipython-input-1-7278669e3887>\u001b[0m in \u001b[0;36m<module>\u001b[1;34m\u001b[0m\n\u001b[1;32m----> 1\u001b[1;33m \u001b[0mres\u001b[0m \u001b[1;33m=\u001b[0m \u001b[0msol\u001b[0m\u001b[1;33m.\u001b[0m\u001b[0mx\u001b[0m\u001b[1;33m\u001b[0m\u001b[1;33m\u001b[0m\u001b[0m\n\u001b[0m\u001b[0;32m      2\u001b[0m \u001b[0mplt\u001b[0m\u001b[1;33m.\u001b[0m\u001b[0mplot\u001b[0m\u001b[1;33m(\u001b[0m\u001b[0mwl_all\u001b[0m\u001b[1;33m,\u001b[0m \u001b[1;36m100\u001b[0m\u001b[1;33m*\u001b[0m\u001b[0mR_hypo\u001b[0m\u001b[1;33m(\u001b[0m\u001b[0mres\u001b[0m\u001b[1;33m)\u001b[0m\u001b[1;33m,\u001b[0m \u001b[1;34m'--k'\u001b[0m\u001b[1;33m)\u001b[0m\u001b[1;33m\u001b[0m\u001b[1;33m\u001b[0m\u001b[0m\n\u001b[0;32m      3\u001b[0m \u001b[0mplt\u001b[0m\u001b[1;33m.\u001b[0m\u001b[0mplot\u001b[0m\u001b[1;33m(\u001b[0m\u001b[0mwl_all\u001b[0m\u001b[1;33m,\u001b[0m \u001b[0mR_scan\u001b[0m\u001b[1;33m,\u001b[0m \u001b[1;34m'-k'\u001b[0m\u001b[1;33m)\u001b[0m\u001b[1;33m\u001b[0m\u001b[1;33m\u001b[0m\u001b[0m\n\u001b[0;32m      4\u001b[0m \u001b[0mplt\u001b[0m\u001b[1;33m.\u001b[0m\u001b[0mshow\u001b[0m\u001b[1;33m(\u001b[0m\u001b[1;33m)\u001b[0m\u001b[1;33m\u001b[0m\u001b[1;33m\u001b[0m\u001b[0m\n",
      "\u001b[1;31mNameError\u001b[0m: name 'sol' is not defined"
     ]
    }
   ],
   "source": [
    "res = sol.x\n",
    "plt.plot(wl_all, 100*R_hypo(res), '--k')\n",
    "plt.plot(wl_all, R_scan, '-k')\n",
    "plt.show()"
   ]
  },
  {
   "cell_type": "code",
   "execution_count": 108,
   "metadata": {},
   "outputs": [
    {
     "data": {
      "image/png": "[encoded data removed]",
      "text/plain": [
       "<Figure size 432x288 with 1 Axes>"
      ]
     },
     "metadata": {
      "needs_background": "light"
     },
     "output_type": "display_data"
    }
   ],
   "source": [
    "tk = [2.27734075e+03,\n",
    "      1.74885157e+01,\n",
    "      3.02346676e+01,\n",
    "      2.99984589e+01,\n",
    "      2.49660010e+01,\n",
    "      3.00304178e+01,\n",
    "      1.95564115e+00,-3.40570251e+00,\n",
    "      1.86441704e+00,-1.27622826e+00,\n",
    "      1.81433093e+00,-1.08490127e+00,\n",
    "      1.77926182e+00,-9.10104851e-01,\n",
    "      1.75321443e+00,-5.17712510e-01,\n",
    "      1.74595725e+00,-2.36503140e-01,\n",
    "]\n",
    "\n",
    "\n",
    "th = sol.x\n",
    "ITO0 = ml.Chromatic_Dispersion(th[6], th[7], np.median(wl(0)))\n",
    "ITO1 = ml.Chromatic_Dispersion(th[8], th[9], np.median(wl(1)))\n",
    "ITO2 = ml.Chromatic_Dispersion(th[10], th[11], np.median(wl(2)))\n",
    "ITO3 = ml.Chromatic_Dispersion(th[12], th[13], np.median(wl(3)))\n",
    "ITO4 = ml.Chromatic_Dispersion(th[14], th[15], np.median(wl(4)))\n",
    "ITO5 = ml.Chromatic_Dispersion(th[16], th[17], np.median(wl(5)))\n",
    "\n",
    "ITO_n = np.concatenate(\n",
    "        (\n",
    "            ITO0.nvalues(wl(0))[:-1],\n",
    "            ITO1.nvalues(wl(1))[:-1],\n",
    "            ITO2.nvalues(wl(2))[:-1],\n",
    "            ITO3.nvalues(wl(3))[:-1],\n",
    "            ITO4.nvalues(wl(4))[:-1],\n",
    "            ITO5.nvalues(wl(5))\n",
    "    )\n",
    ")\n",
    "\n",
    "\n",
    "plt.plot(wl_all, ITO_n)\n",
    "plt.show()"
   ]
  }
 ],
 "metadata": {
  "kernelspec": {
   "display_name": "Python 3",
   "language": "python",
   "name": "python3"
  },
  "language_info": {
   "codemirror_mode": {
    "name": "ipython",
    "version": 3
   },
   "file_extension": ".py",
   "mimetype": "text/x-python",
   "name": "python",
   "nbconvert_exporter": "python",
   "pygments_lexer": "ipython3",
   "version": "3.8.2"
  }
 },
 "nbformat": 4,
 "nbformat_minor": 4
}
