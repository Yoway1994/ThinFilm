{
 "cells": [
  {
   "cell_type": "code",
   "execution_count": 3,
   "metadata": {
    "scrolled": true
   },
   "outputs": [],
   "source": [
    "import numpy as np\n",
    "import pandas as pd\n",
    "import matplotlib.pyplot as plt\n",
    "from scipy.optimize import minimize, basinhopping, least_squares\n",
    "from scipy.interpolate import interp1d\n",
    "from numpy import pi, sin, cos, arcsin, dot\n",
    "from material import *"
   ]
  },
  {
   "cell_type": "code",
   "execution_count": 4,
   "metadata": {},
   "outputs": [],
   "source": [
    "air = Non_Dispersion(1)\n",
    "SiO2 = Non_Dispersion(1.44)\n",
    "TiO2 = Non_Dispersion(2.1)\n",
    "CrYAG = Non_Dispersion(1.8)"
   ]
  },
  {
   "cell_type": "code",
   "execution_count": 5,
   "metadata": {},
   "outputs": [],
   "source": [
    "class Design:\n",
    "    def __init__(self, material, thickness):\n",
    "        layer = list(zip(material, thickness))\n",
    "        self.ambient = layer[0][0]\n",
    "        self.substrate = layer[-1][0]\n",
    "        self.middle = layer[1:-1]\n",
    "    \n",
    "    def matrix(self, layer, wl, angle, pl):\n",
    "        ita = layer[0].nk(wl)\n",
    "        delta = 2*pi*ita*layer[1]/wl\n",
    "        element = matrix_element(ita, delta)\n",
    "        return np.reshape(element.values.reshape(1,-1), (np.size(wl), 2, 2))\n",
    "    \n",
    "    def eq_tf_matrix(self, wl, angle, pl):\n",
    "        eq_matrix = identity_matrix(wl)\n",
    "        for layer in self.middle[::-1]:\n",
    "            eq_matrix = matrix_dot(self.matrix(layer, wl, angle, pl), eq_matrix)\n",
    "        return eq_matrix\n",
    "\n",
    "    def eq_admittance(self, wl, angle, pl):\n",
    "        eq_matrix = self.eq_tf_matrix(wl, angle, pl)\n",
    "        theta_s = arcsin(self.ambient.nvalues(wl)/self.substrate.nvalues(wl)*sin(angle))\n",
    "        if pl == \"S\":\n",
    "            eq_y = bc(eq_matrix, self.substrate.nk(wl)*cos(theta_s)/cos(angle), wl)\n",
    "        elif pl == \"P\":\n",
    "            eq_y = bc(eq_matrix, self.substrate.nk(wl)*cos(angle)/cos(theta_s), wl)\n",
    "        else:\n",
    "            eq_y = bc(eq_matrix, self.substrate.nk(wl), wl)\n",
    "        return eq_y\n",
    "    \n",
    "    def eq_Y(self, wl, angle, pl, rt):\n",
    "        eq_y = self.eq_admittance(wl, angle, pl)\n",
    "        if rt == \"T\":\n",
    "            return eq_y\n",
    "        elif rt == \"R\":\n",
    "            Y = eq_y['C']/eq_y['B']\n",
    "            return Y.values.reshape(np.size(wl), 1)\n",
    "        \n",
    "    def _reflectance(self, wl, angle, pl):\n",
    "        eq_Y = self.eq_Y(wl, angle, pl, \"R\").flatten()\n",
    "        r = (self.ambient.nk(wl)-eq_Y)/(self.ambient.nk(wl)+eq_Y)\n",
    "        reflectance = np.reshape(r*r.conjugate(), np.size(eq_Y))\n",
    "        return np.real(reflectance)   \n",
    "        \n",
    "    def reflectance(self, wl, angle = 0, pl = None):\n",
    "        if angle != 0:\n",
    "            if pl == \"S\":\n",
    "                return self._reflectance(wl, angle, \"S\")\n",
    "            elif pl == \"P\":\n",
    "                return self._reflectance(wl, angle, \"P\")\n",
    "            else:\n",
    "                return self._reflectance(wl, angle, \"avg\")\n",
    "        else:\n",
    "            return self._reflectance(wl, angle, pl)\n",
    "\n",
    "def identity_matrix(wl):\n",
    "    m = np.size(wl)\n",
    "    i = pd.DataFrame({'e1':np.ones(m), 'e2':np.zeros(m), 'e3':np.zeros(m), 'e4':np.ones(m)})\n",
    "    i_matrix = np.reshape(i.values.reshape(1,-1), (m, 2, 2))\n",
    "    return i_matrix\n",
    "\n",
    "def matrix_element(ita, delta):\n",
    "    e = pd.DataFrame(\n",
    "        {'e1':cos(delta), 'e2':1j/ita*sin(delta), \n",
    "         'e3':1j*ita*sin(delta), 'e4':cos(delta)})\n",
    "    return e\n",
    "\n",
    "def matrix_dot(layer_up, layer_bot): \n",
    "    w, _, _ = np.shape(layer_up)\n",
    "    eq = [dot(layer_up[i], layer_bot[i]) for i in range(w)]\n",
    "    return eq\n",
    "\n",
    "def bc(eq, ns, wl):\n",
    "    m = np.size(wl)\n",
    "    ita_s = np.reshape(pd.DataFrame({\"one\":np.ones(m),\"ita\":ns}).values.reshape(-1, 1), (m, 2, 1))\n",
    "    YY = [dot(eq[i], ita_s[i]) for i in range(m)]\n",
    "    bc = pd.DataFrame(np.reshape(YY, (m,2)), columns = ['B','C'])\n",
    "    return bc\n"
   ]
  },
  {
   "cell_type": "code",
   "execution_count": 8,
   "metadata": {},
   "outputs": [
    {
     "data": {
      "text/plain": [
       "[<matplotlib.lines.Line2D at 0x109a6b0>]"
      ]
     },
     "execution_count": 8,
     "metadata": {},
     "output_type": "execute_result"
    },
    {
     "data": {
      "image/png": "[encoded data removed]",
      "text/plain": [
       "<Figure size 432x288 with 1 Axes>"
      ]
     },
     "metadata": {
      "needs_background": "light"
     },
     "output_type": "display_data"
    }
   ],
   "source": [
    "x = np.linspace(400, 700)\n",
    "AR = Design([air, SiO2, TiO2, CrYAG], \n",
    "            [None, 100, 100, None])\n",
    "\n",
    "RR = AR.reflectance(x)\n",
    "plt.plot(x, RR)"
   ]
  },
  {
   "cell_type": "code",
   "execution_count": 38,
   "metadata": {},
   "outputs": [],
   "source": [
    "    def transmittance(self, pl):\n",
    "        eq_y = self.eq_Y(pl, \"T\")\n",
    "        t = (self.ambient*eq_y[\"B\"]+eq_y[\"C\"]).values\n",
    "        T = 4*self.ambient*np.real(self.substrate)/(t*t.conjugate())\n",
    "        return T\n",
    "    \n",
    "    def T(self, pl = None):\n",
    "        if self.angle != 0:\n",
    "            if pl == \"S\":\n",
    "                return self.transmittance(\"S\")\n",
    "            elif pl == \"P\":\n",
    "                return self.transmittance(\"P\")\n",
    "            else:\n",
    "                T_S = self.transmittance(\"S\")\n",
    "                T_P = self.transmittance(\"P\")\n",
    "                return (T_S+T_P)/2\n",
    "        else:\n",
    "            return self.transmittance(None)\n",
    "\n",
    "def chromatic_n(m, wl, pl=0, n0=0, theta0=0):\n",
    "    theta_n = arcsin(n0*sin(theta0)/n)\n",
    "    if pl == \"S\":\n",
    "        return (n - 1j*k)*cos(theta_n)/cos(theta0)\n",
    "    elif pl == \"P\":\n",
    "        return (n - 1j*k)*cos(theta0)/cos(theta_n)\n",
    "    elif pl == 'avg':\n",
    "        return (n - 1j*k)*(cos(theta0)/cos(theta_n)+cos(theta_n)/cos(theta0))/2\n",
    "    else:\n",
    "        return n - 1j*k\n",
    "\n"
   ]
  }
 ],
 "metadata": {
  "kernelspec": {
   "display_name": "Python 3",
   "language": "python",
   "name": "python3"
  },
  "language_info": {
   "codemirror_mode": {
    "name": "ipython",
    "version": 3
   },
   "file_extension": ".py",
   "mimetype": "text/x-python",
   "name": "python",
   "nbconvert_exporter": "python",
   "pygments_lexer": "ipython3",
   "version": "3.7.0"
  }
 },
 "nbformat": 4,
 "nbformat_minor": 4
}
