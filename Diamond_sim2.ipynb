{
 "cells": [
  {
   "cell_type": "code",
   "execution_count": 2,
   "metadata": {},
   "outputs": [],
   "source": [
    "import numpy as np\n",
    "import pandas as pd\n",
    "import thinfilm as tm\n",
    "import material as ml\n",
    "import matplotlib.pyplot as plt\n",
    "from scipy.optimize import differential_evolution as de"
   ]
  },
  {
   "cell_type": "code",
   "execution_count": 3,
   "metadata": {},
   "outputs": [],
   "source": [
    "# open measurement file\n",
    "scan_file = pd.read_csv('./measurement/R_5_B6.csv')\n",
    "scan = scan_file['SCAN'].values"
   ]
  },
  {
   "cell_type": "code",
   "execution_count": 4,
   "metadata": {},
   "outputs": [],
   "source": [
    "# open material\n",
    "SiO2 = ml.open_material('SiO2', 'Sellmeier')\n",
    "SiN = ml.open_material('SiN', 'Sellmeier')\n",
    "ITO = ml.open_material('ITO', 'Sellmeier')\n",
    "Acrylic = ml.open_material('Acrylic', 'Sellmeier')\n",
    "OC = ml.open_material('OC', 'Sellmeier')\n",
    "sodalime = ml.open_material('sodalime', 'Material')\n",
    "SiO2.k = 1e-3\n",
    "ITO.k = 1e-1\n",
    "SiN.k = 1e-1\n",
    "air = ml.Non_Dispersion(1)"
   ]
  },
  {
   "cell_type": "code",
   "execution_count": 5,
   "metadata": {},
   "outputs": [],
   "source": [
    "SiO2_t = ml.Non_Dispersion(1.48)\n",
    "SiN_t = ml.Non_Dispersion(2.1)\n",
    "ITO_t = ml.Non_Dispersion(1.9)"
   ]
  },
  {
   "cell_type": "code",
   "execution_count": 36,
   "metadata": {},
   "outputs": [
    {
     "name": "stdout",
     "output_type": "stream",
     "text": [
      "[0.0471 0.0485 0.0494 0.0505 0.0514 0.0524 0.0532 0.0539 0.0544 0.0551\n",
      " 0.0555 0.056  0.0563 0.0567 0.0569 0.057  0.0571 0.057  0.057  0.0567\n",
      " 0.0563 0.0559 0.0554 0.0548 0.0542 0.0535 0.0528 0.0519 0.051  0.0501\n",
      " 0.0489 0.0479 0.0469 0.046  0.0449 0.0439 0.0428 0.0416 0.0404 0.0393\n",
      " 0.0379 0.0369 0.0359 0.0348 0.034  0.033  0.032  0.0312 0.0303 0.0297]\n"
     ]
    }
   ],
   "source": [
    "x = 250\n",
    "target_w = np.linspace(400, 700, 301)[x:x+50]\n",
    "target_R = (scan[x:x+50] - 0.11)/100\n",
    "print(target_R)"
   ]
  },
  {
   "cell_type": "code",
   "execution_count": 37,
   "metadata": {},
   "outputs": [],
   "source": [
    "def fom(th):\n",
    "    SiO2_t.n = th[6]\n",
    "    SiO2_t.k = th[7] \n",
    "    SiN_t.n = th[8] \n",
    "    SiN_t.k = th[9] \n",
    "    ITO_t.n = th[10] \n",
    "    ITO_t.k = th[11]\n",
    "    hypo_R = tm.Design([air, Acrylic, SiN_t, SiO2_t, ITO_t, SiO2_t, SiN_t, sodalime],\n",
    "                       [None, th[0], th[1], th[2], th[3], th[4], th[5], None]\n",
    "                      ).reflectance(target_w, 5)\n",
    "    return sum((target_R - hypo_R)**2)"
   ]
  },
  {
   "cell_type": "code",
   "execution_count": 38,
   "metadata": {},
   "outputs": [],
   "source": [
    "tht = [(1600,2100),(8,12),(40,60),(20,26),(40,60),(8,12),\n",
    "       (1.4,1.52),(0,1e-3),(1.9, 3.4),(1e-3,1),(1.7,1.9),(1e-3,1)]\n",
    "sol = de(fom, tht)"
   ]
  },
  {
   "cell_type": "code",
   "execution_count": 39,
   "metadata": {},
   "outputs": [
    {
     "name": "stdout",
     "output_type": "stream",
     "text": [
      "Maximum number of iterations has been exceeded.\n",
      "[1.98811782e+03 8.35106141e+00 4.62921858e+01 2.28321024e+01\n",
      " 5.02515720e+01 9.52627516e+00 1.48240945e+00 6.75672718e-04\n",
      " 2.14256900e+00 9.22651423e-01 1.80030850e+00 2.90965791e-01]\n"
     ]
    }
   ],
   "source": [
    "print(sol.message)\n",
    "print(sol.x)"
   ]
  },
  {
   "cell_type": "code",
   "execution_count": 12,
   "metadata": {},
   "outputs": [],
   "source": [
    "def hyp(th):\n",
    "    SiO2_t.n = th[6]\n",
    "    SiO2_t.k = th[7] \n",
    "    SiN_t.n = th[8] \n",
    "    SiN_t.k = th[9] \n",
    "    ITO_t.n = th[10] \n",
    "    ITO_t.k = th[11]\n",
    "    hypo_R = tm.Design([air, Acrylic, SiN_t, SiO2_t, ITO_t, SiO2_t, SiN_t, sodalime],\n",
    "                       [None, th[0], th[1], th[2], th[3], th[4], th[5], None]\n",
    "                      ).reflectance(target_w, 5)\n",
    "    return hypo_R"
   ]
  },
  {
   "cell_type": "code",
   "execution_count": 13,
   "metadata": {},
   "outputs": [],
   "source": [
    "hypo_R = lambda th: tm.Design([air, Acrylic, SiN, SiO2, ITO, SiO2, SiN, sodalime],\n",
    "                              [None, th[0], th[1], th[2], th[3], th[4], th[5], None]\n",
    "                             ).reflectance(target_w, 5)\n",
    "FOM = lambda th: sum((hypo_R(th)-target_R)**2)"
   ]
  },
  {
   "cell_type": "code",
   "execution_count": 14,
   "metadata": {},
   "outputs": [],
   "source": [
    "th = [(1500, 2500),(4, 20),(20, 80),(10,30),(20, 80),(4,20)]\n",
    "res = de(FOM, th)"
   ]
  },
  {
   "cell_type": "code",
   "execution_count": 15,
   "metadata": {},
   "outputs": [
    {
     "name": "stdout",
     "output_type": "stream",
     "text": [
      "Optimization terminated successfully.\n",
      "[1761.61872795   17.5172188    26.65292249   29.99451415   22.47133706\n",
      "   12.82781435]\n"
     ]
    }
   ],
   "source": [
    "print(res.message)\n",
    "print(res.x)"
   ]
  },
  {
   "cell_type": "code",
   "execution_count": 40,
   "metadata": {
    "scrolled": true
   },
   "outputs": [
    {
     "data": {
      "image/png": "[encoded data removed]",
      "text/plain": [
       "<Figure size 432x288 with 1 Axes>"
      ]
     },
     "metadata": {
      "needs_background": "light"
     },
     "output_type": "display_data"
    }
   ],
   "source": [
    "plt.plot(target_w, target_R)\n",
    "#plt.plot(target_w, hypo_R(res.x))\n",
    "plt.plot(target_w, hyp(sol.x))\n",
    "#plt.savefig('highn.png')\n",
    "plt.show()"
   ]
  }
 ],
 "metadata": {
  "kernelspec": {
   "display_name": "Python 3",
   "language": "python",
   "name": "python3"
  },
  "language_info": {
   "codemirror_mode": {
    "name": "ipython",
    "version": 3
   },
   "file_extension": ".py",
   "mimetype": "text/x-python",
   "name": "python",
   "nbconvert_exporter": "python",
   "pygments_lexer": "ipython3",
   "version": "3.8.2"
  }
 },
 "nbformat": 4,
 "nbformat_minor": 4
}
