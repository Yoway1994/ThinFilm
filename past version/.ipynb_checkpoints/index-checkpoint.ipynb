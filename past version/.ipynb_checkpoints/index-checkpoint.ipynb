{
 "cells": [
  {
   "cell_type": "code",
   "execution_count": 4,
   "metadata": {},
   "outputs": [
    {
     "ename": "ModuleNotFoundError",
     "evalue": "No module named 'material'",
     "output_type": "error",
     "traceback": [
      "\u001b[1;31m---------------------------------------------------------------------------\u001b[0m",
      "\u001b[1;31mModuleNotFoundError\u001b[0m                       Traceback (most recent call last)",
      "\u001b[1;32m<ipython-input-4-7511781552a9>\u001b[0m in \u001b[0;36m<module>\u001b[1;34m\u001b[0m\n\u001b[0;32m      1\u001b[0m \u001b[1;32mimport\u001b[0m \u001b[0mxml\u001b[0m\u001b[1;33m.\u001b[0m\u001b[0metree\u001b[0m\u001b[1;33m.\u001b[0m\u001b[0mElementTree\u001b[0m \u001b[1;32mas\u001b[0m \u001b[0mET\u001b[0m\u001b[1;33m\u001b[0m\u001b[0m\n\u001b[0;32m      2\u001b[0m \u001b[1;32mimport\u001b[0m \u001b[0mmatplotlib\u001b[0m\u001b[1;33m.\u001b[0m\u001b[0mpyplot\u001b[0m \u001b[1;32mas\u001b[0m \u001b[0mplt\u001b[0m\u001b[1;33m\u001b[0m\u001b[0m\n\u001b[1;32m----> 3\u001b[1;33m \u001b[1;32mimport\u001b[0m \u001b[0mmaterial\u001b[0m \u001b[1;32mas\u001b[0m \u001b[0mml\u001b[0m\u001b[1;33m\u001b[0m\u001b[0m\n\u001b[0m\u001b[0;32m      4\u001b[0m \u001b[1;32mimport\u001b[0m \u001b[0mpandas\u001b[0m \u001b[1;32mas\u001b[0m \u001b[0mpd\u001b[0m\u001b[1;33m\u001b[0m\u001b[0m\n\u001b[0;32m      5\u001b[0m \u001b[1;32mimport\u001b[0m \u001b[0mnumpy\u001b[0m \u001b[1;32mas\u001b[0m \u001b[0mnp\u001b[0m\u001b[1;33m\u001b[0m\u001b[0m\n",
      "\u001b[1;31mModuleNotFoundError\u001b[0m: No module named 'material'"
     ]
    }
   ],
   "source": [
    "import xml.etree.ElementTree as ET\n",
    "import matplotlib.pyplot as plt\n",
    "import material as ml\n",
    "import pandas as pd\n",
    "import numpy as np\n",
    "from scipy.optimize import minimize, basinhopping\n",
    "tree = ET.parse('.\\material\\Acrylic_n.xml')\n",
    "root = tree.getroot()\n",
    "\n",
    "wl = []\n",
    "n = []\n",
    "\n",
    "for i in root.iter('point'):\n",
    "    wl.append(float(i.attrib['dx']))\n",
    "    n.append(float(i.attrib['dy']))\n",
    "ww = np.array(wl)\n",
    "n = np.array(n)\n",
    "print(ww, n)"
   ]
  },
  {
   "cell_type": "code",
   "execution_count": 327,
   "metadata": {},
   "outputs": [
    {
     "name": "stdout",
     "output_type": "stream",
     "text": [
      "          ITO       SiN      SiO2   Acrylic\n",
      "A  -35.019537  2.055931  1.199955  2.842879\n",
      "B1 -48.176978  1.654266  0.657433 -1.194511\n",
      "C1 -29.247261  0.025372  0.010144  2.076933\n",
      "B2  29.496265 -0.000180  0.244923  1.129027\n",
      "C2   0.017534  1.257386  0.009445  2.029381\n",
      "B3   8.863457  0.256176  0.006110 -0.656519\n",
      "C3  -0.068653  0.009454  1.405175 -0.049386\n"
     ]
    }
   ],
   "source": [
    "material = pd.read_csv('index.csv', index_col=0)\n",
    "print(material)"
   ]
  },
  {
   "cell_type": "code",
   "execution_count": 328,
   "metadata": {},
   "outputs": [
    {
     "name": "stdout",
     "output_type": "stream",
     "text": [
      "          ITO       SiN      SiO2   Acrylic         OC\n",
      "A  -35.019537  2.055931  1.199955  2.842879   3.097209\n",
      "B1 -48.176978  1.654266  0.657433 -1.194511  -0.904940\n",
      "C1 -29.247261  0.025372  0.010144  2.076933  -0.083487\n",
      "B2  29.496265 -0.000180  0.244923  1.129027   1.048608\n",
      "C2   0.017534  1.257386  0.009445  2.029381   4.796716\n",
      "B3   8.863457  0.256176  0.006110 -0.656519   4.675096\n",
      "C3  -0.068653  0.009454  1.405175 -0.049386 -12.901483\n"
     ]
    }
   ],
   "source": [
    "material['OC'] = res.x\n",
    "print(material)"
   ]
  },
  {
   "cell_type": "code",
   "execution_count": 329,
   "metadata": {},
   "outputs": [
    {
     "name": "stdout",
     "output_type": "stream",
     "text": [
      "          ITO       SiN      SiO2   Acrylic         OC\n",
      "A  -35.019537  2.055931  1.199955  2.842879   3.097209\n",
      "B1 -48.176978  1.654266  0.657433 -1.194511  -0.904940\n",
      "C1 -29.247261  0.025372  0.010144  2.076933  -0.083487\n",
      "B2  29.496265 -0.000180  0.244923  1.129027   1.048608\n",
      "C2   0.017534  1.257386  0.009445  2.029381   4.796716\n",
      "B3   8.863457  0.256176  0.006110 -0.656519   4.675096\n",
      "C3  -0.068653  0.009454  1.405175 -0.049386 -12.901483\n"
     ]
    }
   ],
   "source": [
    "#material.to_csv('index.csv')\n",
    "print(material)"
   ]
  }
 ],
 "metadata": {
  "kernelspec": {
   "display_name": "Python 3",
   "language": "python",
   "name": "python3"
  },
  "language_info": {
   "codemirror_mode": {
    "name": "ipython",
    "version": 3
   },
   "file_extension": ".py",
   "mimetype": "text/x-python",
   "name": "python",
   "nbconvert_exporter": "python",
   "pygments_lexer": "ipython3",
   "version": "3.7.0"
  }
 },
 "nbformat": 4,
 "nbformat_minor": 4
}
