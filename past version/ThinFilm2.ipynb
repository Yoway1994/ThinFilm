{
 "cells": [
  {
   "cell_type": "code",
   "execution_count": 1,
   "metadata": {},
   "outputs": [],
   "source": [
    "import numpy as np\n",
    "import pandas as pd\n",
    "import matplotlib.pyplot as plt\n",
    "from numpy import pi, sin, cos, dot"
   ]
  },
  {
   "cell_type": "code",
   "execution_count": 2,
   "metadata": {},
   "outputs": [],
   "source": [
    "class TF:\n",
    "    def __init__(self, n, d):\n",
    "        self.index = n\n",
    "        self.thickness = d\n",
    "        \n",
    "    def matrix(self, w):\n",
    "        delta = 2*pi*(self.index)*(self.thickness)/w\n",
    "        ita = self.index\n",
    "        element = pd.DataFrame(\n",
    "            {'e1':cos(delta), 'e2':1j/ita*sin(delta), 'e3':1j*ita*sin(delta), 'e4':cos(delta)}\n",
    "        )\n",
    "        matrix = np.reshape(element.values.reshape(1,-1), (np.size(w), 2, 2))\n",
    "        return matrix\n",
    "    \n",
    "def Matrix_dot(layer_up, layer_bot): \n",
    "    w, _, _ = np.shape(layer_up)\n",
    "    eq = [dot(layer_up[i], layer_bot[i]) for i in range(w)]\n",
    "    return eq\n",
    "\n",
    "def Eq_TF_Matrix(design):\n",
    "    eq_matrix = design.pop()\n",
    "    for i in design:\n",
    "        eq_matrix = Matrix_dot(design.pop(), eq_matrix)\n",
    "    return eq_matrix\n",
    "\n",
    "def Eq_admittance(eq, ns):\n",
    "    d, _, _ = np.shape(eq)\n",
    "    eq_y = dot(eq, np.array([[1], [ns]])) \n",
    "    Eq_y = pd.DataFrame(np.reshape(eq_y, (d, 2)), columns = ['B','C'])\n",
    "    Y = Eq_y['C']/Eq_y['B']\n",
    "    return Y.values.reshape(d, 1)\n",
    "    \n",
    "def Reflectance(eq, ns, n0):\n",
    "    eq_Y = Eq_admittance(eq, ns)\n",
    "    r = (n0-eq_Y)/(n0+eq_Y)\n",
    "    R = np.reshape(r*r.conjugate(), np.size(eq_Y))\n",
    "    return np.real(R)"
   ]
  },
  {
   "cell_type": "code",
   "execution_count": 3,
   "metadata": {
    "scrolled": true
   },
   "outputs": [
    {
     "data": {
      "image/png": "[encoded data removed]",
      "text/plain": [
       "<Figure size 432x288 with 1 Axes>"
      ]
     },
     "metadata": {
      "needs_background": "light"
     },
     "output_type": "display_data"
    }
   ],
   "source": [
    "target_w = np.linspace(900,2000, 1000)\n",
    "layer1 = TF(2.1, 288.67).matrix(target_w)\n",
    "layer2 = TF(1.42, 223.67).matrix(target_w)\n",
    "tf_matrix = Eq_TF_Matrix([layer2,layer1])\n",
    "substrate = 1.8\n",
    "air = 1\n",
    "\n",
    "R = Reflectance(tf_matrix, substrate, air)\n",
    "plt.plot(target_w, R)\n",
    "plt.show()"
   ]
  },
  {
   "cell_type": "code",
   "execution_count": 4,
   "metadata": {},
   "outputs": [],
   "source": [
    "def derivative(f1, f2, dx):\n",
    "    return (f2 - f1)/dx\n",
    "\n",
    "def FoM(hofx, target):\n",
    "    merit = sum(abs(hofx-target))\n",
    "    return merit"
   ]
  },
  {
   "cell_type": "code",
   "execution_count": 5,
   "metadata": {},
   "outputs": [
    {
     "data": {
      "image/png": "[encoded data removed]",
      "text/plain": [
       "<Figure size 432x288 with 1 Axes>"
      ]
     },
     "metadata": {
      "needs_background": "light"
     },
     "output_type": "display_data"
    }
   ],
   "source": [
    "w_target = np.linspace(1350, 1550)\n",
    "R_target = np.zeros(np.size(w_target))\n",
    "m = np.size(w_target)\n",
    "d1 = 300 # inital thickness\n",
    "d2 = 200\n",
    "substrate1 = 1.8\n",
    "ambient1 = 1\n",
    "n_layer1 = 2.1\n",
    "n_layer2 = 1.42\n",
    "step = 10**(-8)\n",
    "cost = []\n",
    "costi = []\n",
    "d_i = []\n",
    "for i in range(6000):\n",
    "    alpha1 = 3\n",
    "    alpha2 = 3\n",
    "    ####\n",
    "    layer1 = TF(n_layer1, d1).matrix(w_target)\n",
    "    layer2 = TF(n_layer2, d2).matrix(w_target)\n",
    "    tf_matrix = Eq_TF_Matrix([layer2, layer1])\n",
    "    \n",
    "    layer1_dx = TF(n_layer1, d1+step).matrix(w_target)\n",
    "    tf_matrix_dx1 = Eq_TF_Matrix([layer2, layer1_dx])\n",
    "    \n",
    "    layer2_dx = TF(n_layer2, d2+step).matrix(w_target)\n",
    "    tf_matrix_dx2 = Eq_TF_Matrix([layer2_dx, layer1])\n",
    "           \n",
    "    R_hofx = Reflectance(tf_matrix, substrate1, ambient1)\n",
    "    R_hofx_dx1 = Reflectance(tf_matrix_dx1, substrate1, ambient1)\n",
    "    R_hofx_dx2 = Reflectance(tf_matrix_dx2, substrate1, ambient1)\n",
    "    \n",
    "    J = FoM(R_hofx, R_target)\n",
    "    J_dx1 = FoM(R_hofx_dx1, R_target)\n",
    "    J_dx2 = FoM(R_hofx_dx2, R_target)\n",
    "    ###    \n",
    "    Grad_J1 = derivative(J, J_dx1, step)\n",
    "    Grad_J2 = derivative(J, J_dx2, step)\n",
    "    #print(J, J_dx)\n",
    "    #print(Grad_J)\n",
    "    #print(Grad_J)\n",
    "    d1 = d1-alpha1*Grad_J1\n",
    "    d2 = d2-alpha2*Grad_J2\n",
    "    cost.append(J)\n",
    "    costi.append(i)\n",
    "    d_i.append([d1,d2])\n",
    "plt.plot(costi, cost)\n",
    "plt.show()"
   ]
  },
  {
   "cell_type": "code",
   "execution_count": 6,
   "metadata": {
    "scrolled": true
   },
   "outputs": [
    {
     "name": "stdout",
     "output_type": "stream",
     "text": [
      "[288.5358329405924, 224.4488589071921]\n"
     ]
    }
   ],
   "source": [
    "print(d_i[-1])"
   ]
  },
  {
   "cell_type": "code",
   "execution_count": null,
   "metadata": {},
   "outputs": [],
   "source": []
  }
 ],
 "metadata": {
  "kernelspec": {
   "display_name": "Python 3",
   "language": "python",
   "name": "python3"
  },
  "language_info": {
   "codemirror_mode": {
    "name": "ipython",
    "version": 3
   },
   "file_extension": ".py",
   "mimetype": "text/x-python",
   "name": "python",
   "nbconvert_exporter": "python",
   "pygments_lexer": "ipython3",
   "version": "3.8.2"
  }
 },
 "nbformat": 4,
 "nbformat_minor": 4
}
