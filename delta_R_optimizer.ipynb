{
 "cells": [
  {
   "cell_type": "code",
   "execution_count": 1,
   "metadata": {},
   "outputs": [],
   "source": [
    "import numpy as np\n",
    "import material as ml\n",
    "import thinfilm as tm\n",
    "import matplotlib.pyplot as plt\n",
    "from scipy.optimize import differential_evolution"
   ]
  },
  {
   "cell_type": "code",
   "execution_count": 2,
   "metadata": {},
   "outputs": [],
   "source": [
    "air = ml.Non_Dispersion(1)\n",
    "LOCA = ml.Non_Dispersion(1.405)\n",
    "sodalime = ml.open_material('sodalime', 'Material')\n",
    "OC = ml.open_material('OC_LENS', 'Material')\n",
    "OC_HRI = ml.open_material('OC_HRI_LENS', 'Material')\n",
    "SiO2 = ml.open_material('SiO2_LENS', 'Sellmeier')\n",
    "ITO = ml.open_material('ITO_LENS', 'Sellmeier')\n",
    "SiN = ml.open_material('SiN_LENS', 'Sellmeier')"
   ]
  },
  {
   "cell_type": "code",
   "execution_count": 3,
   "metadata": {},
   "outputs": [],
   "source": [
    "wl = np.linspace(400, 700, 301)\n",
    "wl1 = np.linspace(400, 450, 51)\n",
    "wl2 = np.linspace(450, 700, 251)\n",
    "\n",
    "bridge_11 = lambda th:tm.Design(\n",
    "    [LOCA,OC,SiN,SiO2,ITO,OC,ITO,SiO2,SiN,sodalime],\n",
    "    [None, th['acr']-th['oc'], th['t_sin'], th['t_sio2'], th['b_ito'], th['oc'], th['ito'], th['b_sio2'], th['b_sin'], None]\n",
    ").reflectance(wl)\n",
    "diamond_11 = lambda th: tm.Design(\n",
    "    [LOCA,OC,SiN,SiO2,ITO,SiO2,SiN,sodalime],\n",
    "    [None, th['acr'], th['t_sin'], th['t_sio2'], th['ito'], th['b_sio2'], th['b_sin'], None]\n",
    ").reflectance(wl)\n",
    "trace_11 = lambda th: tm.Design(\n",
    "    [LOCA,OC,SiN,SiO2,SiO2,SiN,sodalime],\n",
    "    [None, th['acr'], th['t_sin'], th['t_sio2'],th['b_sio2'], th['b_sin'], None]\n",
    ").reflectance(wl)\n",
    "\n",
    "bridge_12 = lambda th:tm.Design(\n",
    "    [LOCA,OC,SiN,SiO2,ITO,OC,ITO,SiO2,SiN,sodalime],\n",
    "    [None, th['acr']-th['oc'], th['t_sin'], th['t_sio2'], th['b_ito'], th['oc'], th['ito'], th['b_sio2'], th['b_sin'], None]\n",
    ").reflectance(wl2)\n",
    "diamond_12 = lambda th: tm.Design(\n",
    "    [LOCA,OC,SiN,SiO2,ITO,SiO2,SiN,sodalime],\n",
    "    [None, th['acr'], th['t_sin'], th['t_sio2'], th['ito'], th['b_sio2'], th['b_sin'], None]\n",
    ").reflectance(wl2)\n",
    "trace_12 = lambda th: tm.Design(\n",
    "    [LOCA,OC,SiN,SiO2,SiO2,SiN,sodalime],\n",
    "    [None, th['acr'], th['t_sin'], th['t_sio2'],th['b_sio2'], th['b_sin'], None]\n",
    ").reflectance(wl2)\n",
    "\n",
    "delta_d_b_11 = lambda th: sum(abs(diamond_11(th)-bridge_11(th)))\n",
    "delta_d_t_11 = lambda th: sum(abs(diamond_11(th)-trace_11(th)))\n",
    "delta_d_b_12 = lambda th: sum(abs(diamond_12(th)-bridge_12(th)))\n",
    "delta_d_t_12 = lambda th: sum(abs(diamond_12(th)-trace_12(th)))\n",
    "\n",
    "def th(tht):\n",
    "    th = {}\n",
    "    th['acr'] = tht[0]\n",
    "    th['t_sin'] = tht[1]\n",
    "    th['t_sio2'] = tht[2]\n",
    "    th['b_ito'] = tht[3]\n",
    "    th['oc'] = tht[4]\n",
    "    th['ito'] = tht[5]\n",
    "    th['b_sio2'] = tht[6]\n",
    "    th['b_sin'] = tht[7]\n",
    "    return th\n",
    "fom = lambda tht: delta_d_t_11(th(tht))+delta_d_b_11(th(tht))#+delta_d_b_12(th(tht))+delta_d_t_12(th(tht))"
   ]
  },
  {
   "cell_type": "code",
   "execution_count": null,
   "metadata": {},
   "outputs": [],
   "source": [
    "res = differential_evolution(\n",
    "    fom, [\n",
    "        (1500,2200),(0,100),(0,100),(20,30),(1200,1201),(20,120),(0,100),(0,100)\n",
    "    ]\n",
    ")"
   ]
  },
  {
   "cell_type": "code",
   "execution_count": 4,
   "metadata": {},
   "outputs": [
    {
     "ename": "NameError",
     "evalue": "name 'res' is not defined",
     "output_type": "error",
     "traceback": [
      "\u001b[1;31m---------------------------------------------------------------------------\u001b[0m",
      "\u001b[1;31mNameError\u001b[0m                                 Traceback (most recent call last)",
      "\u001b[1;32m<ipython-input-4-56749f2992f9>\u001b[0m in \u001b[0;36m<module>\u001b[1;34m\u001b[0m\n\u001b[1;32m----> 1\u001b[1;33m \u001b[0mprint\u001b[0m\u001b[1;33m(\u001b[0m\u001b[0mres\u001b[0m\u001b[1;33m.\u001b[0m\u001b[0mx\u001b[0m\u001b[1;33m)\u001b[0m\u001b[1;33m\u001b[0m\u001b[1;33m\u001b[0m\u001b[0m\n\u001b[0m\u001b[0;32m      2\u001b[0m \u001b[0mte\u001b[0m \u001b[1;33m=\u001b[0m \u001b[0mth\u001b[0m\u001b[1;33m(\u001b[0m\u001b[0mres\u001b[0m\u001b[1;33m.\u001b[0m\u001b[0mx\u001b[0m\u001b[1;33m)\u001b[0m\u001b[1;33m\u001b[0m\u001b[1;33m\u001b[0m\u001b[0m\n\u001b[0;32m      3\u001b[0m \u001b[0mplt\u001b[0m\u001b[1;33m.\u001b[0m\u001b[0mplot\u001b[0m\u001b[1;33m(\u001b[0m\u001b[0mwl\u001b[0m\u001b[1;33m,\u001b[0m \u001b[0mdiamond_11\u001b[0m\u001b[1;33m(\u001b[0m\u001b[0mte\u001b[0m\u001b[1;33m)\u001b[0m\u001b[1;33m,\u001b[0m \u001b[1;34m'k-'\u001b[0m\u001b[1;33m,\u001b[0m \u001b[0mlabel\u001b[0m \u001b[1;33m=\u001b[0m \u001b[1;34m'diamond'\u001b[0m\u001b[1;33m)\u001b[0m\u001b[1;33m\u001b[0m\u001b[1;33m\u001b[0m\u001b[0m\n\u001b[0;32m      4\u001b[0m \u001b[0mplt\u001b[0m\u001b[1;33m.\u001b[0m\u001b[0mplot\u001b[0m\u001b[1;33m(\u001b[0m\u001b[0mwl\u001b[0m\u001b[1;33m,\u001b[0m \u001b[0mbridge_11\u001b[0m\u001b[1;33m(\u001b[0m\u001b[0mte\u001b[0m\u001b[1;33m)\u001b[0m\u001b[1;33m,\u001b[0m \u001b[1;34m'r-'\u001b[0m\u001b[1;33m,\u001b[0m \u001b[0mlabel\u001b[0m \u001b[1;33m=\u001b[0m \u001b[1;34m'bridge'\u001b[0m\u001b[1;33m)\u001b[0m\u001b[1;33m\u001b[0m\u001b[1;33m\u001b[0m\u001b[0m\n\u001b[0;32m      5\u001b[0m \u001b[0mplt\u001b[0m\u001b[1;33m.\u001b[0m\u001b[0mplot\u001b[0m\u001b[1;33m(\u001b[0m\u001b[0mwl\u001b[0m\u001b[1;33m,\u001b[0m \u001b[0mtrace_11\u001b[0m\u001b[1;33m(\u001b[0m\u001b[0mte\u001b[0m\u001b[1;33m)\u001b[0m\u001b[1;33m,\u001b[0m \u001b[1;34m'b-'\u001b[0m\u001b[1;33m,\u001b[0m \u001b[0mlabel\u001b[0m \u001b[1;33m=\u001b[0m \u001b[1;34m'trace'\u001b[0m\u001b[1;33m)\u001b[0m\u001b[1;33m\u001b[0m\u001b[1;33m\u001b[0m\u001b[0m\n",
      "\u001b[1;31mNameError\u001b[0m: name 'res' is not defined"
     ]
    }
   ],
   "source": [
    "print(res.x)\n",
    "te = th(res.x)\n",
    "plt.plot(wl, diamond_11(te), 'k-', label = 'diamond')\n",
    "plt.plot(wl, bridge_11(te), 'r-', label = 'bridge')\n",
    "plt.plot(wl, trace_11(te), 'b-', label = 'trace')\n",
    "#plt.plot(wl2, diamond_12(te), 'k-')\n",
    "#plt.plot(wl2, bridge_12(te), 'r-')\n",
    "#plt.plot(wl2, trace_12(te), 'b-')\n",
    "plt.legend(loc = 'best')\n",
    "#plt.savefig('test2.png')\n",
    "plt.show()"
   ]
  },
  {
   "cell_type": "code",
   "execution_count": 5,
   "metadata": {},
   "outputs": [
    {
     "ename": "NameError",
     "evalue": "name 'res' is not defined",
     "output_type": "error",
     "traceback": [
      "\u001b[1;31m---------------------------------------------------------------------------\u001b[0m",
      "\u001b[1;31mNameError\u001b[0m                                 Traceback (most recent call last)",
      "\u001b[1;32m<ipython-input-5-afdddad3cd08>\u001b[0m in \u001b[0;36m<module>\u001b[1;34m\u001b[0m\n\u001b[0;32m     14\u001b[0m )\n\u001b[0;32m     15\u001b[0m \u001b[1;33m\u001b[0m\u001b[0m\n\u001b[1;32m---> 16\u001b[1;33m \u001b[0mplt\u001b[0m\u001b[1;33m.\u001b[0m\u001b[0mplot\u001b[0m\u001b[1;33m(\u001b[0m\u001b[0mwl\u001b[0m\u001b[1;33m,\u001b[0m \u001b[0mfit_bri\u001b[0m\u001b[1;33m(\u001b[0m\u001b[0mres\u001b[0m\u001b[1;33m.\u001b[0m\u001b[0mx\u001b[0m\u001b[1;33m)\u001b[0m\u001b[1;33m.\u001b[0m\u001b[0mreflectance\u001b[0m\u001b[1;33m(\u001b[0m\u001b[0mwl\u001b[0m\u001b[1;33m)\u001b[0m\u001b[1;33m,\u001b[0m \u001b[1;34m'-r'\u001b[0m\u001b[1;33m)\u001b[0m\u001b[1;33m\u001b[0m\u001b[1;33m\u001b[0m\u001b[0m\n\u001b[0m\u001b[0;32m     17\u001b[0m \u001b[0mplt\u001b[0m\u001b[1;33m.\u001b[0m\u001b[0mplot\u001b[0m\u001b[1;33m(\u001b[0m\u001b[0mwl\u001b[0m\u001b[1;33m,\u001b[0m \u001b[0mfit_dia\u001b[0m\u001b[1;33m(\u001b[0m\u001b[0mres\u001b[0m\u001b[1;33m.\u001b[0m\u001b[0mx\u001b[0m\u001b[1;33m)\u001b[0m\u001b[1;33m.\u001b[0m\u001b[0mreflectance\u001b[0m\u001b[1;33m(\u001b[0m\u001b[0mwl\u001b[0m\u001b[1;33m)\u001b[0m\u001b[1;33m,\u001b[0m \u001b[1;34m'-k'\u001b[0m\u001b[1;33m)\u001b[0m\u001b[1;33m\u001b[0m\u001b[1;33m\u001b[0m\u001b[0m\n\u001b[0;32m     18\u001b[0m \u001b[0mplt\u001b[0m\u001b[1;33m.\u001b[0m\u001b[0mplot\u001b[0m\u001b[1;33m(\u001b[0m\u001b[0mwl\u001b[0m\u001b[1;33m,\u001b[0m \u001b[0mfit_tra\u001b[0m\u001b[1;33m(\u001b[0m\u001b[0mres\u001b[0m\u001b[1;33m.\u001b[0m\u001b[0mx\u001b[0m\u001b[1;33m)\u001b[0m\u001b[1;33m.\u001b[0m\u001b[0mreflectance\u001b[0m\u001b[1;33m(\u001b[0m\u001b[0mwl\u001b[0m\u001b[1;33m)\u001b[0m\u001b[1;33m,\u001b[0m \u001b[1;34m'-b'\u001b[0m\u001b[1;33m)\u001b[0m\u001b[1;33m\u001b[0m\u001b[1;33m\u001b[0m\u001b[0m\n",
      "\u001b[1;31mNameError\u001b[0m: name 'res' is not defined"
     ]
    }
   ],
   "source": [
    "fit_bri = lambda th: tm.Design(\n",
    "    [air, OC, SiN, SiO2, ITO, OC, ITO, SiO2, SiN, sodalime],\n",
    "    [None, th[0]-th[4], th[1], th[2], th[3], th[4], th[5], th[6], th[7], None]\n",
    ")\n",
    "\n",
    "fit_dia = lambda th: tm.Design(\n",
    "    [air, OC, SiN, SiO2, ITO, SiO2, SiN, sodalime],\n",
    "    [None, th[0], th[1], th[2], th[5], th[6], th[7], None]\n",
    ")\n",
    "\n",
    "fit_tra = lambda th: tm.Design(\n",
    "    [air, OC, SiN, SiO2,SiO2, SiN, sodalime],\n",
    "    [None, th[0], th[1], th[2], th[6], th[7], None]\n",
    ")\n",
    "\n",
    "plt.plot(wl, fit_bri(res.x).reflectance(wl), '-r')\n",
    "plt.plot(wl, fit_dia(res.x).reflectance(wl), '-k')\n",
    "plt.plot(wl, fit_tra(res.x).reflectance(wl), '-b')\n",
    "plt.show()"
   ]
  },
  {
   "cell_type": "code",
   "execution_count": 6,
   "metadata": {},
   "outputs": [
    {
     "data": {
      "text/plain": [
       "[[0.012741976725894897, 0.01069297378099052, 0.0020490029449043764],\n",
       " [0.012430531782080905, 0.010254210023979625, 0.00217632175810128],\n",
       " [0.011455384951304007, 0.011059925981754119, 0.00039545896954988786],\n",
       " [0.011248078799760405, 0.011175574031483967, 7.250476827643827e-05],\n",
       " [0.011259488409485539, 0.011102510672310982, 0.00015697773717455663],\n",
       " [0.012085822920429045, 0.011016687653464304, 0.0010691352669647408],\n",
       " [0.015049018151516486, 0.008771026821005811, 0.0062779913305106745],\n",
       " [0.011276820021412452, 0.011159036911131601, 0.0001177831102808502]]"
      ]
     },
     "execution_count": 6,
     "metadata": {},
     "output_type": "execute_result"
    }
   ],
   "source": [
    "TPK_bridge = tm.Design(\n",
    "    [LOCA, OC, SiN, SiO2, ITO, OC_HRI, ITO, SiO2, SiN, sodalime],\n",
    "    [None,1003,23.17,19.73,120,885.68,20,35.1,13.18, None]\n",
    ")\n",
    "tm.margin(TPK_bridge,5,wl)"
   ]
  },
  {
   "cell_type": "code",
   "execution_count": 7,
   "metadata": {},
   "outputs": [
    {
     "data": {
      "text/plain": [
       "[[0.009780640561640973, 0.008498871242927216, 0.001281769318713757],\n",
       " [0.0089126570432107, 0.008459055946249884, 0.00045360109696081577],\n",
       " [0.008960586751260394, 0.008272640530136136, 0.0006879462211242578],\n",
       " [0.008555594009884423, 0.008545274321582514, 1.0319688301908478e-05],\n",
       " [0.009916998904680844, 0.007856694821535452, 0.0020603040831453923],\n",
       " [0.008737006128084795, 0.008545351080588405, 0.0001916550474963894],\n",
       " [0.010447477704750185, 0.008278655746269969, 0.0021688219584802167],\n",
       " [0.008583485892309417, 0.008515246278673958, 6.82396136354596e-05]]"
      ]
     },
     "execution_count": 7,
     "metadata": {},
     "output_type": "execute_result"
    }
   ],
   "source": [
    "LENS_bridge = tm.Design(\n",
    "    [LOCA, OC, SiN, SiO2, ITO, OC, ITO, SiO2, SiN, sodalime],\n",
    "    [None,2185.46,9.04,47.85,20,1201,120,29.04,12.9, None]\n",
    ")\n",
    "\n",
    "tm.margin(LENS_bridge,5,wl)"
   ]
  },
  {
   "cell_type": "code",
   "execution_count": null,
   "metadata": {},
   "outputs": [],
   "source": [
    "bridge_21 = lambda th:tm.Design(\n",
    "    [air, OC_LENS, SiN_LENS, SiO2_LENS, SiN_LENS, SiO2_LENS, ITO_LENS, OC_LENS, ITO_LENS ,SiO2_LENS, SiN_LENS, sodalime],\n",
    "    [None, th['acr']-th['oc'], th['tt_sin'], th['tt_sio2'], th['t_sin'], th['t_sio2'], th['b_ito'], th['oc'], th['ito'], th['b_sio2'], th['b_sin'], None]\n",
    ").reflectance(wl1)\n",
    "diamond_21 = lambda th: tm.Design(\n",
    "    [air, OC_LENS, SiN_LENS, SiO2_LENS, SiN_LENS, SiO2_LENS, ITO_LENS, SiO2_LENS, SiN_LENS, sodalime],\n",
    "    [None, th['acr'], th['tt_sin'], th['tt_sio2'],th['t_sin'], th['t_sio2'], th['ito'], th['b_sio2'], th['b_sin'], None]\n",
    ").reflectance(wl1)\n",
    "trace_21 = lambda th: tm.Design(\n",
    "    [air, OC_LENS, SiN_LENS, SiO2_LENS, SiN_LENS, SiO2_LENS, SiO2_LENS, SiN_LENS, sodalime],\n",
    "    [None, th['acr'], th['tt_sin'], th['tt_sio2'], th['t_sin'], th['t_sio2'],th['b_sio2'], th['b_sin'], None]\n",
    ").reflectance(wl1)\n",
    "\n",
    "bridge_22 = lambda th:tm.Design(\n",
    "    [air, OC_LENS, SiN_LENS, SiO2_LENS, SiN_LENS, SiO2_LENS, ITO_LENS, OC_LENS, ITO_LENS ,SiO2_LENS, SiN_LENS, sodalime],\n",
    "    [None, th['acr']-th['oc'], th['tt_sin'], th['tt_sio2'], th['t_sin'], th['t_sio2'], th['b_ito'], th['oc'], th['ito'], th['b_sio2'], th['b_sin'], None]\n",
    ").reflectance(wl2)\n",
    "diamond_22 = lambda th: tm.Design(\n",
    "    [air, OC_LENS, SiN_LENS, SiO2_LENS, SiN_LENS, SiO2_LENS, ITO_LENS, SiO2_LENS, SiN_LENS, sodalime],\n",
    "    [None, th['acr'], th['tt_sin'], th['tt_sio2'],th['t_sin'], th['t_sio2'], th['ito'], th['b_sio2'], th['b_sin'], None]\n",
    ").reflectance(wl2)\n",
    "trace_22 = lambda th: tm.Design(\n",
    "    [air, OC_LENS, SiN_LENS, SiO2_LENS, SiN_LENS, SiO2_LENS, SiO2_LENS, SiN_LENS, sodalime],\n",
    "    [None, th['acr'], th['tt_sin'], th['tt_sio2'], th['t_sin'], th['t_sio2'],th['b_sio2'], th['b_sin'], None]\n",
    ").reflectance(wl2)\n",
    "\n",
    "delta_d_b_21 = lambda th: sum(abs(diamond_21(th)-bridge_21(th)))\n",
    "delta_d_t_21 = lambda th: sum(abs(diamond_21(th)-trace_21(th)))\n",
    "delta_d_b_22 = lambda th: sum(abs(diamond_22(th)-bridge_22(th)))\n",
    "delta_d_t_22 = lambda th: sum(abs(diamond_22(th)-trace_22(th)))\n",
    "\n",
    "def th2(tht):\n",
    "    th = {}\n",
    "    th['acr'] = tht[0]\n",
    "    th['tt_sin'] = tht[1]\n",
    "    th['tt_sio2'] = tht[2]\n",
    "    th['t_sin'] = tht[3]\n",
    "    th['t_sio2'] = tht[4]\n",
    "    th['b_ito'] = tht[5]\n",
    "    th['oc'] = tht[6]\n",
    "    th['ito'] = tht[7]\n",
    "    th['b_sio2'] = tht[8]\n",
    "    th['b_sin'] = tht[9]\n",
    "    return th\n",
    "fom2 = lambda tht: delta_d_b_21(th2(tht)) + 5*delta_d_t_21(th2(tht)) + delta_d_b_22(th2(tht)) + delta_d_t_22(th2(tht))"
   ]
  },
  {
   "cell_type": "code",
   "execution_count": null,
   "metadata": {},
   "outputs": [],
   "source": [
    "res2 = differential_evolution(\n",
    "    fom2, [\n",
    "        (1700,2200),(4,20),(20,80),(4,20),(20,80),(20,120),(1000,1500),(20,26),(20,80),(4,20)\n",
    "    ]\n",
    ")\n",
    "\n",
    "print(res2.x)\n",
    "te2 = th2(res2.x)\n",
    "plt.plot(wl1, diamond_21(te2), 'k-', label = 'diamond')\n",
    "plt.plot(wl1, bridge_21(te2), 'r-', label = 'bridge')\n",
    "plt.plot(wl1, trace_21(te2), 'b-', label = 'trace')\n",
    "plt.plot(wl2, diamond_22(te2), 'k-')\n",
    "plt.plot(wl2, bridge_22(te2), 'r-')\n",
    "plt.plot(wl2, trace_22(te2), 'b-')\n",
    "plt.legend(loc = 'best')\n",
    "plt.show()"
   ]
  },
  {
   "cell_type": "code",
   "execution_count": null,
   "metadata": {},
   "outputs": [],
   "source": []
  }
 ],
 "metadata": {
  "kernelspec": {
   "display_name": "Python 3",
   "language": "python",
   "name": "python3"
  },
  "language_info": {
   "codemirror_mode": {
    "name": "ipython",
    "version": 3
   },
   "file_extension": ".py",
   "mimetype": "text/x-python",
   "name": "python",
   "nbconvert_exporter": "python",
   "pygments_lexer": "ipython3",
   "version": "3.8.2"
  }
 },
 "nbformat": 4,
 "nbformat_minor": 4
}
